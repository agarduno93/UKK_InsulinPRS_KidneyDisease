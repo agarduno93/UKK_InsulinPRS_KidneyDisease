{
 "cells": [
  {
   "cell_type": "code",
   "execution_count": 1,
   "id": "b284aa06-50b2-48de-abdb-fd66289d88dd",
   "metadata": {},
   "outputs": [
    {
     "name": "stderr",
     "output_type": "stream",
     "text": [
      "Loading required package: ggplot2\n",
      "\n",
      "\n",
      "Attaching package: ‘dplyr’\n",
      "\n",
      "\n",
      "The following objects are masked from ‘package:stats’:\n",
      "\n",
      "    filter, lag\n",
      "\n",
      "\n",
      "The following objects are masked from ‘package:base’:\n",
      "\n",
      "    intersect, setdiff, setequal, union\n",
      "\n",
      "\n",
      "Loading required package: Matrix\n",
      "\n",
      "Loading required package: Hmisc\n",
      "\n",
      "Loading required package: lattice\n",
      "\n",
      "Loading required package: survival\n",
      "\n",
      "Loading required package: Formula\n",
      "\n",
      "\n",
      "Attaching package: ‘Hmisc’\n",
      "\n",
      "\n",
      "The following objects are masked from ‘package:dplyr’:\n",
      "\n",
      "    src, summarize\n",
      "\n",
      "\n",
      "The following objects are masked from ‘package:base’:\n",
      "\n",
      "    format.pval, units\n",
      "\n",
      "\n",
      "Loading required package: SparseM\n",
      "\n",
      "\n",
      "Attaching package: ‘SparseM’\n",
      "\n",
      "\n",
      "The following object is masked from ‘package:base’:\n",
      "\n",
      "    backsolve\n",
      "\n",
      "\n",
      "Loading required package: nlme\n",
      "\n",
      "\n",
      "Attaching package: ‘nlme’\n",
      "\n",
      "\n",
      "The following object is masked from ‘package:lme4’:\n",
      "\n",
      "    lmList\n",
      "\n",
      "\n",
      "The following object is masked from ‘package:dplyr’:\n",
      "\n",
      "    collapse\n",
      "\n",
      "\n",
      "This is mgcv 1.8-40. For overview type 'help(\"mgcv-package\")'.\n",
      "\n",
      "── \u001b[1mAttaching packages\u001b[22m ─────────────────────────────────────── tidyverse 1.3.1 ──\n",
      "\n",
      "\u001b[32m✔\u001b[39m \u001b[34mtibble \u001b[39m 3.1.6     \u001b[32m✔\u001b[39m \u001b[34mpurrr  \u001b[39m 0.3.4\n",
      "\u001b[32m✔\u001b[39m \u001b[34mtidyr  \u001b[39m 1.2.0     \u001b[32m✔\u001b[39m \u001b[34mforcats\u001b[39m 0.5.1\n",
      "\u001b[32m✔\u001b[39m \u001b[34mreadr  \u001b[39m 2.1.2     \n",
      "\n",
      "── \u001b[1mConflicts\u001b[22m ────────────────────────────────────────── tidyverse_conflicts() ──\n",
      "\u001b[31m✖\u001b[39m \u001b[34mnlme\u001b[39m::\u001b[32mcollapse()\u001b[39m   masks \u001b[34mdplyr\u001b[39m::collapse()\n",
      "\u001b[31m✖\u001b[39m \u001b[34mtidyr\u001b[39m::\u001b[32mexpand()\u001b[39m    masks \u001b[34mMatrix\u001b[39m::expand()\n",
      "\u001b[31m✖\u001b[39m \u001b[34mdplyr\u001b[39m::\u001b[32mfilter()\u001b[39m    masks \u001b[34mstats\u001b[39m::filter()\n",
      "\u001b[31m✖\u001b[39m \u001b[34mdplyr\u001b[39m::\u001b[32mlag()\u001b[39m       masks \u001b[34mstats\u001b[39m::lag()\n",
      "\u001b[31m✖\u001b[39m \u001b[34mtidyr\u001b[39m::\u001b[32mpack()\u001b[39m      masks \u001b[34mMatrix\u001b[39m::pack()\n",
      "\u001b[31m✖\u001b[39m \u001b[34mHmisc\u001b[39m::\u001b[32msrc()\u001b[39m       masks \u001b[34mdplyr\u001b[39m::src()\n",
      "\u001b[31m✖\u001b[39m \u001b[34mHmisc\u001b[39m::\u001b[32msummarize()\u001b[39m masks \u001b[34mdplyr\u001b[39m::summarize()\n",
      "\u001b[31m✖\u001b[39m \u001b[34mtidyr\u001b[39m::\u001b[32munpack()\u001b[39m    masks \u001b[34mMatrix\u001b[39m::unpack()\n",
      "\n",
      "Loading required package: R.oo\n",
      "\n",
      "Loading required package: R.methodsS3\n",
      "\n",
      "R.methodsS3 v1.8.1 (2020-08-26 16:20:06 UTC) successfully loaded. See ?R.methodsS3 for help.\n",
      "\n",
      "R.oo v1.24.0 (2020-08-26 16:11:58 UTC) successfully loaded. See ?R.oo for help.\n",
      "\n",
      "\n",
      "Attaching package: ‘R.oo’\n",
      "\n",
      "\n",
      "The following object is masked from ‘package:R.methodsS3’:\n",
      "\n",
      "    throw\n",
      "\n",
      "\n",
      "The following objects are masked from ‘package:methods’:\n",
      "\n",
      "    getClasses, getMethods\n",
      "\n",
      "\n",
      "The following objects are masked from ‘package:base’:\n",
      "\n",
      "    attach, detach, load, save\n",
      "\n",
      "\n",
      "R.utils v2.11.0 (2021-09-26 08:30:02 UTC) successfully loaded. See ?R.utils for help.\n",
      "\n",
      "\n",
      "Attaching package: ‘R.utils’\n",
      "\n",
      "\n",
      "The following object is masked from ‘package:tidyr’:\n",
      "\n",
      "    extract\n",
      "\n",
      "\n",
      "The following object is masked from ‘package:rms’:\n",
      "\n",
      "    validate\n",
      "\n",
      "\n",
      "The following object is masked from ‘package:Hmisc’:\n",
      "\n",
      "    capitalize\n",
      "\n",
      "\n",
      "The following object is masked from ‘package:utils’:\n",
      "\n",
      "    timestamp\n",
      "\n",
      "\n",
      "The following objects are masked from ‘package:base’:\n",
      "\n",
      "    cat, commandArgs, getOption, inherits, isOpen, nullfile, parse,\n",
      "    warnings\n",
      "\n",
      "\n",
      "\n",
      "Attaching package: ‘data.table’\n",
      "\n",
      "\n",
      "The following object is masked from ‘package:purrr’:\n",
      "\n",
      "    transpose\n",
      "\n",
      "\n",
      "The following objects are masked from ‘package:dplyr’:\n",
      "\n",
      "    between, first, last\n",
      "\n",
      "\n",
      "Loading required package: qgam\n",
      "\n",
      "\n",
      "Attaching package: ‘qgam’\n",
      "\n",
      "\n",
      "The following object is masked from ‘package:R.oo’:\n",
      "\n",
      "    check\n",
      "\n",
      "\n",
      "Registered S3 method overwritten by 'GGally':\n",
      "  method from   \n",
      "  +.gg   ggplot2\n",
      "\n",
      "Registered S3 method overwritten by 'mgcViz':\n",
      "  method from  \n",
      "  +.gg   GGally\n",
      "\n",
      "\n",
      "Attaching package: ‘mgcViz’\n",
      "\n",
      "\n",
      "The following object is masked from ‘package:Hmisc’:\n",
      "\n",
      "    zoom\n",
      "\n",
      "\n",
      "The following object is masked from ‘package:lattice’:\n",
      "\n",
      "    qq\n",
      "\n",
      "\n",
      "The following objects are masked from ‘package:stats’:\n",
      "\n",
      "    qqline, qqnorm, qqplot\n",
      "\n",
      "\n"
     ]
    },
    {
     "data": {
      "text/html": [
       "<style>\n",
       ".list-inline {list-style: none; margin:0; padding: 0}\n",
       ".list-inline>li {display: inline-block}\n",
       ".list-inline>li:not(:last-child)::after {content: \"\\00b7\"; padding: 0 .5ex}\n",
       "</style>\n",
       "<ol class=list-inline><li>373487</li><li>61</li></ol>\n"
      ],
      "text/latex": [
       "\\begin{enumerate*}\n",
       "\\item 373487\n",
       "\\item 61\n",
       "\\end{enumerate*}\n"
      ],
      "text/markdown": [
       "1. 373487\n",
       "2. 61\n",
       "\n",
       "\n"
      ],
      "text/plain": [
       "[1] 373487     61"
      ]
     },
     "metadata": {},
     "output_type": "display_data"
    },
    {
     "data": {
      "text/plain": [
       "\n",
       "CKD controls          CKD \n",
       "      349669         6108 "
      ]
     },
     "metadata": {},
     "output_type": "display_data"
    },
    {
     "data": {
      "text/plain": [
       "\n",
       "CKD controls  CKD extreme \n",
       "      349669          984 "
      ]
     },
     "metadata": {},
     "output_type": "display_data"
    },
    {
     "data": {
      "text/plain": [
       "\n",
       " normo  micro \n",
       "348496  14070 "
      ]
     },
     "metadata": {},
     "output_type": "display_data"
    },
    {
     "data": {
      "text/plain": [
       "\n",
       " normo  macro \n",
       "348496   1120 "
      ]
     },
     "metadata": {},
     "output_type": "display_data"
    },
    {
     "data": {
      "text/plain": [
       "\n",
       "    no    yes \n",
       "356332    447 "
      ]
     },
     "metadata": {},
     "output_type": "display_data"
    },
    {
     "data": {
      "text/plain": [
       "\n",
       "    no    yes \n",
       "345597   1469 "
      ]
     },
     "metadata": {},
     "output_type": "display_data"
    },
    {
     "data": {
      "text/plain": [
       "\n",
       "    no    yes \n",
       "332345  15439 "
      ]
     },
     "metadata": {},
     "output_type": "display_data"
    },
    {
     "data": {
      "text/plain": [
       "\n",
       "    no    yes \n",
       "356332    447 "
      ]
     },
     "metadata": {},
     "output_type": "display_data"
    },
    {
     "data": {
      "text/plain": [
       "\n",
       "macro  ESKD \n",
       "  963   447 "
      ]
     },
     "metadata": {},
     "output_type": "display_data"
    },
    {
     "data": {
      "text/plain": [
       "\n",
       "  albu   ESKD \n",
       "346560    447 "
      ]
     },
     "metadata": {},
     "output_type": "display_data"
    },
    {
     "data": {
      "text/plain": [
       "\n",
       "DNCKD Control         DNCKD \n",
       "       326513           645 "
      ]
     },
     "metadata": {},
     "output_type": "display_data"
    },
    {
     "data": {
      "text/plain": [
       "    Min.  1st Qu.   Median     Mean  3rd Qu.     Max.     NA's \n",
       "    1.74     5.76     9.17    26.05    17.71 10154.49   261777 "
      ]
     },
     "metadata": {},
     "output_type": "display_data"
    },
    {
     "data": {
      "text/plain": [
       "   Min. 1st Qu.  Median    Mean 3rd Qu.    Max.    NA's \n",
       "  2.895  83.227  92.930  90.985  99.989 217.806   16726 "
      ]
     },
     "metadata": {},
     "output_type": "display_data"
    },
    {
     "name": "stdout",
     "output_type": "stream",
     "text": [
      "[1] \"UACR, Distribution before Transformation\"\n"
     ]
    },
    {
     "data": {
      "image/png": "[encoded data removed]",
      "text/plain": [
       "plot without title"
      ]
     },
     "metadata": {
      "image/png": {
       "height": 420,
       "width": 420
      }
     },
     "output_type": "display_data"
    },
    {
     "name": "stdout",
     "output_type": "stream",
     "text": [
      "[1] \"Inverse Normal Transformation, ACR\"\n"
     ]
    },
    {
     "data": {
      "image/png": "[encoded data removed]",
      "text/plain": [
       "plot without title"
      ]
     },
     "metadata": {
      "image/png": {
       "height": 420,
       "width": 420
      }
     },
     "output_type": "display_data"
    },
    {
     "data": {
      "image/png": "[encoded data removed]",
      "text/plain": [
       "plot without title"
      ]
     },
     "metadata": {
      "image/png": {
       "height": 420,
       "width": 420
      }
     },
     "output_type": "display_data"
    },
    {
     "data": {
      "text/html": [
       "<style>\n",
       ".list-inline {list-style: none; margin:0; padding: 0}\n",
       ".list-inline>li {display: inline-block}\n",
       ".list-inline>li:not(:last-child)::after {content: \"\\00b7\"; padding: 0 .5ex}\n",
       "</style>\n",
       "<ol class=list-inline><li>373487</li><li>68</li></ol>\n"
      ],
      "text/latex": [
       "\\begin{enumerate*}\n",
       "\\item 373487\n",
       "\\item 68\n",
       "\\end{enumerate*}\n"
      ],
      "text/markdown": [
       "1. 373487\n",
       "2. 68\n",
       "\n",
       "\n"
      ],
      "text/plain": [
       "[1] 373487     68"
      ]
     },
     "metadata": {},
     "output_type": "display_data"
    },
    {
     "data": {
      "text/html": [
       "<style>\n",
       ".list-inline {list-style: none; margin:0; padding: 0}\n",
       ".list-inline>li {display: inline-block}\n",
       ".list-inline>li:not(:last-child)::after {content: \"\\00b7\"; padding: 0 .5ex}\n",
       "</style>\n",
       "<ol class=list-inline><li>373487</li><li>70</li></ol>\n"
      ],
      "text/latex": [
       "\\begin{enumerate*}\n",
       "\\item 373487\n",
       "\\item 70\n",
       "\\end{enumerate*}\n"
      ],
      "text/markdown": [
       "1. 373487\n",
       "2. 70\n",
       "\n",
       "\n"
      ],
      "text/plain": [
       "[1] 373487     70"
      ]
     },
     "metadata": {},
     "output_type": "display_data"
    },
    {
     "data": {
      "image/png": "[encoded data removed]",
      "text/plain": [
       "plot without title"
      ]
     },
     "metadata": {
      "image/png": {
       "height": 420,
       "width": 420
      }
     },
     "output_type": "display_data"
    }
   ],
   "source": [
    "#Case and Control Counts\n",
    "\n",
    "#Import libraries\n",
    "library(ggpubr)\n",
    "library(dplyr)\n",
    "library(lme4)\n",
    "library(ggplot2)\n",
    "library(rms)\n",
    "library(mgcv)\n",
    "library(tidymv)\n",
    "library(\"ggthemes\")\n",
    "library(broom)\n",
    "#library(erer)\n",
    "library(stringr)\n",
    "library(tidyverse)\n",
    "library(stringr)\n",
    "library(R.utils)\n",
    "library(data.table)\n",
    "library(ggsci)\n",
    "library(broom)\n",
    "library(mgcv)\n",
    "library(mgcViz)\n",
    "\n",
    "#Restricted analysis (only)\n",
    "\n",
    "#Read the complete set (no imputation)\n",
    "UKBB_AG2_m <- fread(\"~/jupyter/UKBB_AG2_12Jan21.txt\", header = TRUE, na.strings=c(\"\",\".\",\"NA\")) %>% select(f.eid,T2D_status,ALBUMINERIA.0.0,\n",
    "                                 ESKD.0.0,CKD.0.0,DN.0.0,ALL.0.0,NONESKD.0.0,DNCKD.0.0,\n",
    "                                 CTRL_DNCKD.0.0,ACR.0.0,EGFR.0.0,URN_ALBUMIN_FLAG.0.0,PC1,PC2,PC3,PC4,PC5,PC6,PC7,PC8,PC9,PC10,SEX.0.0,\n",
    "                                 IDEAL_DIET2.0.0,LIFESCORE,AGE.0.0, SES_TDI.0.0,BMI.0.0,EDUYEARS,SBP.0.0,HYP_POS1,STATIN,\n",
    "                                 WHR.0.0,GRS_WT_IR,GRS_WT_T2DIR,T2D.0.0,\n",
    "                                 GRS_WT_LIRd2,GRS_WT_LIRt,GRS_WT_LIRq,GRS_WT_LIRf3,GRS_WT_IRd2,\n",
    "                                 GRS_WT_IRt,GRS_WT_IRq,GRS_WT_IRf3,GRS_WT_IR53d2,GRS_WT_IR53t,\n",
    "                                 GRS_WT_IR53q,GRS_WT_IR53f3,GRS_WT_T2DIRd2,GRS_WT_T2DIRt,\n",
    "                                 GRS_WT_T2DIRq,GRS_WT_T2DIRf3,GRS_WT_L5E8IRd2,GRS_WT_L5E8IRt,\n",
    "                                 GRS_WT_L5E8IRq,GRS_WT_L5E8IRf3,GRS_WT_L1E5IRd2,GRS_WT_L1E5IRt,\n",
    "                                 GRS_WT_L1E5IRq,GRS_WT_L1E5IRf3)\n",
    "UKBB_AG2=as.data.frame(UKBB_AG2_m)\n",
    "dim(UKBB_AG2)\n",
    "rm(UKBB_AG2_m)\n",
    "\n",
    "#Dichotomize Outcomes for Logistic Regression\n",
    "\n",
    "#1_CKD\n",
    "UKBB_AG2$CKD_only.0.0 <- factor(ifelse(UKBB_AG2$CKD.0.0==\"CKD controls\",\"CKD controls\",\n",
    "                              ifelse(UKBB_AG2$CKD.0.0==\"CKD\",\"CKD\",NA)),\n",
    "                levels = c(\"CKD controls\", \"CKD\"))\n",
    "#Set the refernece\n",
    "UKBB_AG2$CKD_only.0.0 <- relevel(UKBB_AG2$CKD_only.0.0, ref = \"CKD controls\")\n",
    "\n",
    "#2_CKD Extreme\n",
    "UKBB_AG2$CKD_ex.0.0 <- factor(ifelse(UKBB_AG2$CKD.0.0==\"CKD controls\",\"CKD controls\",\n",
    "                              ifelse(UKBB_AG2$CKD.0.0==\"CKD extreme\",\"CKD extreme\",NA)),\n",
    "                levels = c(\"CKD controls\", \"CKD extreme\"))\n",
    "#Set the refernece\n",
    "UKBB_AG2$CKD_ex.0.0 <- relevel(UKBB_AG2$CKD_ex.0.0, ref = \"CKD controls\")\n",
    "\n",
    "#3_Micro\n",
    "UKBB_AG2$micro.0.0 <- factor(ifelse(UKBB_AG2$ALBUMINERIA.0.0==\"micro\",\"micro\",\n",
    "                              ifelse(UKBB_AG2$ALBUMINERIA.0.0==\"normo\",\"normo\",NA)),\n",
    "                levels = c(\"normo\", \"micro\"))\n",
    "#Set the reference\n",
    "UKBB_AG2$micro.0.0 <- relevel(UKBB_AG2$micro.0.0, ref = \"normo\")\n",
    "\n",
    "#4_Macro\n",
    "UKBB_AG2$macro.0.0 <- factor(ifelse(UKBB_AG2$ALBUMINERIA.0.0==\"macro\",\"macro\",\n",
    "                              ifelse(UKBB_AG2$ALBUMINERIA.0.0==\"normo\",\"normo\",NA)),\n",
    "                levels = c(\"normo\", \"macro\"))\n",
    "#Set the reference\n",
    "UKBB_AG2$macro.0.0 <- relevel(UKBB_AG2$macro.0.0, ref = \"normo\")\n",
    "\n",
    "#5_Macro\n",
    "UKBB_AG2$macro.0.0 <- factor(ifelse(UKBB_AG2$ALBUMINERIA.0.0==\"macro\",\"macro\",\n",
    "                              ifelse(UKBB_AG2$ALBUMINERIA.0.0==\"normo\",\"normo\",NA)),\n",
    "                levels = c(\"normo\", \"macro\"))\n",
    "\n",
    "#6_ESKD vs. Macro\n",
    "UKBB_AG2$ESKD_macro.0.0 <- factor(ifelse(UKBB_AG2$ESKD.0.0==\"yes\",\"ESKD\",\n",
    "                              ifelse(UKBB_AG2$ALBUMINERIA.0.0==\"macro\",\"macro\",NA)),\n",
    "                levels = c(\"macro\",\"ESKD\"))\n",
    "\n",
    "#7_DNCKD vs. Control DNCKD\n",
    "UKBB_AG2$DNCKD2.0.0 <- factor(ifelse(UKBB_AG2$DNCKD.0.0==\"yes\",\"DNCKD\",\n",
    "                              ifelse(UKBB_AG2$CTRL_DNCKD.0.0==\"yes\",\"DNCKD Control\",NA)),\n",
    "                levels = c(\"DNCKD Control\",\"DNCKD\"))\n",
    "\n",
    "#8_ESKD vs. Normo, Macro, Micro\n",
    "UKBB_AG2$ESKD_Albu.0.0 <- factor(ifelse(UKBB_AG2$ESKD.0.0==\"yes\",\"ESKD\",\n",
    "                              ifelse(UKBB_AG2$ALBUMINERIA.0.0 %in% c(\"normo\",\"macro\",\"micro\"),\"albu\",NA)),\n",
    "                levels = c(\"albu\",\"ESKD\"))\n",
    "\n",
    "#Set the reference\n",
    "UKBB_AG2$macro.0.0 <- relevel(UKBB_AG2$macro.0.0, ref = \"normo\")\n",
    "\n",
    "#Summarize Counts of Disease Outcomes\n",
    "table(UKBB_AG2$CKD_only.0.0) #1\n",
    "table(UKBB_AG2$CKD_ex.0.0) #2\n",
    "table(UKBB_AG2$micro.0.0) #3\n",
    "table(UKBB_AG2$macro.0.0) #4\n",
    "table(UKBB_AG2$ESKD.0.0) #5\n",
    "table(UKBB_AG2$DN.0.0) #6\n",
    "table(UKBB_AG2$ALL.0.0) #7\n",
    "table(UKBB_AG2$ESKD.0.0) #8\n",
    "table(UKBB_AG2$ESKD_macro.0.0) #8\n",
    "table(UKBB_AG2$ESKD_Albu.0.0) #9\n",
    "table(UKBB_AG2$DNCKD2.0.0) #10\n",
    "\n",
    "UKBB_AG2$GRS_WT_IRf3 <- factor(UKBB_AG2$GRS_WT_IRf3)\n",
    "UKBB_AG2$GRS_WT_IRf3 <- relevel(UKBB_AG2$GRS_WT_IRf3,'low risk')\n",
    "UKBB_AG2$GRS_WT_T2DIRf3 <- factor(UKBB_AG2$GRS_WT_T2DIRf3)\n",
    "UKBB_AG2$GRS_WT_T2DIRf3 <- relevel(UKBB_AG2$GRS_WT_T2DIRf3,'low risk')\n",
    "summary(UKBB_AG2$ACR.0.0)\n",
    "summary(UKBB_AG2$EGFR.0.0)\n",
    "\n",
    "#ACR - replace undetected with the lowest limit of detection\n",
    "UKBB_AG2$ACR.0.0 <- ifelse(is.na(UKBB_AG2$ACR.0.0) & UKBB_AG2$URN_ALBUMIN_FLAG.0.0=='<6.7',6.7,UKBB_AG2$ACR.0.0)\n",
    "print('UACR, Distribution before Transformation')\n",
    "histogram(sample(UKBB_AG2$ACR.0.0,1000))\n",
    "histogram(sample(UKBB_AG2$EGFR.0.0,1000))\n",
    "#Inverse normal transformed age-adjusted, sex-adjusted residuals of log-transformed UACR\n",
    "#complete cases\n",
    "UKBB_dup <- UKBB_AG2 %>% select(f.eid,ACR.0.0,AGE.0.0,SEX.0.0)\n",
    "UKBB_dup <- UKBB_dup[complete.cases(UKBB_dup),]\n",
    "rx.out <- lm(ACR.0.0~AGE.0.0 + SEX.0.0, data=UKBB_dup)\n",
    "#duplicate cases\n",
    "UKBB_dup2 <- UKBB_AG2 %>% select(f.eid,EGFR.0.0,AGE.0.0,SEX.0.0)\n",
    "UKBB_dup2 <- UKBB_dup2[complete.cases(UKBB_dup2),]\n",
    "rx.out2 <- lm(EGFR.0.0~AGE.0.0 + SEX.0.0, data=UKBB_dup2)\n",
    "# generating file with residuals (ACR)\n",
    "residx <- as.data.frame(residuals(rx.out))\n",
    "trans_resid <- as.data.frame(qnorm((rank(residx,na.last=\"keep\")-0.5)/sum(!is.na(residx))))\n",
    "names(trans_resid) <- 'ACR_tresid.0.0'\n",
    "UKBB_dup_2 <- cbind(UKBB_dup, trans_resid)\n",
    "#generating file with residuals (eGFR)\n",
    "residx2 <- as.data.frame(residuals(rx.out2))\n",
    "trans_resid2 <- as.data.frame(qnorm((rank(residx2,na.last=\"keep\")-0.5)/sum(!is.na(residx2))))\n",
    "names(trans_resid2) <- 'EGFR_tresid.0.0'\n",
    "UKBB_dup2_2 <- cbind(UKBB_dup2, trans_resid2)\n",
    "#drop additional covariates\n",
    "UKBB_dup_2 <- subset(UKBB_dup_2, select = c(f.eid,ACR_tresid.0.0))\n",
    "print('Inverse Normal Transformation, ACR')\n",
    "histogram(sample(UKBB_dup_2$ACR_tresid.0.0,1000))\n",
    "UKBB_dup2_2 <- subset(UKBB_dup2_2, select = c(f.eid,EGFR_tresid.0.0))\n",
    "histogram(sample(UKBB_dup2_2$EGFR_tresid.0.0,1000))\n",
    "#merge transformed residuals back\n",
    "dim(UKBB_AG2)\n",
    "UKBB_AG2 <- left_join(UKBB_AG2,UKBB_dup_2,by='f.eid')\n",
    "UKBB_AG2 <- left_join(UKBB_AG2,UKBB_dup2_2,by='f.eid')\n",
    "dim(UKBB_AG2)\n",
    "#T2D-stratified samples\n",
    "T2D <- UKBB_AG2 %>% filter(T2D_status==1)\n",
    "ND <- UKBB_AG2 %>% filter(T2D_status==0)\n",
    "#remove extra datasets\n",
    "rm(UKBB_dup)\n",
    "rm(UKBB_dup2)\n",
    "rm(UKBB_dup_2)\n",
    "rm(UKBB_dup2_2)\n"
   ]
  },
  {
   "cell_type": "code",
   "execution_count": 12,
   "id": "fcc133c3-c9f5-4783-9744-01c39160994b",
   "metadata": {},
   "outputs": [
    {
     "name": "stdout",
     "output_type": "stream",
     "text": [
      "[1] \"T2D\"\n",
      "[1] \"EGFR_tresid.0.0\"\n"
     ]
    },
    {
     "data": {
      "text/html": [
       "<style>\n",
       ".list-inline {list-style: none; margin:0; padding: 0}\n",
       ".list-inline>li {display: inline-block}\n",
       ".list-inline>li:not(:last-child)::after {content: \"\\00b7\"; padding: 0 .5ex}\n",
       "</style>\n",
       "<ol class=list-inline><li>19912</li><li>19</li></ol>\n"
      ],
      "text/latex": [
       "\\begin{enumerate*}\n",
       "\\item 19912\n",
       "\\item 19\n",
       "\\end{enumerate*}\n"
      ],
      "text/markdown": [
       "1. 19912\n",
       "2. 19\n",
       "\n",
       "\n"
      ],
      "text/plain": [
       "[1] 19912    19"
      ]
     },
     "metadata": {},
     "output_type": "display_data"
    },
    {
     "name": "stdout",
     "output_type": "stream",
     "text": [
      "[1] \"ACR_tresid.0.0\"\n"
     ]
    },
    {
     "data": {
      "text/html": [
       "<style>\n",
       ".list-inline {list-style: none; margin:0; padding: 0}\n",
       ".list-inline>li {display: inline-block}\n",
       ".list-inline>li:not(:last-child)::after {content: \"\\00b7\"; padding: 0 .5ex}\n",
       "</style>\n",
       "<ol class=list-inline><li>20148</li><li>19</li></ol>\n"
      ],
      "text/latex": [
       "\\begin{enumerate*}\n",
       "\\item 20148\n",
       "\\item 19\n",
       "\\end{enumerate*}\n"
      ],
      "text/markdown": [
       "1. 20148\n",
       "2. 19\n",
       "\n",
       "\n"
      ],
      "text/plain": [
       "[1] 20148    19"
      ]
     },
     "metadata": {},
     "output_type": "display_data"
    },
    {
     "name": "stdout",
     "output_type": "stream",
     "text": [
      "[1] \"ND\"\n",
      "[1] \"EGFR_tresid.0.0\"\n"
     ]
    },
    {
     "data": {
      "text/html": [
       "<style>\n",
       ".list-inline {list-style: none; margin:0; padding: 0}\n",
       ".list-inline>li {display: inline-block}\n",
       ".list-inline>li:not(:last-child)::after {content: \"\\00b7\"; padding: 0 .5ex}\n",
       "</style>\n",
       "<ol class=list-inline><li>332320</li><li>19</li></ol>\n"
      ],
      "text/latex": [
       "\\begin{enumerate*}\n",
       "\\item 332320\n",
       "\\item 19\n",
       "\\end{enumerate*}\n"
      ],
      "text/markdown": [
       "1. 332320\n",
       "2. 19\n",
       "\n",
       "\n"
      ],
      "text/plain": [
       "[1] 332320     19"
      ]
     },
     "metadata": {},
     "output_type": "display_data"
    },
    {
     "name": "stdout",
     "output_type": "stream",
     "text": [
      "[1] \"ACR_tresid.0.0\"\n"
     ]
    },
    {
     "data": {
      "text/html": [
       "<style>\n",
       ".list-inline {list-style: none; margin:0; padding: 0}\n",
       ".list-inline>li {display: inline-block}\n",
       ".list-inline>li:not(:last-child)::after {content: \"\\00b7\"; padding: 0 .5ex}\n",
       "</style>\n",
       "<ol class=list-inline><li>339002</li><li>19</li></ol>\n"
      ],
      "text/latex": [
       "\\begin{enumerate*}\n",
       "\\item 339002\n",
       "\\item 19\n",
       "\\end{enumerate*}\n"
      ],
      "text/markdown": [
       "1. 339002\n",
       "2. 19\n",
       "\n",
       "\n"
      ],
      "text/plain": [
       "[1] 339002     19"
      ]
     },
     "metadata": {},
     "output_type": "display_data"
    },
    {
     "name": "stdout",
     "output_type": "stream",
     "text": [
      "[1] \"UKBB_AG2\"\n",
      "[1] \"ACR_tresid.0.0\"\n"
     ]
    },
    {
     "data": {
      "text/html": [
       "<style>\n",
       ".list-inline {list-style: none; margin:0; padding: 0}\n",
       ".list-inline>li {display: inline-block}\n",
       ".list-inline>li:not(:last-child)::after {content: \"\\00b7\"; padding: 0 .5ex}\n",
       "</style>\n",
       "<ol class=list-inline><li>359150</li><li>19</li></ol>\n"
      ],
      "text/latex": [
       "\\begin{enumerate*}\n",
       "\\item 359150\n",
       "\\item 19\n",
       "\\end{enumerate*}\n"
      ],
      "text/markdown": [
       "1. 359150\n",
       "2. 19\n",
       "\n",
       "\n"
      ],
      "text/plain": [
       "[1] 359150     19"
      ]
     },
     "metadata": {},
     "output_type": "display_data"
    },
    {
     "name": "stdout",
     "output_type": "stream",
     "text": [
      "[1] \"EGFR_tresid.0.0\"\n"
     ]
    },
    {
     "data": {
      "text/html": [
       "<style>\n",
       ".list-inline {list-style: none; margin:0; padding: 0}\n",
       ".list-inline>li {display: inline-block}\n",
       ".list-inline>li:not(:last-child)::after {content: \"\\00b7\"; padding: 0 .5ex}\n",
       "</style>\n",
       "<ol class=list-inline><li>352232</li><li>19</li></ol>\n"
      ],
      "text/latex": [
       "\\begin{enumerate*}\n",
       "\\item 352232\n",
       "\\item 19\n",
       "\\end{enumerate*}\n"
      ],
      "text/markdown": [
       "1. 352232\n",
       "2. 19\n",
       "\n",
       "\n"
      ],
      "text/plain": [
       "[1] 352232     19"
      ]
     },
     "metadata": {},
     "output_type": "display_data"
    }
   ],
   "source": [
    "casecounts <- function(data,outcome) {\n",
    "    data_dup <- data %>% select(GRS_WT_IRf3 , AGE.0.0 , SEX.0.0 , \n",
    "        PC1 , PC2 , PC3 , PC4 , PC5 , PC6 , PC7 , PC8 , PC9 , PC10 , \n",
    "        EDUYEARS , SES_TDI.0.0 , BMI.0.0 , HYP_POS1 , STATIN,outcome)\n",
    "    dim <- dim(data_dup[complete.cases(data_dup),])\n",
    "    print(outcome)\n",
    "    return(dim)    \n",
    "}\n",
    "\n",
    "print('T2D')\n",
    "casecounts(T2D,'EGFR_tresid.0.0')\n",
    "casecounts(T2D,'ACR_tresid.0.0')\n",
    "print('ND')\n",
    "casecounts(ND,'EGFR_tresid.0.0')\n",
    "casecounts(ND,'ACR_tresid.0.0')\n",
    "print('UKBB_AG2')\n",
    "casecounts(UKBB_AG2,'ACR_tresid.0.0')\n",
    "casecounts(UKBB_AG2,'EGFR_tresid.0.0')"
   ]
  },
  {
   "cell_type": "code",
   "execution_count": 13,
   "id": "27c17e64-1838-4bd4-b890-6db62ff1d42a",
   "metadata": {},
   "outputs": [
    {
     "name": "stdout",
     "output_type": "stream",
     "text": [
      "[1] \"T2D\"\n",
      "[1] \"EGFR_tresid.0.0\"\n"
     ]
    },
    {
     "data": {
      "text/html": [
       "<style>\n",
       ".list-inline {list-style: none; margin:0; padding: 0}\n",
       ".list-inline>li {display: inline-block}\n",
       ".list-inline>li:not(:last-child)::after {content: \"\\00b7\"; padding: 0 .5ex}\n",
       "</style>\n",
       "<ol class=list-inline><li>20332</li><li>14</li></ol>\n"
      ],
      "text/latex": [
       "\\begin{enumerate*}\n",
       "\\item 20332\n",
       "\\item 14\n",
       "\\end{enumerate*}\n"
      ],
      "text/markdown": [
       "1. 20332\n",
       "2. 14\n",
       "\n",
       "\n"
      ],
      "text/plain": [
       "[1] 20332    14"
      ]
     },
     "metadata": {},
     "output_type": "display_data"
    },
    {
     "name": "stdout",
     "output_type": "stream",
     "text": [
      "[1] \"ACR_tresid.0.0\"\n"
     ]
    },
    {
     "data": {
      "text/html": [
       "<style>\n",
       ".list-inline {list-style: none; margin:0; padding: 0}\n",
       ".list-inline>li {display: inline-block}\n",
       ".list-inline>li:not(:last-child)::after {content: \"\\00b7\"; padding: 0 .5ex}\n",
       "</style>\n",
       "<ol class=list-inline><li>20553</li><li>14</li></ol>\n"
      ],
      "text/latex": [
       "\\begin{enumerate*}\n",
       "\\item 20553\n",
       "\\item 14\n",
       "\\end{enumerate*}\n"
      ],
      "text/markdown": [
       "1. 20553\n",
       "2. 14\n",
       "\n",
       "\n"
      ],
      "text/plain": [
       "[1] 20553    14"
      ]
     },
     "metadata": {},
     "output_type": "display_data"
    },
    {
     "name": "stdout",
     "output_type": "stream",
     "text": [
      "[1] \"ND\"\n",
      "[1] \"EGFR_tresid.0.0\"\n"
     ]
    },
    {
     "data": {
      "text/html": [
       "<style>\n",
       ".list-inline {list-style: none; margin:0; padding: 0}\n",
       ".list-inline>li {display: inline-block}\n",
       ".list-inline>li:not(:last-child)::after {content: \"\\00b7\"; padding: 0 .5ex}\n",
       "</style>\n",
       "<ol class=list-inline><li>336429</li><li>14</li></ol>\n"
      ],
      "text/latex": [
       "\\begin{enumerate*}\n",
       "\\item 336429\n",
       "\\item 14\n",
       "\\end{enumerate*}\n"
      ],
      "text/markdown": [
       "1. 336429\n",
       "2. 14\n",
       "\n",
       "\n"
      ],
      "text/plain": [
       "[1] 336429     14"
      ]
     },
     "metadata": {},
     "output_type": "display_data"
    },
    {
     "name": "stdout",
     "output_type": "stream",
     "text": [
      "[1] \"ACR_tresid.0.0\"\n"
     ]
    },
    {
     "data": {
      "text/html": [
       "<style>\n",
       ".list-inline {list-style: none; margin:0; padding: 0}\n",
       ".list-inline>li {display: inline-block}\n",
       ".list-inline>li:not(:last-child)::after {content: \"\\00b7\"; padding: 0 .5ex}\n",
       "</style>\n",
       "<ol class=list-inline><li>343132</li><li>14</li></ol>\n"
      ],
      "text/latex": [
       "\\begin{enumerate*}\n",
       "\\item 343132\n",
       "\\item 14\n",
       "\\end{enumerate*}\n"
      ],
      "text/markdown": [
       "1. 343132\n",
       "2. 14\n",
       "\n",
       "\n"
      ],
      "text/plain": [
       "[1] 343132     14"
      ]
     },
     "metadata": {},
     "output_type": "display_data"
    },
    {
     "name": "stdout",
     "output_type": "stream",
     "text": [
      "[1] \"UKBB_AG2\"\n",
      "[1] \"ACR_tresid.0.0\"\n"
     ]
    },
    {
     "data": {
      "text/html": [
       "<style>\n",
       ".list-inline {list-style: none; margin:0; padding: 0}\n",
       ".list-inline>li {display: inline-block}\n",
       ".list-inline>li:not(:last-child)::after {content: \"\\00b7\"; padding: 0 .5ex}\n",
       "</style>\n",
       "<ol class=list-inline><li>363685</li><li>14</li></ol>\n"
      ],
      "text/latex": [
       "\\begin{enumerate*}\n",
       "\\item 363685\n",
       "\\item 14\n",
       "\\end{enumerate*}\n"
      ],
      "text/markdown": [
       "1. 363685\n",
       "2. 14\n",
       "\n",
       "\n"
      ],
      "text/plain": [
       "[1] 363685     14"
      ]
     },
     "metadata": {},
     "output_type": "display_data"
    },
    {
     "name": "stdout",
     "output_type": "stream",
     "text": [
      "[1] \"EGFR_tresid.0.0\"\n"
     ]
    },
    {
     "data": {
      "text/html": [
       "<style>\n",
       ".list-inline {list-style: none; margin:0; padding: 0}\n",
       ".list-inline>li {display: inline-block}\n",
       ".list-inline>li:not(:last-child)::after {content: \"\\00b7\"; padding: 0 .5ex}\n",
       "</style>\n",
       "<ol class=list-inline><li>356761</li><li>14</li></ol>\n"
      ],
      "text/latex": [
       "\\begin{enumerate*}\n",
       "\\item 356761\n",
       "\\item 14\n",
       "\\end{enumerate*}\n"
      ],
      "text/markdown": [
       "1. 356761\n",
       "2. 14\n",
       "\n",
       "\n"
      ],
      "text/plain": [
       "[1] 356761     14"
      ]
     },
     "metadata": {},
     "output_type": "display_data"
    }
   ],
   "source": [
    "casecounts <- function(data,outcome) {\n",
    "    data_dup <- data %>% select(GRS_WT_IRf3 , AGE.0.0 , SEX.0.0 , \n",
    "        PC1 , PC2 , PC3 , PC4 , PC5 , PC6 , PC7 , PC8 , PC9 , PC10 , outcome)\n",
    "    dim <- dim(data_dup[complete.cases(data_dup),])\n",
    "    print(outcome)\n",
    "    return(dim)    \n",
    "}\n",
    "\n",
    "print('T2D')\n",
    "casecounts(T2D,'EGFR_tresid.0.0')\n",
    "casecounts(T2D,'ACR_tresid.0.0')\n",
    "print('ND')\n",
    "casecounts(ND,'EGFR_tresid.0.0')\n",
    "casecounts(ND,'ACR_tresid.0.0')\n",
    "print('UKBB_AG2')\n",
    "casecounts(UKBB_AG2,'ACR_tresid.0.0')\n",
    "casecounts(UKBB_AG2,'EGFR_tresid.0.0')"
   ]
  },
  {
   "cell_type": "code",
   "execution_count": null,
   "id": "63c37ee9-acf2-44bf-a614-077e0ffb9dfe",
   "metadata": {},
   "outputs": [],
   "source": []
  }
 ],
 "metadata": {
  "kernelspec": {
   "display_name": "acg",
   "language": "R",
   "name": "acg"
  },
  "language_info": {
   "codemirror_mode": "r",
   "file_extension": ".r",
   "mimetype": "text/x-r-source",
   "name": "R",
   "pygments_lexer": "r",
   "version": "4.1.3"
  }
 },
 "nbformat": 4,
 "nbformat_minor": 5
}
