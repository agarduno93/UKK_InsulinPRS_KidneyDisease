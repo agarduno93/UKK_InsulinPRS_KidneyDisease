{
 "cells": [
  {
   "cell_type": "markdown",
   "metadata": {},
   "source": [
    "## UKBB COMPLICATIONS"
   ]
  },
  {
   "cell_type": "code",
   "execution_count": null,
   "metadata": {
    "scrolled": true
   },
   "outputs": [],
   "source": [
    "library(plyr)\n",
    "library(dplyr)\n",
    "library(\"tidyr\")"
   ]
  },
  {
   "cell_type": "code",
   "execution_count": null,
   "metadata": {},
   "outputs": [],
   "source": []
  },
  {
   "cell_type": "code",
   "execution_count": null,
   "metadata": {},
   "outputs": [],
   "source": []
  },
  {
   "cell_type": "markdown",
   "metadata": {},
   "source": [
    " ###  1. Read in datasets"
   ]
  },
  {
   "cell_type": "code",
   "execution_count": null,
   "metadata": {},
   "outputs": [],
   "source": [
    "#UKBB DATA\n",
    "UKBDEMO1<- read.delim(\"UKB_Pheno/UKBDEMO1.txt\", header = TRUE, na.strings=c(\"\",\".\",\"NA\"))\n",
    "UKBDEMO2<- read.delim(\"UKB_Pheno/UKBDEMO2.txt\", header = TRUE, na.strings=c(\"\",\".\",\"NA\"))\n",
    "UKBEVENT<- read.delim(\"UKB_Pheno/UKEVENT.txt\", header = TRUE, na.strings=c(\"\",\".\",\"NA\"))\n",
    "UKBLAB<- read.delim(\"UKB_Pheno/UKBLAB.txt\", header = TRUE, na.strings=c(\"\",\".\",\"NA\"))"
   ]
  },
  {
   "cell_type": "code",
   "execution_count": null,
   "metadata": {},
   "outputs": [],
   "source": [
    "UKBDEATHDIAB<- read.delim(\"UKB_Pheno/UKBDEATHDIAB.txt\", header = TRUE, na.strings=c(\"\",\".\",\"NA\"))\n",
    "UKBMED<- read.delim(\"UKB_Pheno/UKBMED.txt\", header = TRUE, na.strings=c(\"\",\".\",\"NA\"))\n",
    "UKBINP<- read.delim(\"UKB_Pheno/UKBINP.txt\", header = TRUE, na.strings=c(\"\",\".\",\"NA\"))\n",
    "UKBOP<- read.delim(\"UKB_Pheno/UKBOP.txt\", header = TRUE, na.strings=c(\"\",\".\",\"NA\"))"
   ]
  },
  {
   "cell_type": "code",
   "execution_count": null,
   "metadata": {},
   "outputs": [],
   "source": [
    "UKBSDX<- read.delim(\"UKB_Pheno/UKBSDX.txt\", header = TRUE, na.strings=c(\"\",\".\",\"NA\"))\n",
    "UKBAGE<- read.delim(\"UKB_Pheno/UKBAGE.txt\", header = TRUE, na.strings=c(\"\",\".\",\"NA\"))\n",
    "UKBCOG<- read.delim(\"UKB_Pheno/UKBCOG.txt\", header = TRUE, na.strings=c(\"\",\".\",\"NA\"))\n",
    "UKBFIRST<- read.delim(\"UKB_Pheno/UKBFIRST.txt\", header = TRUE, na.strings=c(\"\",\".\",\"NA\"))"
   ]
  },
  {
   "cell_type": "code",
   "execution_count": null,
   "metadata": {},
   "outputs": [],
   "source": [
    "names(UKBDEMO1)\n",
    "names(UKBDEMO2)\n",
    "names(UKBEVENT)\n",
    "names(UKBLAB)\n",
    "names(UKBDEATHDIAB)\n",
    "names(UKBMED)\n",
    "names(UKBINP)\n",
    "names(UKBOP)\n",
    "names(UKBSDX)\n",
    "names(UKBAGE)\n",
    "names(UKBFIRST)"
   ]
  },
  {
   "cell_type": "code",
   "execution_count": null,
   "metadata": {},
   "outputs": [],
   "source": [
    "#CODES TO PULL\n",
    "DM_MEDCODE<- read.delim(\"UKB_Pheno/DM_MEDCODE.txt\", header = TRUE, na.strings=c(\"\",\".\",\"NA\"))\n",
    "CHDCODE<- read.delim(\"UKB_Pheno/CHDCODE.txt\", header = TRUE, na.strings=c(\"\",\".\",\"NA\"))\n",
    "CHDOPCODE<- read.delim(\"UKB_Pheno/CHDOPCODE.txt\", header = TRUE, na.strings=c(\"\",\".\",\"NA\"))\n",
    "HFCODE<- read.delim(\"UKB_Pheno/HFCODE.txt\", header = TRUE, na.strings=c(\"\",\".\",\"NA\"))\n",
    "AFIBCODE<- read.delim(\"UKB_Pheno/AFIBCODE\", header = TRUE, na.strings=c(\"\",\".\",\"NA\"))\n",
    "STROKECODE<- read.delim(\"UKB_Pheno/STROKECODE\", header = TRUE, na.strings=c(\"\",\".\",\"NA\"))\n",
    "PVDCODE<- read.delim(\"UKB_Pheno/PVDCODE\", header = TRUE, na.strings=c(\"\",\".\",\"NA\"))\n",
    "PVDOPCODE<- read.delim(\"UKB_Pheno/PVDOPCODE.txt\", header = TRUE, na.strings=c(\"\",\".\",\"NA\"))\n",
    "DRETCODE<- read.delim(\"UKB_Pheno/DRETCODE.txt\", header = TRUE, na.strings=c(\"\",\".\",\"NA\"))\n",
    "NAFLDCODE<- read.delim(\"UKB_Pheno/NAFLDCODE.txt\", header = TRUE, na.strings=c(\"\",\".\",\"NA\"))\n",
    "#TRANSPLANTCODE<- read.delim(\"UKB_Pheno/Transplantcode.txt\", header = TRUE, na.strings=c(\"\",\".\",\"NA\"))\n",
    "#DIALYSISCODE<- read.delim(\"UKB_Pheno/Dialysiscode.txt\", header = TRUE, na.strings=c(\"\",\".\",\"NA\"))"
   ]
  },
  {
   "cell_type": "markdown",
   "metadata": {},
   "source": [
    "### Merge demographic tables and code ethnicity variables"
   ]
  },
  {
   "cell_type": "code",
   "execution_count": null,
   "metadata": {},
   "outputs": [],
   "source": [
    "UKB01<- merge(UKBDEMO1, UKBDEMO2, by=c(\"f.eid\"), all = TRUE)\n",
    "UKB01<- merge(UKB01, UKBAGE, by=c(\"f.eid\"), all = TRUE)"
   ]
  },
  {
   "cell_type": "code",
   "execution_count": null,
   "metadata": {},
   "outputs": [],
   "source": [
    "options(repr.matrix.max.rows=6000, repr.matrix.max.cols=2000)\n",
    "#head(UKBINP, n=15)\n",
    "#head(UKBFIRST, n=15)\n",
    "#head(UKBOP, n=15)"
   ]
  },
  {
   "cell_type": "code",
   "execution_count": null,
   "metadata": {},
   "outputs": [],
   "source": [
    "UKB01 <- UKB01 %>%\n",
    "mutate(RACE=ifelse(ETHNICITY.0.0==\"British\" & !is.na(ETHNICITY.0.0) , \"W\",\n",
    "            ifelse(ETHNICITY.0.0==\"Irish\" & !is.na(ETHNICITY.0.0),\"W\",  \n",
    "            ifelse(ETHNICITY.0.0==\"White\" & !is.na(ETHNICITY.0.0),\"W\",  \n",
    "            ifelse(ETHNICITY.0.0==\"Any other white background\" & !is.na(ETHNICITY.0.0),\"W\",\n",
    "            ifelse(ETHNICITY.0.0==\"Caribbean\" & !is.na(ETHNICITY.0.0),\"B\",\n",
    "            ifelse(ETHNICITY.0.0==\"African\" & !is.na(ETHNICITY.0.0),\"B\",\n",
    "            ifelse(ETHNICITY.0.0==\"Any other Black background\" & !is.na(ETHNICITY.0.0),\"B\",\n",
    "            ifelse(ETHNICITY.0.0==\"Black\" & !is.na(ETHNICITY.0.0),\"B\",\n",
    "            ifelse(ETHNICITY.0.0==\"White and Black Caribbean\" & !is.na(ETHNICITY.0.0),\"B\",\n",
    "            ifelse(ETHNICITY.0.0==\"Black or Black British\" & !is.na(ETHNICITY.0.0),\"B\",\n",
    "            ifelse(ETHNICITY.0.0==\"White and Black African\" & !is.na(ETHNICITY.0.0),\"B\",\n",
    "            ifelse(ETHNICITY.0.0==\"Asian or Asian British\" & !is.na(ETHNICITY.0.0),\"A\",\n",
    "            ifelse(ETHNICITY.0.0==\"Any other Asian background\" & !is.na(ETHNICITY.0.0),\"A\",\n",
    "            ifelse(ETHNICITY.0.0==\"Indian\" & !is.na(ETHNICITY.0.0),\"A\",\n",
    "            ifelse(ETHNICITY.0.0==\"Bangladeshi\" & !is.na(ETHNICITY.0.0),\"A\",\n",
    "            ifelse(ETHNICITY.0.0==\"Pakistani\" & !is.na(ETHNICITY.0.0),\"A\",\n",
    "            ifelse(ETHNICITY.0.0==\"Chinese\" & !is.na(ETHNICITY.0.0),\"A\",              \n",
    "            ifelse (is.na(ETHNICITY.0.0), NA,\"O\")))))))))))))))))))%>%\n",
    "mutate(SASIAN=case_when(ETHNICITY.0.0==\"Bangladeshi\"|ETHNICITY.0.0==\"Indian\"|ETHNICITY.0.0==\"Pakistani\"~1, ))%>%\n",
    "mutate(CARIBN=case_when(ETHNICITY.0.0==\"Caribbean\"~1, ))\n",
    "table(UKB01$ETHNICITY.0.0)\n",
    "table(UKB01$RACE)\n",
    "table(UKB01$SASIAN)\n",
    "table(UKB01$CARIBN)"
   ]
  },
  {
   "cell_type": "markdown",
   "metadata": {},
   "source": [
    "### 2. Pull Diabetic Medications"
   ]
  },
  {
   "cell_type": "code",
   "execution_count": null,
   "metadata": {},
   "outputs": [],
   "source": [
    "head(UKBMED)"
   ]
  },
  {
   "cell_type": "code",
   "execution_count": null,
   "metadata": {
    "scrolled": true
   },
   "outputs": [],
   "source": [
    "#Medication datasets need to be transposed (MED=all Meds DBCMED= curated male/female meds)\n",
    "MED <-select(UKBMED, 1, TRTMEDCODE.0.0:TRTMEDCODE.0.47)\n",
    "MED1 <- MED %>% gather(MEDNUM,MEDCODE,TRTMEDCODE.0.0:TRTMEDCODE.0.47)\n",
    "DBCMED <-select(UKBMED, 1, DBC_DRUGS_F.0.0:DBC_DRUGS_F.0.3, DBC_DRUGS_M.0.0:DBC_DRUGS_M.0.2)\n",
    "DBCMED1 <- DBCMED %>% gather(DBCNUM,DBCMED,DBC_DRUGS_F.0.0:DBC_DRUGS_M.0.2)%>% filter(!is.na(DBCMED))"
   ]
  },
  {
   "cell_type": "code",
   "execution_count": null,
   "metadata": {},
   "outputs": [],
   "source": [
    "#Pull diabetic med codes and create collapsed variables\n",
    "MED1$OTHER_DM<-ifelse(grepl(paste(DM_MEDCODE$MEDCODE, collapse = \"|\"), MED1$MEDCODE),1,0)\n",
    "MED1$INSULIN<-ifelse(grepl(\"1140883066\", MED1$MEDCODE),1,0)\n",
    "MED1$METFORMIN<-ifelse(grepl(\"1140884600\", MED1$MEDCODE),1,0)\n",
    "MED1$GLUCOPHAGE<-ifelse(grepl(\"1140874686\", MED1$MEDCODE),1,0)\n",
    "DBCMED1$INSULIN_MF<-ifelse(DBCMED1$DBCMED==\"Insulin\",1,0)\n",
    "DBCMED1$BP_MF<-ifelse(DBCMED1$DBCMED==\"Blood pressure medication\",1,0) \n",
    "DBCMED1$CHOL_MF<-ifelse(DBCMED1$DBCMED==\"Cholesterol lowering medication\",1,0) \n",
    "DBCMED1$HRT_MF<-ifelse(DBCMED1$DBCMED==\"Hormone replacement therapy\",1,0) \n",
    "\n",
    "ECOLLAPSE1<- function(data, old_col) {\n",
    "old_col <- enquo(old_col)\n",
    "new_col <- paste0(\"sum_\", quo_name(old_col))\n",
    "data %>% group_by(f.eid) %>%\n",
    "mutate(!!new_col := ifelse(all(is.na(!!old_col)), NA, sum(!!old_col, na.rm = TRUE)))%>%\n",
    "ungroup()}\n",
    "ECOLLAPSE2<- function(data, old_col, sum_col) {\n",
    "old_col <- enquo(old_col)\n",
    "sum_col <- enquo(sum_col)\n",
    "new_col2 <- paste0(\"MED_\", quo_name(old_col))\n",
    "data %>% mutate (!!new_col2 := case_when (!!sum_col >=1~1, !!sum_col==0~0,))}\n",
    " \n",
    "MED1<-MED1 %>%\n",
    "ECOLLAPSE1(OTHER_DM) %>% ECOLLAPSE2(OTHER_DM, sum_OTHER_DM) %>%\n",
    "ECOLLAPSE1(INSULIN) %>% ECOLLAPSE2(INSULIN, sum_INSULIN) %>%\n",
    "ECOLLAPSE1(METFORMIN) %>% ECOLLAPSE2(METFORMIN, sum_METFORMIN)%>%\n",
    "ECOLLAPSE1(GLUCOPHAGE) %>% ECOLLAPSE2(GLUCOPHAGE, sum_GLUCOPHAGE) \n",
    "\n",
    "MED2<-MED1%>%\n",
    "filter(MEDNUM==\"TRTMEDCODE.0.0\")%>% select(f.eid, MED_INSULIN, MED_METFORMIN, MED_GLUCOPHAGE, MED_OTHER_DM) #Verbal interview\n",
    "\n",
    "DBCMED1<-DBCMED1%>%\n",
    "ECOLLAPSE1(INSULIN_MF) %>% ECOLLAPSE2(INSULIN_MF, sum_INSULIN_MF) \n",
    "DBCMED1<-DBCMED1%>%\n",
    "ECOLLAPSE1(BP_MF) %>% ECOLLAPSE2(BP_MF, sum_BP_MF) \n",
    "DBCMED1<-DBCMED1%>%\n",
    "ECOLLAPSE1(CHOL_MF) %>% ECOLLAPSE2(CHOL_MF, sum_CHOL_MF) \n",
    "DBCMED1<-DBCMED1%>%\n",
    "ECOLLAPSE1(HRT_MF) %>% ECOLLAPSE2(HRT_MF, sum_HRT_MF) \n",
    "\n",
    "#HRT<-DBCMED1%>%\n",
    "#filter(DBCNUM==\"DBC_DRUGS_F.0.0\"|DBCNUM==\"DBC_DRUGS_M.0.0\")%>% select(f.eid, MED_HRT_MF) #Touchscreen \n",
    "\n",
    "DBCMED2<-DBCMED1%>%\n",
    "filter(DBCNUM==\"DBC_DRUGS_F.0.0\"|DBCNUM==\"DBC_DRUGS_M.0.0\")%>% select(f.eid, MED_INSULIN_MF, MED_BP_MF, MED_CHOL_MF, MED_HRT_MF) #Touchscreen \n",
    "\n",
    "#Merge medication files\n",
    "DM_MED<- merge(DBCMED2, MED2, by=c(\"f.eid\"), all = TRUE)\n",
    "#head(DM_MED, n=30)\n"
   ]
  },
  {
   "cell_type": "code",
   "execution_count": null,
   "metadata": {},
   "outputs": [],
   "source": [
    "#CHOLESTEROL MEDICATIONS ADDED\n",
    "#CHOLMED<-DBCMED2%>%\n",
    "#select(f.eid, MED_CHOL_MF) #Touchscreen \n",
    "#UKB07<- merge(UKB07, CHOLMED, by=c(\"f.eid\"), all = TRUE)\n",
    "#write.table(CHOLMED, file=\"/data/nrnb03/dbGaP/users/e6richar/jupyter/UKB_Pheno/CHOLMED.txt\", quote=FALSE, sep=\"\\t\", row.names=FALSE)\n",
    "#write.table(HRT, file=\"/data/nrnb03/dbGaP/users/e6richar/jupyter/UKB_Pheno/HRT.txt\", quote=FALSE, sep=\"\\t\", row.names=FALSE)"
   ]
  },
  {
   "cell_type": "markdown",
   "metadata": {},
   "source": [
    "### 3. Pull Diagnostic Codes from Inpatient Data"
   ]
  },
  {
   "cell_type": "code",
   "execution_count": null,
   "metadata": {},
   "outputs": [],
   "source": [
    "#Separate columns of inpatient data \n",
    "UKBINPs <- select(UKBINP, 1,ICD10.0.0:ICD9.0.46)\n",
    "UKBINPsD <- select(UKBINP, 1,ICD10DATE.0.0:ICD9DATE.0.46)"
   ]
  },
  {
   "cell_type": "code",
   "execution_count": null,
   "metadata": {},
   "outputs": [],
   "source": [
    "#Reshape in R from wide to long and join columns\n",
    "UKBINPl <- UKBINPs %>% gather(ICD,CODE,ICD10.0.0:ICD9.0.46)\n",
    "UKBINPlD <- UKBINPsD %>% gather(ICDDATE,CODEDATE,ICD10DATE.0.0:ICD9DATE.0.46)\n",
    "UKBINPL <- cbind(UKBINPl,UKBINPlD)\n",
    "UKBINPL <- UKBINPL[c(1,2,3,6)]\n",
    "UKBINPL <- UKBINPL %>% filter(!is.na(CODE))"
   ]
  },
  {
   "cell_type": "code",
   "execution_count": null,
   "metadata": {},
   "outputs": [],
   "source": [
    "#Limit Inpatient codes to baseline + 1 year\n",
    "BASEDATE<-UKBDEMO1  %>% select(f.eid, VISDATE.0.0)\n",
    "UKBINPLbase<-merge(UKBINPL, BASEDATE, by=\"f.eid\", all=T)\n",
    "head(UKBINPLbase)\n",
    "UKBINPLbase$CODEDATE2<-as.Date(UKBINPLbase$CODEDATE)\n",
    "UKBINPLbase$VISDATE<-as.Date(UKBINPLbase$VISDATE.0.0)\n",
    "UKBINPLbase$VISDATE_1Y<-as.Date(UKBINPLbase$VISDATE.0.0)+365.25\n",
    "UKBINPL1Y<-UKBINPLbase  %>% filter(CODEDATE2<=VISDATE_1Y)\n",
    "head(UKBINPL1Y)"
   ]
  },
  {
   "cell_type": "code",
   "execution_count": null,
   "metadata": {},
   "outputs": [],
   "source": [
    "#Pull dx codes and create collapsed variables\n",
    "UKBINPL1Y$E10 <- ifelse(grepl(\"E10\",UKBINPL1Y$CODE),1,0)#DM1\n",
    "UKBINPL1Y$E11 <- ifelse(grepl(\"E11\",UKBINPL1Y$CODE),1,0)#DM2\n",
    "UKBINPL1Y$CHD<-ifelse(grepl(paste(CHDCODE$CODE, collapse = \"|\"), UKBINPL1Y$CODE),1,0)#CHD\n",
    "UKBINPL1Y$HF<-ifelse(grepl(paste(HFCODE$CODE, collapse = \"|\"), UKBINPL1Y$CODE),1,0)#HF\n",
    "UKBINPL1Y$AFIB<-ifelse(grepl(paste(AFIBCODE$CODE, collapse = \"|\"), UKBINPL1Y$CODE),1,0)#AFIB\n",
    "UKBINPL1Y$STROKE<-ifelse(grepl(paste(STROKECODE$CODE, collapse = \"|\"), UKBINPL1Y$CODE),1,0)#STROKE\n",
    "UKBINPL1Y$PVD<-ifelse(grepl(paste(PVDCODE$CODE, collapse = \"|\"), UKBINPL1Y$CODE),1,0)#PVD\n",
    "UKBINPL1Y$DRET<-ifelse(grepl(paste(DRETCODE$CODE, collapse = \"|\"), UKBINPL1Y$CODE),1,0)#DRET\n",
    "UKBINPL1Y$NAFLD<-ifelse(grepl(paste(NAFLDCODE$CODE, collapse = \"|\"), UKBINPL1Y$CODE),1,0)#NAFLD\n",
    "\n",
    "ECOLLAPSE1<- function(data, old_col) {\n",
    "old_col <- enquo(old_col)\n",
    "new_col <- paste0(\"sum_\", quo_name(old_col))\n",
    "data %>% group_by(f.eid) %>%\n",
    "mutate(!!new_col := ifelse(all(is.na(!!old_col)), NA, sum(!!old_col, na.rm = TRUE)))%>%\n",
    "ungroup()}\n",
    "ECOLLAPSE2<- function(data, old_col, sum_col) {\n",
    "old_col <- enquo(old_col)\n",
    "sum_col <- enquo(sum_col)\n",
    "new_col2 <- paste0(\"INP_\", quo_name(old_col))\n",
    "data %>% mutate (!!new_col2 := case_when (!!sum_col >=1~1, !!sum_col==0~0,))}\n",
    " \n",
    "UKBINPL1Y<-UKBINPL1Y%>%\n",
    "ECOLLAPSE1(E10) %>% ECOLLAPSE2(E10, sum_E10)%>%\n",
    "ECOLLAPSE1(E11) %>% ECOLLAPSE2(E11, sum_E11)%>%\n",
    "ECOLLAPSE1(CHD) %>% ECOLLAPSE2(CHD, sum_CHD)%>%\n",
    "ECOLLAPSE1(HF) %>% ECOLLAPSE2(HF, sum_HF)%>%\n",
    "ECOLLAPSE1(AFIB) %>% ECOLLAPSE2(AFIB, sum_AFIB)%>%\n",
    "ECOLLAPSE1(STROKE) %>% ECOLLAPSE2(STROKE, sum_STROKE)%>%\n",
    "ECOLLAPSE1(PVD) %>% ECOLLAPSE2(PVD, sum_PVD)%>%\n",
    "ECOLLAPSE1(DRET) %>% ECOLLAPSE2(DRET, sum_DRET)%>%\n",
    "ECOLLAPSE1(NAFLD) %>% ECOLLAPSE2(NAFLD, sum_NAFLD)"
   ]
  },
  {
   "cell_type": "code",
   "execution_count": null,
   "metadata": {},
   "outputs": [],
   "source": [
    "UKBINPL1Y<-UKBINPL1Y %>% arrange(f.eid)\n",
    "UKBINP_DX<-UKBINPL1Y %>% filter(ICD==\"ICD10.0.0\") #limit to one row per participant\n",
    "UKBINP_DX<-UKBINP_DX %>% select(f.eid, INP_E10, INP_E11, INP_CHD, INP_HF, INP_AFIB, INP_STROKE, INP_PVD, INP_DRET, INP_NAFLD)"
   ]
  },
  {
   "cell_type": "code",
   "execution_count": null,
   "metadata": {},
   "outputs": [],
   "source": [
    "options(repr.matrix.max.rows=6000, repr.matrix.max.cols=2000)\n",
    "head(UKBINP_DX, n=10)\n",
    "xtabs(~INP_E11 + INP_E10, UKBINP_DX)\n",
    "xtabs(~INP_CHD, UKBINP_DX)\n",
    "xtabs(~INP_HF, UKBINP_DX)\n",
    "xtabs(~INP_AFIB, UKBINP_DX)\n",
    "xtabs(~INP_STROKE, UKBINP_DX)\n",
    "xtabs(~INP_PVD, UKBINP_DX)\n",
    "xtabs(~INP_DRET, UKBINP_DX)\n",
    "xtabs(~INP_NAFLD, UKBINP_DX)"
   ]
  },
  {
   "cell_type": "markdown",
   "metadata": {},
   "source": [
    "### 4. Pull Operational Codes from Inpatient Dataset"
   ]
  },
  {
   "cell_type": "code",
   "execution_count": null,
   "metadata": {},
   "outputs": [],
   "source": [
    "#Reshape in R from wide to long and join columns\n",
    "####need OP DATE***\n",
    "UKBOPs<-select(UKBOP, 1, OPCS4.0.0:OPCS4.0.116)\n",
    "UKBOPsD<-select(UKBOP, 1, OPCS4DATE.0.0:OPCS4DATE.0.116)\n",
    "#Reshape from wide to long and join columns\n",
    "UKBOPl <- UKBOPs %>% gather(OPCS,CODE,OPCS4.0.0:OPCS4.0.116)\n",
    "UKBOPlD <- UKBOPsD %>% gather(OPDATE,CODEDATE,OPCS4DATE.0.0:OPCS4DATE.0.116)\n",
    "UKBOPL <- cbind(UKBOPl, UKBOPlD) \n",
    "UKBOPL <- UKBOPL[c(1,2,3,6)]\n",
    "UKBOPL <- UKBOPL %>% filter(!is.na(CODE))\n",
    "head(UKBOPL)"
   ]
  },
  {
   "cell_type": "code",
   "execution_count": null,
   "metadata": {},
   "outputs": [],
   "source": [
    "BASEDATE<-UKBDEMO1  %>% select(f.eid, VISDATE.0.0)\n",
    "UKBOPLbase<-merge(UKBOPL, BASEDATE, by=\"f.eid\", all=T)\n",
    "head(UKBOPLbase)\n",
    "UKBOPLbase$CODEDATE2<-as.Date(UKBOPLbase$CODEDATE)\n",
    "UKBOPLbase$VISDATE<-as.Date(UKBOPLbase$VISDATE.0.0)\n",
    "UKBOPLbase$VISDATE_1Y<-as.Date(UKBOPLbase$VISDATE.0.0)+365.25\n",
    "UKBOPL1Y<-UKBOPLbase  %>% filter(CODEDATE2<=VISDATE_1Y)\n",
    "head(UKBOPL1Y)"
   ]
  },
  {
   "cell_type": "code",
   "execution_count": null,
   "metadata": {},
   "outputs": [],
   "source": [
    "UKBOPL1Y$CHD<-ifelse(grepl(paste(CHDOPCODE$CODE, collapse = \"|\"), UKBOPL1Y$CODE),1,0)#CHD\n",
    "UKBOPL1Y$PVD<-ifelse(grepl(paste(PVDOPCODE$CODE, collapse = \"|\"), UKBOPL1Y$CODE),1,0)#PVD\n",
    "\n",
    "ECOLLAPSE1<- function(data, old_col) {\n",
    "old_col <- enquo(old_col)\n",
    "new_col <- paste0(\"sum_\", quo_name(old_col))\n",
    "data %>% group_by(f.eid) %>%\n",
    "mutate(!!new_col := ifelse(all(is.na(!!old_col)), NA, sum(!!old_col, na.rm = TRUE)))%>%\n",
    "ungroup()}\n",
    "ECOLLAPSE2<- function(data, old_col, sum_col) {\n",
    "old_col <- enquo(old_col)\n",
    "sum_col <- enquo(sum_col)\n",
    "new_col2 <- paste0(\"OP_\", quo_name(old_col))\n",
    "data %>% mutate (!!new_col2 := case_when (!!sum_col >=1~1, !!sum_col==0~0,))}\n",
    " \n",
    "UKBOPL1Y<-UKBOPL1Y %>%\n",
    "ECOLLAPSE1(CHD) %>% ECOLLAPSE2(CHD, sum_CHD) %>%\n",
    "ECOLLAPSE1(PVD) %>% ECOLLAPSE2(PVD, sum_PVD)"
   ]
  },
  {
   "cell_type": "code",
   "execution_count": null,
   "metadata": {},
   "outputs": [],
   "source": [
    "UKBOP_DX<-UKBOPL1Y %>% filter(OPCS==\"OPCS4.0.0\")#limit to one row per participant\n",
    "UKBOP_DX<-UKBOP_DX %>% arrange(f.eid)\n",
    "UKBOP_DX<-UKBOP_DX %>% select(f.eid, OP_CHD, OP_PVD)\n",
    "xtabs(~OP_CHD, UKBOP_DX)\n",
    "options(repr.matrix.max.rows=6000, repr.matrix.max.cols=2000)\n",
    "head(UKBOP_DX, n=3)"
   ]
  },
  {
   "cell_type": "markdown",
   "metadata": {},
   "source": [
    "### 5. Pull ICD codes from death registry data"
   ]
  },
  {
   "cell_type": "code",
   "execution_count": null,
   "metadata": {},
   "outputs": [],
   "source": [
    "options(repr.matrix.max.rows=6000, repr.matrix.max.cols=2000)\n",
    "head (UKBDEATHDIAB)\n",
    "UKBCOD <- select(UKBDEATHDIAB, 1,DOD.0.0, COD1.0.0:COD2.1.13)\n",
    "UKBCODbase<-merge(UKBCOD, BASEDATE, by=\"f.eid\", all=T)\n",
    "UKBCODbase$DOD<-as.Date(UKBCODbase$DOD.0.0)\n",
    "UKBCODbase$VISDATE<-as.Date(UKBCODbase$VISDATE.0.0)\n",
    "UKBCODbase$VISDATE_1Y<-as.Date(UKBCODbase$VISDATE.0.0)+365.25\n",
    "UKBCOD1Y<-UKBCODbase  %>% filter(DOD<=VISDATE_1Y)\n",
    "UKBCODL <- UKBCOD1Y %>% gather(COD,CODE,COD1.0.0:COD2.1.13)\n",
    "UKBCODL <- UKBCODL %>% filter(!is.na(CODE))"
   ]
  },
  {
   "cell_type": "code",
   "execution_count": null,
   "metadata": {},
   "outputs": [],
   "source": [
    "#Pull dx codes and create collapsed variables\n",
    "UKBCODL$E10 <- ifelse(grepl(\"E10\",UKBCODL$CODE),1,0)#DM1\n",
    "UKBCODL$E11 <- ifelse(grepl(\"E11\",UKBCODL$CODE),1,0)#DM2\n",
    "UKBCODL$CHD<-ifelse(grepl(paste(CHDCODE$CODE, collapse = \"|\"), UKBCODL$CODE),1,0)#CHD\n",
    "UKBCODL$HF<-ifelse(grepl(paste(HFCODE$CODE, collapse = \"|\"), UKBCODL$CODE),1,0)#HF\n",
    "UKBCODL$AFIB<-ifelse(grepl(paste(AFIBCODE$CODE, collapse = \"|\"), UKBCODL$CODE),1,0)#AFIB\n",
    "UKBCODL$STROKE<-ifelse(grepl(paste(STROKECODE$CODE, collapse = \"|\"), UKBCODL$CODE),1,0)#STROKE\n",
    "UKBCODL$PVD<-ifelse(grepl(paste(PVDCODE$CODE, collapse = \"|\"), UKBCODL$CODE),1,0)#PVD\n",
    "UKBCODL$NAFLD<-ifelse(grepl(paste(NAFLDCODE$CODE, collapse = \"|\"), UKBCODL$CODE),1,0)#NAFLD\n",
    "\n",
    "\n",
    "ECOLLAPSE1<- function(data, old_col) {\n",
    "old_col <- enquo(old_col)\n",
    "new_col <- paste0(\"sum_\", quo_name(old_col))\n",
    "data %>% group_by(f.eid) %>%\n",
    "mutate(!!new_col := ifelse(all(is.na(!!old_col)), NA, sum(!!old_col, na.rm = TRUE)))%>%\n",
    "ungroup()}\n",
    "ECOLLAPSE2<- function(data, old_col, sum_col) {\n",
    "old_col <- enquo(old_col)\n",
    "sum_col <- enquo(sum_col)\n",
    "new_col2 <- paste0(\"COD_\", quo_name(old_col))\n",
    "data %>% mutate (!!new_col2 := case_when (!!sum_col >=1~1, !!sum_col==0~0,))}\n",
    " \n",
    "UKBCODL<-UKBCODL %>%\n",
    "ECOLLAPSE1(E10) %>% ECOLLAPSE2(E10, sum_E10)%>%\n",
    "ECOLLAPSE1(E11) %>% ECOLLAPSE2(E11, sum_E11)%>%\n",
    "ECOLLAPSE1(CHD) %>% ECOLLAPSE2(CHD, sum_CHD)%>%\n",
    "ECOLLAPSE1(HF) %>% ECOLLAPSE2(HF, sum_HF)%>%\n",
    "ECOLLAPSE1(AFIB) %>% ECOLLAPSE2(AFIB, sum_AFIB)%>%\n",
    "ECOLLAPSE1(STROKE) %>% ECOLLAPSE2(STROKE, sum_STROKE)%>%\n",
    "ECOLLAPSE1(PVD) %>% ECOLLAPSE2(PVD, sum_PVD)%>%\n",
    "ECOLLAPSE1(NAFLD) %>% ECOLLAPSE2(NAFLD, sum_NAFLD)"
   ]
  },
  {
   "cell_type": "code",
   "execution_count": null,
   "metadata": {},
   "outputs": [],
   "source": [
    "UKBCODL<-UKBCODL %>% arrange(f.eid)\n",
    "UKBCOD_DX<-UKBCODL %>% filter(COD==\"COD1.0.0\") #limit to one row per participant\n",
    "UKBCOD_DX<-UKBCOD_DX %>% select(f.eid, COD_E10, COD_E11, COD_CHD, COD_HF, COD_AFIB, COD_STROKE, COD_PVD, COD_NAFLD)\n",
    "head(UKBCOD_DX)\n",
    "xtabs(~COD_NAFLD,UKBCOD_DX)"
   ]
  },
  {
   "cell_type": "markdown",
   "metadata": {},
   "source": [
    "### 6. Pull relevant codes from first occurrences data"
   ]
  },
  {
   "cell_type": "code",
   "execution_count": null,
   "metadata": {},
   "outputs": [],
   "source": [
    "####################NEED TO LIMIT DATE#######################\n",
    "BASEDATE<-UKBDEMO1  %>% select(f.eid, VISDATE.0.0)\n",
    "UKBFIRSTbase<-merge(UKBFIRST, BASEDATE, by=\"f.eid\", all=T)\n",
    "head(UKBFIRSTbase)\n",
    "UKBFIRSTbase$E10DATE<-as.Date(UKBFIRSTbase$E10DATE.0.0)\n",
    "UKBFIRSTbase$E11DATE<-as.Date(UKBFIRSTbase$E11DATE.0.0)\n",
    "UKBFIRSTbase$VISDATE<-as.Date(UKBFIRSTbase$VISDATE.0.0)\n",
    "UKBFIRSTbase$VISDATE_1Y<-as.Date(UKBFIRSTbase$VISDATE.0.0)+365.25\n",
    "UKBFIRST1Y<-UKBFIRSTbase  %>% filter(E10DATE<=VISDATE_1Y|E11DATE<=VISDATE_1Y)\n",
    "head(UKBFIRST1Y)"
   ]
  },
  {
   "cell_type": "code",
   "execution_count": null,
   "metadata": {
    "scrolled": true
   },
   "outputs": [],
   "source": [
    "UKBFIRST <- UKBFIRST1Y %>%\n",
    "mutate(E10_FO= case_when(!is.na(E10DATE) ~1,))%>%\n",
    "mutate(E11_FO= case_when(!is.na(E11DATE) ~1,))\n",
    "head (UKBFIRST, n=10)\n",
    "xtabs(~E11_FO + E10_FO, UKBFIRST, exclude=NULL, na.action=na.pass)\n",
    "UKBFIRST <- UKBFIRST %>% select(f.eid, E10_FO, E11_FO)"
   ]
  },
  {
   "cell_type": "markdown",
   "metadata": {},
   "source": [
    "### 7. Self-report Illness from Verbal Interview (VI)"
   ]
  },
  {
   "cell_type": "code",
   "execution_count": null,
   "metadata": {},
   "outputs": [],
   "source": [
    "options(repr.matrix.max.rows=6000, repr.matrix.max.cols=2000)\n",
    "#Separate columns of data from verbal interview  \n",
    "UKBSDXILL<- select(UKBSDX, 1,ILLNESS.0.0:ILLNESS.0.33)\n",
    "UKBSDXILLL <- UKBSDXILL %>% gather(ILLNUM,ILLCODE,ILLNESS.0.0:ILLNESS.0.33)\n",
    "UKBSDXILLL<-UKBSDXILLL %>% arrange(f.eid)\n",
    "UKBSDXILLL$DM <- case_when(UKBSDXILLL$ILLCODE==1220~1,)\n",
    "UKBSDXILLL$GDM <- case_when(UKBSDXILLL$ILLCODE==1221~1,)\n",
    "UKBSDXILLL$E10 <- case_when(UKBSDXILLL$ILLCODE==1222~1,)\n",
    "UKBSDXILLL$E11 <- case_when(UKBSDXILLL$ILLCODE==1223~1,)\n",
    "UKBSDXILLL$HTN <- case_when(UKBSDXILLL$ILLCODE==1065|UKBSDXILLL$ILLCODE==1072~1,)\n",
    "UKBSDXILLL$MI <- case_when(UKBSDXILLL$ILLCODE==1075~1,)\n",
    "UKBSDXILLL$PVD <- case_when(UKBSDXILLL$ILLCODE==1067|UKBSDXILLL$ILLCODE==1087|UKBSDXILLL$ILLCODE==1088~1,)\n",
    "UKBSDXILLL$HF <- case_when(UKBSDXILLL$ILLCODE==1076~1,)\n",
    "UKBSDXILLL$STRK <- case_when(UKBSDXILLL$ILLCODE==1081|UKBSDXILLL$ILLCODE==1086~1,)\n",
    "UKBSDXILLL$DIAL <- case_when(UKBSDXILLL$ILLCODE==1193~1,)\n",
    "UKBSDXILLL$PN <- case_when(UKBSDXILLL$ILLCODE==1255~1,)\n",
    "UKBSDXILLL$DRET <- case_when(UKBSDXILLL$ILLCODE==1276~1,)\n",
    "UKBSDXILLL$DPN <- case_when(UKBSDXILLL$ILLCODE==1468~1,)\n",
    "UKBSDXILLL$AFIB <- case_when(UKBSDXILLL$ILLCODE==1471~1,)\n",
    "\n",
    "head(UKBSDXILLL, n=4)"
   ]
  },
  {
   "cell_type": "code",
   "execution_count": null,
   "metadata": {},
   "outputs": [],
   "source": [
    "ECOLLAPSE1<- function(data, old_col) {\n",
    "old_col <- enquo(old_col)\n",
    "new_col <- paste0(\"sum_\", quo_name(old_col))\n",
    "data %>% group_by(f.eid) %>%\n",
    "mutate(!!new_col := ifelse(all(is.na(!!old_col)), NA, sum(!!old_col, na.rm = TRUE)))%>%\n",
    "ungroup()}\n",
    "ECOLLAPSE2<- function(data, old_col, sum_col) {\n",
    "old_col <- enquo(old_col)\n",
    "sum_col <- enquo(sum_col)\n",
    "new_col2 <- paste0(\"ILL_\", quo_name(old_col))\n",
    "data %>% mutate (!!new_col2 := case_when (!!sum_col >=1~1, !!sum_col==0~0,))}\n",
    " \n",
    "UKBSDXILLL<-UKBSDXILLL %>%\n",
    "ECOLLAPSE1(GDM) %>% ECOLLAPSE2(GDM, sum_GDM)%>%\n",
    "ECOLLAPSE1(DM) %>% ECOLLAPSE2(DM, sum_DM)%>%\n",
    "ECOLLAPSE1(E10) %>% ECOLLAPSE2(E10, sum_E10)%>%\n",
    "ECOLLAPSE1(E11) %>% ECOLLAPSE2(E11, sum_E11)%>%\n",
    "ECOLLAPSE1(HTN) %>% ECOLLAPSE2(HTN, sum_HTN)%>%\n",
    "ECOLLAPSE1(MI) %>% ECOLLAPSE2(MI, sum_MI)%>%\n",
    "ECOLLAPSE1(PVD) %>% ECOLLAPSE2(PVD, sum_PVD)%>%\n",
    "ECOLLAPSE1(HF) %>% ECOLLAPSE2(HF, sum_HF)%>%\n",
    "ECOLLAPSE1(STRK) %>% ECOLLAPSE2(STRK, sum_STRK)%>%\n",
    "ECOLLAPSE1(DIAL) %>% ECOLLAPSE2(DIAL, sum_DIAL)%>%\n",
    "ECOLLAPSE1(PN) %>% ECOLLAPSE2(PN, sum_PN)%>%\n",
    "ECOLLAPSE1(DRET) %>% ECOLLAPSE2(DRET, sum_DRET)%>%\n",
    "ECOLLAPSE1(DPN) %>% ECOLLAPSE2(DPN, sum_DPN)%>%\n",
    "ECOLLAPSE1(AFIB) %>% ECOLLAPSE2(AFIB, sum_AFIB)"
   ]
  },
  {
   "cell_type": "code",
   "execution_count": null,
   "metadata": {},
   "outputs": [],
   "source": [
    "UKBILL<-UKBSDXILLL%>%\n",
    "filter(ILLNUM==\"ILLNESS.0.0\")%>% select(f.eid, ILL_DM, ILL_GDM, ILL_E10, ILL_E11, ILL_HTN, ILL_MI, ILL_PVD, ILL_HF, \n",
    "ILL_STRK, ILL_DIAL, ILL_PN, ILL_DRET, ILL_DPN, ILL_AFIB)"
   ]
  },
  {
   "cell_type": "code",
   "execution_count": null,
   "metadata": {},
   "outputs": [],
   "source": [
    "xtabs(~ILL_E10 + ILL_E11, UKBILL, exclude=NULL, na.action=na.pass)\n",
    "xtabs(~ILL_GDM + ILL_DM, UKBILL, exclude=NULL, na.action=na.pass)"
   ]
  },
  {
   "cell_type": "markdown",
   "metadata": {},
   "source": [
    "### 8. Self Reported Operations from Verbal Interview (VI)"
   ]
  },
  {
   "cell_type": "code",
   "execution_count": null,
   "metadata": {},
   "outputs": [],
   "source": [
    "#Separate columns of data from Nurse interview \n",
    "UKBSDXOP <- select(UKBSDX, 1,OPCODE.0.0:OPCODE.0.31)\n",
    "UKBSDXOPL <- UKBSDXOP %>% gather(OPCODE,CODE,OPCODE.0.0:OPCODE.0.31)\n",
    "UKBSDXOPL<- UKBSDXOPL %>% filter(!is.na(CODE))\n",
    "UKBSDXOPL<-UKBSDXOPL %>% arrange(f.eid)\n",
    "UKBSDXOPL<-UKBSDXOPL %>% mutate(CHD= case_when(CODE==1070|CODE==1095|CODE==1523~1,))%>% \n",
    "mutate(PVD= case_when(CODE==1102|CODE==1108|CODE==1440~1,))"
   ]
  },
  {
   "cell_type": "code",
   "execution_count": null,
   "metadata": {},
   "outputs": [],
   "source": [
    "ECOLLAPSE1<- function(data, old_col) {\n",
    "old_col <- enquo(old_col)\n",
    "new_col <- paste0(\"sum_\", quo_name(old_col))\n",
    "data %>% group_by(f.eid) %>%\n",
    "mutate(!!new_col := ifelse(all(is.na(!!old_col)), NA, sum(!!old_col, na.rm = TRUE)))%>%\n",
    "ungroup()}\n",
    "ECOLLAPSE2<- function(data, old_col, sum_col) {\n",
    "old_col <- enquo(old_col)\n",
    "sum_col <- enquo(sum_col)\n",
    "new_col2 <- paste0(\"OPSDX_\", quo_name(old_col))\n",
    "data %>% mutate (!!new_col2 := case_when (!!sum_col >=1~1, !!sum_col==0~0,))}\n",
    " \n",
    "UKBSDXOPL<-UKBSDXOPL %>%\n",
    "ECOLLAPSE1(CHD) %>% ECOLLAPSE2(CHD, sum_CHD)%>%\n",
    "ECOLLAPSE1(PVD) %>% ECOLLAPSE2(PVD, sum_PVD)"
   ]
  },
  {
   "cell_type": "code",
   "execution_count": null,
   "metadata": {},
   "outputs": [],
   "source": [
    "UKBSDXOPL<-UKBSDXOPL %>% filter(OPCODE==\"OPCODE.0.0\")\n",
    "UKBSDXOPL<-UKBSDXOPL %>% select(f.eid, OPSDX_CHD, OPSDX_PVD)\n",
    "options(repr.matrix.max.rows=6000, repr.matrix.max.cols=200)\n",
    "head(UKBSDXOPL, n=3) "
   ]
  },
  {
   "cell_type": "markdown",
   "metadata": {},
   "source": [
    "### 9. Self Report of CVD Illness from Touchscreen (TS) Questionnaire"
   ]
  },
  {
   "cell_type": "code",
   "execution_count": null,
   "metadata": {},
   "outputs": [],
   "source": [
    "UKBCVDSDX<-UKBSDX%>% select(1,DOC_HEART.0.0:DOC_HEART.0.3)%>%\n",
    "mutate(SDX_MI= case_when(DOC_HEART.0.0==\"Heart attack\"|DOC_HEART.0.1==\"Heart attack\"|DOC_HEART.0.2==\"Heart attack\"|DOC_HEART.0.3==\"Heart attack\"~1,))%>%\n",
    "mutate(SDX_STRK= case_when(DOC_HEART.0.0==\"Stroke\"|DOC_HEART.0.1==\"Stroke\"|DOC_HEART.0.2==\"Stroke\"|DOC_HEART.0.3==\"Stroke\"~1,))%>%\n",
    "mutate(SDX_HTN= case_when(DOC_HEART.0.0==\"High blood pressure\"|DOC_HEART.0.1==\"High blood pressure\"|DOC_HEART.0.2==\"High blood pressure\"|DOC_HEART.0.3==\"High blood pressure\"~1,))\n",
    "options(repr.matrix.max.rows=6000, repr.matrix.max.cols=2000)\n",
    "head(UKBCVDSDX, n=100)\n",
    "UKBCVDSDX<-UKBCVDSDX%>% select(f.eid, SDX_MI, SDX_STRK, SDX_HTN)"
   ]
  },
  {
   "cell_type": "markdown",
   "metadata": {},
   "source": [
    "### 10. Self Report of Diabetes from Touchscreen (TS) Questionnaire"
   ]
  },
  {
   "cell_type": "code",
   "execution_count": null,
   "metadata": {},
   "outputs": [],
   "source": [
    "UKBDEATHDIAB<-UKBDEATHDIAB %>% \n",
    "mutate(DIAB_35up=case_when(DIAB_AGE.0.0<=35~0, DIAB_AGE.0.0>35~1,))%>% \n",
    "mutate(DIAB_SDX=case_when(DIAB_SDX.0.0==\"Yes\"~1, DIAB_SDX.0.0 == \"No\"~0, ))%>% \n",
    "mutate(GDMONLY=case_when(GDMONLY.0.0==\"Yes\"~1,GDMONLY.0.0==\"No\"~0, ))%>% \n",
    "mutate(INSULIN_YR1=case_when(DIAB_SDX_INS.0.0==\"Yes\"~1, DIAB_SDX_INS.0.0 ==\"No\"|DIAB_SDX_INS.0.0==\"Do not know\"~0, ))"
   ]
  },
  {
   "cell_type": "code",
   "execution_count": null,
   "metadata": {},
   "outputs": [],
   "source": [
    "UKBDM <-full_join(UKBLAB, UKBDEATHDIAB) %>%\n",
    "full_join(., UKBFIRST)%>% \n",
    "full_join(., UKBINP_DX)%>%\n",
    "full_join(., DM_MED)%>%\n",
    "full_join(., UKBILL)"
   ]
  },
  {
   "cell_type": "markdown",
   "metadata": {},
   "source": [
    "### 11. Use Eastwood et. al algorithm to code prevalent diabetes"
   ]
  },
  {
   "cell_type": "code",
   "execution_count": null,
   "metadata": {},
   "outputs": [],
   "source": [
    "#Merge DM and Demo data\n",
    "UKB01<- merge(UKB01, UKBDM, by=c(\"f.eid\"), all = TRUE)\n",
    "\n",
    "#Step 1 Identify those w/ self-reported diabetes or diabetic medication (No Diabetes if there was no dx in TS or VI)\n",
    "UKB01<-UKB01%>%\n",
    "mutate(DM_POS1=case_when \n",
    "(ILL_DM==1|ILL_GDM==1|GDMONLY==1|MED_INSULIN==1|MED_INSULIN_MF==1|MED_METFORMIN==1|MED_GLUCOPHAGE==1|MED_OTHER_DM==1|ILL_E10==1|ILL_E11==1~1))%>%\n",
    "\n",
    "#Step 2 exclude gestational diabetes\n",
    "mutate(GDM_PROB=case_when \n",
    "(GDMONLY==1 & MED_INSULIN!=1 & MED_INSULIN_MF!=1 & MED_METFORMIN!=1 & MED_GLUCOPHAGE!=1 & MED_OTHER_DM!=1 & is.na(ILL_E10) & is.na(ILL_E11)~1,\n",
    "ILL_GDM==1&DIAB_AGE.0.0<50&MED_INSULIN!=1&MED_INSULIN_MF!=1&MED_METFORMIN!=1&MED_GLUCOPHAGE!=1&MED_OTHER_DM!=1 & is.na(ILL_E10) & is.na(ILL_E11)~1,))%>%\n",
    "mutate(DM_POS2=case_when(DM_POS1==1 & is.na(GDM_PROB)~1,))\n",
    "\n",
    "#Step3 oral diabetes drugs probably exclusive to type2 diabetes\n",
    "UKB01<-UKB01%>% \n",
    "mutate(DM_PROB3=case_when(DM_POS2==1 & MED_OTHER_DM==1~1,))\n",
    "\n",
    "#Step4 use age at dx to determine Type 1 DM (Recode age at diabetes (-3 (Prefer not to answer) -1 (Do not know))\n",
    "UKB01<-UKB01%>%\n",
    "mutate(DIAB_AGE=ifelse(DIAB_AGE.0.0<0,NA,DIAB_AGE.0.0))\n",
    "UKB01<-UKB01%>% \n",
    "mutate(DM1_PROB4=case_when(DM_POS2==1 & is.na(DM_PROB3) & SASIAN==1 & DIAB_AGE<=30~1,\n",
    "                           DM_POS2==1 & is.na(DM_PROB3) & CARIBN==1 & DIAB_AGE<=30~1,\n",
    "                           DM_POS2==1 & is.na(DM_PROB3) & is.na(CARIBN) & is.na(SASIAN) & DIAB_AGE<=36~1,))# Not clear in Eastwood\n",
    "\n",
    "#Step5 use insulin meds and dx to determine Type 1 DM\n",
    "UKB01<-UKB01%>% \n",
    "mutate(DM1INS=case_when(INSULIN_YR1==1| ILL_E10==1|MED_INSULIN==1|MED_INSULIN_MF==1~1,))%>%\n",
    "mutate(DM1_PROB5=case_when(DM1_PROB4==1 & DM1INS~1,))\n",
    "\n",
    "UKB01<-UKB01%>% \n",
    "mutate(DM_POS3=case_when(DM_POS2==1 & is.na(DM1_PROB5)~1,)) #Prevalent T2DM after excluding T1DM and GDM"
   ]
  },
  {
   "cell_type": "markdown",
   "metadata": {},
   "source": [
    "### 11. Additional participants with lab based or EMR based DM2"
   ]
  },
  {
   "cell_type": "code",
   "execution_count": null,
   "metadata": {},
   "outputs": [],
   "source": [
    "#convert NFPG to mg/dl\n",
    "#HBA1C in mmol/mol HbA1C > 6.5% (48 mmol/mol)\n",
    "UKB01$NFPG <- UKB01$GLUCOSE.0.0*18.02\n",
    "UKB01$A1C <- UKB01$HBA1C.0.0\n",
    "UKB01<- UKB01 %>%\n",
    "mutate(DM_NFPG= case_when(NFPG >=200~1,))%>%\n",
    "mutate(DM_A1C= case_when(A1C >=48~1,))\n",
    "UKB01<- UKB01 %>%\n",
    "mutate(DM_POS4=case_when(DM_POS3==1|E11_FO==1|DM_NFPG==1|DM_A1C==1~1,))%>% #add labs and DM from EMR\n",
    "mutate(DM_POS5=case_when(DM_POS4==1 & is.na(DM1_PROB5) & is.na(GDM_PROB)~1,))%>% #remove Type1 and GDM\n",
    "mutate(DM_POS6=case_when(DM_POS3==1|DM_NFPG==1|DM_A1C==1~1,))%>% # no DM from EMR\n",
    "mutate(DM_POS7=case_when(DM_POS6==1 & is.na(DM1_PROB5) & is.na(GDM_PROB)~1,)) #remove Type1 and GDM\n"
   ]
  },
  {
   "cell_type": "code",
   "execution_count": null,
   "metadata": {},
   "outputs": [],
   "source": [
    "#write.table(UKB01, file=\"/data/nrnb03/dbGaP/users/e6richar/jupyter/UKB_Pheno/UKB01.txt\", quote=FALSE, sep=\"\\t\", row.names=FALSE)"
   ]
  },
  {
   "cell_type": "code",
   "execution_count": null,
   "metadata": {},
   "outputs": [],
   "source": [
    "UKB01<-read.delim(\"/data/nrnb03/dbGaP/users/e6richar/jupyter/UKB_Pheno/UKB01.txt\", header = TRUE, na.strings=c(\"\",\".\",\"NA\"))"
   ]
  },
  {
   "cell_type": "code",
   "execution_count": null,
   "metadata": {},
   "outputs": [],
   "source": [
    "xtabs(~DM_POS3, UKB01, exclude=NULL, na.action=na.pass) \n",
    "xtabs(~DM_POS5, UKB01, exclude=NULL, na.action=na.pass)\n",
    "xtabs(~DM_POS7, UKB01, exclude=NULL, na.action=na.pass)\n",
    "xtabs(~DM1_PROB5, UKB01, exclude=NULL, na.action=na.pass)\n",
    "xtabs(~SEX.0.0, UKB01, exclude=NULL, na.action=na.pass)"
   ]
  },
  {
   "cell_type": "markdown",
   "metadata": {},
   "source": [
    "### 12. Code Variables from algorithm data"
   ]
  },
  {
   "cell_type": "code",
   "execution_count": null,
   "metadata": {},
   "outputs": [],
   "source": [
    "#had to recode due to data changes\n",
    "#table(UKB01$MISOURCE.0.0)\n",
    "UKBEVENT <- UKBEVENT %>%\n",
    "mutate(MI=ifelse(!is.na(MISOURCE.0.0),1,0))%>%\n",
    "mutate(STROKE=ifelse(!is.na(STROKESOURCE.0.0),1,0))%>%\n",
    "mutate(ESRD=ifelse(!is.na(ESRDSOURCE.0.0),1,0))"
   ]
  },
  {
   "cell_type": "code",
   "execution_count": null,
   "metadata": {},
   "outputs": [],
   "source": [
    "UKB02<- merge(UKB01, UKBOP_DX, by=c(\"f.eid\"), all = TRUE)\n",
    "UKB03<- merge(UKB02, UKBSDXOPL, by=c(\"f.eid\"), all = TRUE)\n",
    "UKB04<- merge(UKB03, UKBCVDSDX, by=c(\"f.eid\"), all = TRUE)\n",
    "UKB05<- merge(UKB04, UKBEVENT, by=c(\"f.eid\"), all = TRUE)\n",
    "UKB06<- merge(UKB05, UKBCOD_DX, by=c(\"f.eid\"), all = TRUE)"
   ]
  },
  {
   "cell_type": "code",
   "execution_count": null,
   "metadata": {},
   "outputs": [],
   "source": [
    "options(repr.matrix.max.rows=6000, repr.matrix.max.cols=2000)\n",
    "head(UKB06, n=3)"
   ]
  },
  {
   "cell_type": "markdown",
   "metadata": {},
   "source": [
    "### 13. Code Complications Using Different Sources"
   ]
  },
  {
   "cell_type": "code",
   "execution_count": null,
   "metadata": {},
   "outputs": [],
   "source": [
    "UKB06<- UKB06 %>%\n",
    "mutate(CHD_TOT=case_when(INP_CHD==1|OP_CHD==1|COD_CHD==1|ILL_MI==1|OPSDX_CHD==1|SDX_MI==1|MI==1~1,))%>% \n",
    "mutate(HTN_TOT=case_when(MED_BP_MF==1|ILL_HTN==1|SDX_HTN==1~1,))%>% \n",
    "mutate(STRK_TOT=case_when(INP_STROKE==1|COD_STROKE==1|ILL_STRK==1|SDX_STRK==1~1,))%>% \n",
    "mutate(AFIB_TOT=case_when(INP_AFIB==1|COD_AFIB==1|ILL_AFIB==1~1,))%>% \n",
    "mutate(PVD_TOT=case_when(INP_PVD==1|OP_PVD==1|COD_PVD==1|ILL_PVD==1|OPSDX_PVD==1~1,))%>% \n",
    "mutate(HF_TOT=case_when(INP_HF==1|COD_HF==1|ILL_HF==1~1,))%>% \n",
    "mutate(CVD_TOT=case_when(HF_TOT==1|AFIB_TOT==1|STRK_TOT==1|CHD_TOT~1,))%>% \n",
    "#mutate(PN_TOT=case_when(INP_PN==1|ILL_PN==1~1,))%>% \n",
    "#mutate(DPN_TOT=case_when(INP_DPN==1|ILL_PDN==1~1,))%>% \n",
    "mutate(DRET_TOT=case_when(INP_DRET==1|ILL_DRET==1~1,))%>% \n",
    "mutate(NAFLD_TOT=case_when(INP_NAFLD==1|COD_NAFLD==1~1,))"
   ]
  },
  {
   "cell_type": "code",
   "execution_count": null,
   "metadata": {},
   "outputs": [],
   "source": [
    "UKB06<- UKB06 %>%\n",
    "mutate(CHD=case_when(CHD_TOT==1~1,is.na(CHD_TOT)~0, ))%>% \n",
    "mutate(STRK=case_when(STRK_TOT==1~1,is.na(STRK_TOT)~0, ))%>% \n",
    "mutate(AFIB=case_when(AFIB_TOT==1~1,is.na(AFIB_TOT)~0, ))%>% \n",
    "mutate(PVD=case_when(PVD_TOT==1~1,is.na(PVD_TOT)~0, ))%>% \n",
    "mutate(HF=case_when(HF_TOT==1~1,is.na(HF_TOT)~0, ))%>% \n",
    "mutate(CVD=case_when(CVD_TOT==1~1,is.na(CVD_TOT)~0, ))%>% \n",
    "#mutate(PN_TOT=case_when(INP_PN==1|ILL_PN==1~1,))%>% \n",
    "#mutate(DPN_TOT=case_when(INP_DPN==1|ILL_PDN==1~1,))%>% \n",
    "mutate(DRET=case_when(DRET_TOT==1~1,is.na(DRET_TOT)~0, ))%>% \n",
    "mutate(NAFLD=case_when(NAFLD_TOT==1~1,is.na(NAFLD_TOT)~0, ))"
   ]
  },
  {
   "cell_type": "markdown",
   "metadata": {},
   "source": [
    "### 14. Calculate eGFR and define CKD"
   ]
  },
  {
   "cell_type": "code",
   "execution_count": null,
   "metadata": {},
   "outputs": [],
   "source": [
    "UKB06$CREATININE_SRM<- UKB06$CREATININE_SRM.0.0*0.0113\n",
    "#Calculate GFR_Epi (0=F 1=M W=WHITE B=BLACK)\n",
    "UKB06$SEX <- UKB06$SEX.0.0\n",
    "UKB06$AGE <- UKB06$AGE.0.0\n",
    "UKB06 <- UKB06 %>%\n",
    "mutate (kappa=ifelse(SEX==\"Male\",0.9, ifelse(SEX==\"Female\",0.7,NA))) %>%\n",
    "mutate (alpha=ifelse(SEX==\"Male\",-0.411, ifelse(SEX==\"Female\",-0.329,NA))) %>%\n",
    "mutate (constant1=ifelse(SEX==\"Male\",1, ifelse(SEX==\"Female\",1.018,NA))) %>%\n",
    "mutate (constant2=ifelse(RACE==\"B\",1.159, ifelse(RACE!=\"B\",1,NA)))\n",
    "\n",
    "UKB06 <- UKB06 %>%                                      \n",
    "mutate (CK=(CREATININE_SRM/kappa)) %>%  \n",
    "mutate (CKmin= ifelse(CK < 1, CK, 1)) %>%  \n",
    "mutate (CKmax= ifelse(CK > 1, CK, 1))\n",
    "                                   \n",
    "UKB06 <- UKB06 %>%                                           \n",
    "mutate(GFR_EPI = 141 * (CKmin^alpha) * (CKmax^-1.209) * (0.993^AGE) * constant1 * constant2)\n",
    "\n",
    "UKB06 <- UKB06 %>%                                           \n",
    "mutate(GFR_EPI =case_when(ESRD==1~10, TRUE~GFR_EPI, ))"
   ]
  },
  {
   "cell_type": "code",
   "execution_count": null,
   "metadata": {},
   "outputs": [],
   "source": [
    "UKB06 <- UKB06 %>%\n",
    "mutate(URN_ALBUMIN= ifelse(URN_ALBUMIN_FLAG.0.0 ==\"<6.7\" & !is.na(URN_ALBUMIN_FLAG.0.0) , 6.7,\n",
    "                    ifelse(is.na(URN_ALBUMIN_FLAG.0.0) & !is.na(URN_ALBUMIN.0.0),URN_ALBUMIN.0.0,                  \n",
    "                    ifelse (is.na(URN_ALBUMIN_FLAG.0.0) & is.na(URN_ALBUMIN_FLAG.0.0), NA,URN_ALBUMIN.0.0))))"
   ]
  },
  {
   "cell_type": "code",
   "execution_count": null,
   "metadata": {},
   "outputs": [],
   "source": [
    "summary(UKB06$URN_ALBUMIN)\n",
    "summary(UKB06$URN_CREATININE.0.0)"
   ]
  },
  {
   "cell_type": "markdown",
   "metadata": {},
   "source": [
    "### Categorize Micro and Macro based on DKD GWAS"
   ]
  },
  {
   "cell_type": "code",
   "execution_count": null,
   "metadata": {},
   "outputs": [],
   "source": [
    "UKB06$UACRsi<- (UKB06$URN_ALBUMIN/UKB06$URN_CREATININE.0.0)*1000\n",
    "summary(UKB06$UACRsi)\n",
    "#UACR 2.5-25 mg/mmol (men); 3.5-35 mg/mmol (women)\n",
    "UKB06 <- UKB06 %>%\n",
    "mutate(ALBCATS= case_when(SEX==\"Male\" & UACRsi<2.5~0,\n",
    "                            SEX==\"Male\" & UACRsi >= 2.5 & UACRsi <= 25~1,\n",
    "                            SEX==\"Male\" & UACRsi>25~2,\n",
    "                            SEX==\"Female\" & UACRsi<3.5~0,\n",
    "                            SEX==\"Female\" & UACRsi >= 3.5 &  UACRsi <=35~1,\n",
    "                            SEX==\"Female\" & UACRsi >35~2,))%>%\n",
    "mutate(ALB=case_when(ALBCATS>=1~1, ALBCATS==0~0, ))%>%\n",
    "mutate(MICRO=case_when(ALBCATS==1~1, ALBCATS==0~0, ))%>%\n",
    "mutate(MACRO=case_when(ALBCATS==2~1, ALBCATS==0~0, ))%>%\n",
    "\n",
    "mutate(ALBCATS2= case_when(URN_ALBUMIN_FLAG.0.0 ==\"<6.7\"~0, ###assume that they have normal albumin\n",
    "                            SEX==\"Male\" & UACRsi<2.5~0,\n",
    "                            SEX==\"Male\" & UACRsi >= 2.5 & UACRsi <= 25~1,\n",
    "                            SEX==\"Male\" & UACRsi>25~2,\n",
    "                            SEX==\"Female\" & UACRsi<3.5~0,\n",
    "                            SEX==\"Female\" & UACRsi >= 3.5 &  UACRsi <=35~1,\n",
    "                            SEX==\"Female\" & UACRsi >35~2,))%>%\n",
    "mutate(ALB2=case_when(ALBCATS2>=1~1, ALBCATS2==0~0, ))%>%\n",
    "mutate(MICRO2=case_when(ALBCATS2==1~1, ALBCATS2==0~0, ))%>%\n",
    "mutate(MACRO2=case_when(ALBCATS2==2~1, ALBCATS2==0~0, ))"
   ]
  },
  {
   "cell_type": "code",
   "execution_count": null,
   "metadata": {},
   "outputs": [],
   "source": [
    "#Define CKD according to CKD-EPI\n",
    "UKB06 <- UKB06 %>%\n",
    "mutate(CKD= case_when(GFR_EPI < 60 ~1, GFR_EPI >= 60~0,))%>%\n",
    "mutate(CKD_45= case_when(GFR_EPI < 45 ~1, GFR_EPI >= 45~0,))%>%\n",
    "mutate(CKD_EXT= case_when(GFR_EPI < 15~1, GFR_EPI >= 15 ~0,)) "
   ]
  },
  {
   "cell_type": "code",
   "execution_count": null,
   "metadata": {},
   "outputs": [],
   "source": [
    "##Define DKD and CKD-DN based on macroalbuminuria and/or ckd-extreme\n",
    "UKB06 <- UKB06 %>%\n",
    "mutate(DKD= case_when (ALBCATS >= 1|CKD_EXT == 1~1, ALB==0~0,)) %>% ########include micro\n",
    "mutate(CKD_DN= case_when(CKD_45 ==1|MACRO>=1~1, CKD==0 & ALB==0~0, )) %>%\n",
    "mutate(DN= case_when(CKD_EXT ==1|MACRO>=1~1, ALB==0~0, ))%>%\n",
    "mutate(CKD_DKD= case_when(CKD_45 ==1&ALB==1~1, CKD==0 & ALB==0~0, )) \n",
    "\n",
    "UKB06 <- UKB06 %>%\n",
    "mutate(DKD2= case_when (ALBCATS2 >= 1|CKD_EXT == 1~1, ALB2==0~0,)) %>% ########include micro\n",
    "mutate(CKD_DN2= case_when(CKD_45 ==1|MACRO2>=1~1, CKD==0 & ALB2==0~0, )) %>%\n",
    "mutate(DN2= case_when(CKD_EXT ==1|MACRO2>=1~1, ALB2==0~0, )) %>%\n",
    "mutate(CKD_DKD2= case_when(CKD_45 ==1&ALB2==1~1, CKD==0 & ALB2==0~0, )) "
   ]
  },
  {
   "cell_type": "code",
   "execution_count": null,
   "metadata": {},
   "outputs": [],
   "source": [
    "xtabs(~ALBCATS2+CKD, UKB06, exclude=NULL, na.action=na.pass)\n",
    "xtabs(~MACRO2, UKB06, exclude=NULL, na.action=na.pass)\n",
    "xtabs(~ALB2, UKB06, exclude=NULL, na.action=na.pass)\n",
    "xtabs(~CKD_DN2, UKB06, exclude=NULL, na.action=na.pass)\n",
    "xtabs(~DN2, UKB06, exclude=NULL, na.action=na.pass)\n",
    "xtabs(~DKD2, UKB06, exclude=NULL, na.action=na.pass)\n",
    "xtabs(~CKD_DKD2+DM_POS5, UKB06, exclude=NULL, na.action=na.pass)\n",
    "xtabs(~CKD_45+ALB2, UKB06, exclude=NULL, na.action=na.pass)\n",
    "summary(UKB06$GFR_EPI)\n",
    "summary(UKB06$UACR)"
   ]
  },
  {
   "cell_type": "code",
   "execution_count": null,
   "metadata": {},
   "outputs": [],
   "source": [
    "write.table(UKB06, file=\"/data/nrnb03/dbGaP/users/e6richar/jupyter/UKB_Pheno/UKB06_1YR.txt\", quote=FALSE, sep=\"\\t\", row.names=FALSE)"
   ]
  },
  {
   "cell_type": "code",
   "execution_count": null,
   "metadata": {},
   "outputs": [],
   "source": [
    "UKB06_1YR<- read.delim(\"/data/nrnb03/dbGaP/users/e6richar/jupyter/UKB_Pheno/UKB06_1YR.txt\", header = TRUE, na.strings=c(\"\",\".\",\"NA\"))"
   ]
  },
  {
   "cell_type": "code",
   "execution_count": null,
   "metadata": {},
   "outputs": [],
   "source": [
    "library(dplyr)\n",
    "UKB_CHD_1YR<-UKB06_1YR %>% select (f.eid, CHD, DM_POS5)\n",
    "write.table(UKB_CHD_1YR, file=\"/data/nrnb03/dbGaP/users/e6richar/jupyter/UKB_Pheno/UKB_CHD_1YR.txt\", quote=FALSE, sep=\"\\t\", row.names=FALSE)"
   ]
  },
  {
   "cell_type": "code",
   "execution_count": null,
   "metadata": {},
   "outputs": [],
   "source": [
    "#library(dplyr)\n",
    "#UKBCHD<-UKB06 %>% select(f.eid, CHD)###limit to CHD for Steven\n",
    "xtabs(~ESRD+DM_POS5, UKB06_1YR, exclude=NULL, na.action=na.pass)\n",
    "#write.table(UKBCHD, file=\"/data/nrnb03/dbGaP/users/e6richar/jupyter/UKB_Pheno/UKBB_FULL_CHD.txt\", quote=FALSE, sep=\"\\t\", row.names=FALSE)"
   ]
  },
  {
   "cell_type": "code",
   "execution_count": null,
   "metadata": {},
   "outputs": [],
   "source": [
    "#Calculate average blood pressure\n",
    "UKB06$SBPm.0.0<-as.numeric(UKB06$SBPm.0.0)\n",
    "UKB06$SBPm.0.1<-as.numeric(UKB06$SBPm.0.1)\n",
    "UKB06$SBP.0.0<-as.numeric(UKB06$SBP.0.0)\n",
    "UKB06$SBP.0.1<-as.numeric(UKB06$SBP.0.1)\n",
    "UKB06$DBPm.0.0<-as.numeric(UKB06$DBPm.0.0)\n",
    "UKB06$DBPm.0.1<-as.numeric(UKB06$DBPm.0.1)\n",
    "UKB06$DBP.0.0<-as.numeric(UKB06$DBP.0.0)\n",
    "UKB06$DBP.0.1<-as.numeric(UKB06$DBP.0.1)\n",
    "\n",
    "UKB06<-UKB06%>% mutate(SBP1=case_when(!is.na(SBP.0.0)~SBP.0.0, is.na(SBP.0.0)~SBPm.0.0, ))%>% \n",
    "mutate(SBP2=case_when(!is.na(SBP.0.1)~SBP.0.1, is.na(SBP.0.1)~SBPm.0.1, ))%>% \n",
    "mutate(SBPavg=(SBP1+SBP2)/2)%>% mutate(SBP=case_when(!is.na(SBPavg)~SBPavg, is.na(SBPavg)~SBP1, ))%>%\n",
    "\n",
    "mutate(DBP1=case_when(!is.na(DBP.0.0)~DBP.0.0, is.na(DBP.0.0)~DBPm.0.0, ))%>% \n",
    "mutate(DBP2=case_when(!is.na(DBP.0.1)~DBP.0.1, is.na(DBP.0.1)~DBPm.0.1, ))%>% \n",
    "mutate(DBPavg=(DBP1+DBP2)/2)%>% mutate(DBP=case_when(!is.na(DBPavg)~DBPavg,is.na(DBPavg)~DBP1, ))"
   ]
  },
  {
   "cell_type": "code",
   "execution_count": null,
   "metadata": {},
   "outputs": [],
   "source": [
    "options(repr.matrix.max.rows=6000, repr.matrix.max.cols=2000)\n",
    "UKB07<-UKB06%>% select(f.eid, YOB.0.0, WAIST_CM.0.0, HIP_CM.0.0, VISDATE.0.0, CENTER.0.0, FASTTIME.0.0, SBP, DBP, SES_TDI.0.0, EXERTIME.0.0, ALCFREQ.0.0, PREGNANT.0.0, EDUCATION.0.0, EDUCATION.0.1, EDUCATION.0.2, EDUCATION.0.3, EDUCATION.0.4, EDUCATION.0.5, SMOKE.0.0, CURRALC.0.0, ETHNICITY.0.0, BMI.0.0, AGE_BASE.0.0, METWALK.0.0, METMOD.0.0, METVIG.0.0, METSUM.0.0, BODYFAT.0.0, ALC24.0.0, RACE, SASIAN, CARIBN, URN_ALBUMIN.0.0, URN_ALBUMIN_FLAG.0.0, URN_CREATININE.0.0, URN_CREATININE_FLAG.0.0, ALP.0.0, ALT.0.0, AST.0.0, CREATININE_SRM.0.0, CYSTATIN_SRM.0.0, GGT.0.0, GLUCOSE.0.0, HBA1C.0.0, HDL.0.0, LDL.0.0, TRIG.0.0, URIC_ACID_SRM.0.0, DOD.0.0, COD1.0.0, COD2.0.0, DIAB_35up, DIAB_SDX, GDMONLY, INSULIN_YR1, E10_FO, E11_FO, MED_INSULIN_MF, MED_BP_MF, MED_INSULIN, MED_METFORMIN, MED_GLUCOPHAGE, MED_OTHER_DM, DM_POS1, GDM_PROB, DM_POS2, DM_PROB3, DIAB_AGE, DM1_PROB4, DM1INS, DM1_PROB5, DM_POS3, NFPG, A1C, DM_NFPG, DM_A1C, DM_POS4, DM_POS5, DM_POS6, DM_POS7, MI, STROKE, ESRD, CHD_TOT, HTN_TOT, STRK_TOT, AFIB_TOT, PVD_TOT, HF_TOT, CREATININE_SRM, SEX, AGE, GFR_EPI, URN_ALBUMIN, UACRsi, ALBCATS, ALB, MICRO, MACRO, CKD, CKD_45, CKD_EXT, DKD, CKD_DN)\n",
    "head(UKB07)"
   ]
  },
  {
   "cell_type": "code",
   "execution_count": null,
   "metadata": {},
   "outputs": [],
   "source": [
    "#write.table(UKB07, file=\"/data/nrnb03/dbGaP/users/e6richar/jupyter/UKB_Pheno/UKB07.txt\", quote=FALSE, sep=\"\\t\", row.names=FALSE)"
   ]
  },
  {
   "cell_type": "code",
   "execution_count": null,
   "metadata": {},
   "outputs": [],
   "source": [
    "UKB_DM<-UKB06%>% select(f.eid, DM1_PROB5, DM_POS3, DM_POS5, DM_POS7)"
   ]
  },
  {
   "cell_type": "code",
   "execution_count": null,
   "metadata": {
    "scrolled": true
   },
   "outputs": [],
   "source": [
    "#write.table(UKB_DM, file=\"/data/nrnb03/dbGaP/users/e6richar/jupyter/UKB_Pheno/UKB_DM.txt\", quote=FALSE, sep=\"\\t\", row.names=FALSE)"
   ]
  },
  {
   "cell_type": "code",
   "execution_count": null,
   "metadata": {},
   "outputs": [],
   "source": [
    "UKB07=read.table(\"/data/nrnb03/dbGaP/users/e6richar/jupyter/UKB_Pheno/UKB07.txt\", sep = \"\\t\", header=TRUE)"
   ]
  },
  {
   "cell_type": "code",
   "execution_count": null,
   "metadata": {},
   "outputs": [],
   "source": [
    "####HIURIC CONTROL\n",
    "UKB06<-UKB06 %>% mutate(HIURIC=case_when(URIC_ACID_SRM.0.0>=400~1,URIC_ACID_SRM.0.0<400~0, ))\n",
    "UKB06$FID_Salem<-UKB06$f.eid\n",
    "UKBDMH<-UKB06 %>% filter(DM_POS5==1) %>% select (f.eid, FID_Salem, RACE, HIURIC)\n",
    "UKB_map=read.table(\"/nrnb/ukb-salem/GenoInfo/UKBiobank_ID_LINKER_SalemLab.txt\", sep = \"\", header=TRUE)\n",
    "UKBDMH2<-merge(UKBDMH, UKB_map,by=\"FID_Salem\", all.x=T)                        "
   ]
  },
  {
   "cell_type": "code",
   "execution_count": null,
   "metadata": {},
   "outputs": [],
   "source": [
    "UKBDMH2<-UKBDMH2 %>% select (f.eid, FID, IID, HIURIC)  %>% filter (!is.na(FID))\n",
    "nrow(UKBDMH2)\n",
    "#write.table(UKBDMH2, file=\"/data/nrnb03/dbGaP/users/e6richar/jupyter/UKB_Pheno/UKBDM_HIURIC.txt\", quote=FALSE, sep=\"\\t\", row.names=FALSE)"
   ]
  },
  {
   "cell_type": "markdown",
   "metadata": {},
   "source": [
    "### ADDING new complication variables"
   ]
  },
  {
   "cell_type": "code",
   "execution_count": null,
   "metadata": {},
   "outputs": [],
   "source": [
    "# UKBOUT<-UKB06 %>% select(f.eid, SEX, AGE, RACE, ALB, MACRO, MICRO, CKD, CKD_45, CKD_EXT, DKD, CKD_DN,  ALB2, MACRO2, MICRO2, DKD2, CKD_DN2,\n",
    "#                         STRK, PVD, CVD, CHD, SASIAN, DM_POS5)\n",
    "# head(UKBOUT)\n",
    "\n",
    "# UKBOUT2<-UKB06 %>% select(f.eid, SEX, AGE, RACE, ALB, MACRO, MICRO, DKD, CKD_DN, DN, ALB2, MACRO2, MICRO2, DKD2, CKD_DN2, DN2, NAFLD, DRET, DM_POS5)\n",
    "# head(UKBOUT2)\n",
    "# nrow(UKBOUT2)\n",
    "\n",
    "UKBOUT3<-UKB06 %>% select(f.eid, RACE, DM_POS5, CKD_DKD, CKD_DKD2)\n",
    "head(UKBOUT3)\n",
    "nrow(UKBOUT3)"
   ]
  },
  {
   "cell_type": "code",
   "execution_count": null,
   "metadata": {},
   "outputs": [],
   "source": [
    "#write.table(UKBOUT, file=\"/data/nrnb03/dbGaP/users/e6richar/jupyter/UKB_Pheno/UKBCVDCKD.txt\", quote=FALSE, sep=\"\\t\", row.names=FALSE)\n",
    "#write.table(UKBOUT2, file=\"/data/nrnb03/dbGaP/users/e6richar/jupyter/UKB_Pheno/UKBCOMP2.txt\", quote=FALSE, sep=\"\\t\", row.names=FALSE)\n",
    "#write.table(UKBOUT3, file=\"/data/nrnb03/dbGaP/users/e6richar/jupyter/UKB_Pheno/UKBCOMP3.txt\", quote=FALSE, sep=\"\\t\", row.names=FALSE)"
   ]
  },
  {
   "cell_type": "code",
   "execution_count": null,
   "metadata": {},
   "outputs": [],
   "source": [
    "UKBCVDCKD<- read.delim(\"UKB_Pheno/UKBCVDCKD.txt\", header = TRUE, na.strings=c(\"\",\".\",\"NA\"))"
   ]
  },
  {
   "cell_type": "code",
   "execution_count": null,
   "metadata": {},
   "outputs": [],
   "source": [
    "#UKBCOMP2<- read.delim(\"UKB_Pheno/UKBCOMP2.txt\", header = TRUE, na.strings=c(\"\",\".\",\"NA\"))\n",
    "UKBCOMP3<- read.delim(\"UKB_Pheno/UKBCOMP3.txt\", header = TRUE, na.strings=c(\"\",\".\",\"NA\"))"
   ]
  },
  {
   "cell_type": "code",
   "execution_count": null,
   "metadata": {},
   "outputs": [],
   "source": [
    "# UKBCOMP2<-UKBCOMP2 %>% filter (DM_POS5==1)\n",
    "# nrow(UKBCOMP2)\n",
    "# UKBCOMP2<-UKBCOMP2 %>% filter (RACE==\"W\")\n",
    "# nrow(UKBCOMP2)\n",
    "UKBCOMP3<-UKBCOMP3 %>% filter (DM_POS5==1)\n",
    "nrow(UKBCOMP3)\n",
    "#UKBCOMP3<-UKBCOMP3 %>% filter (RACE==\"W\")\n",
    "#nrow(UKBCOMP3)  #####Go to merging step below"
   ]
  },
  {
   "cell_type": "code",
   "execution_count": null,
   "metadata": {},
   "outputs": [],
   "source": [
    "xtabs(~CKD_DKD, UKBCOMP3, exclude=NULL, na.action=na.pass)"
   ]
  },
  {
   "cell_type": "code",
   "execution_count": null,
   "metadata": {},
   "outputs": [],
   "source": [
    "options(repr.matrix.max.rows=6000, repr.matrix.max.cols=2000)\n",
    "head(UKBCVDCKD, n=3)\n",
    "nrow(UKBCVDCKD)\n",
    "UKBCCD<-UKBCVDCKD %>% filter(DM_POS5==1)\n",
    "UKBCCD<-UKBCCD %>% mutate(SEX=case_when(SEX==\"Female\"~0, SEX==\"Male\"~1, ))\n",
    "head(UKBCCD)"
   ]
  },
  {
   "cell_type": "code",
   "execution_count": null,
   "metadata": {},
   "outputs": [],
   "source": [
    "#Read in Mapping file FID_Salem=f.eid\n",
    "UKB_map=read.table(\"/nrnb/ukb-salem/GenoInfo/UKBiobank_ID_LINKER_SalemLab.txt\", sep = \"\", header=TRUE)\n",
    "#read in UKBB phenotype data\n",
    "UKBCCD$FID_Salem<-UKBCCD$f.eid #add FID_Salem linker variable\n",
    "UKBCCD_map<-merge(UKB_map, UKBCCD, by= \"FID_Salem\", all.y= TRUE) #merge in linker data"
   ]
  },
  {
   "cell_type": "code",
   "execution_count": null,
   "metadata": {},
   "outputs": [],
   "source": [
    "UKBCCD_map<-subset(UKBCCD_map, select=-c(FID_Salem,f.eid,IID_Salem))\n",
    "options(repr.matrix.max.rows=6000, repr.matrix.max.cols=2000)\n",
    "head(UKBCCD_map, n=3)"
   ]
  },
  {
   "cell_type": "code",
   "execution_count": null,
   "metadata": {},
   "outputs": [],
   "source": [
    "# Add the second row to label identifiers for SNPTEST\n",
    "#     P is a continuous phenotype\n",
    "#     B is a Binary phenotype\n",
    "#     D is dichotomous, or discrete variables.\n",
    "#     C is continuous variables\n",
    "#     0 is for the identifiers.\n",
    "\n",
    "#Check and establish identifiers. Look at above cell of the header of output_sort_removed. At the step below\n",
    "# make sure that the identifiers are in the correct spot.\n",
    "out_name=names(UKBCCD_map)\n",
    "identifiers=as.data.frame(cbind(\"0\",\"0\", \"D\", \"C\", \"D\", \"B\", \"B\", \"B\", \"B\", \"B\", \"B\", \"B\", \"B\", \"B\", \"B\", \"B\", \"B\", \"B\", \"B\", \"B\", \"B\", \"B\", \"D\", \"D\"))\n",
    "names(identifiers)=out_name\n",
    "head(identifiers)"
   ]
  },
  {
   "cell_type": "code",
   "execution_count": null,
   "metadata": {},
   "outputs": [],
   "source": [
    "# Final merge and check\n",
    "final_output=rbind(as.matrix(identifiers),as.matrix(UKBCCD_map))\n",
    "options(repr.matrix.max.rows=2000, repr.matrix.max.cols=200)\n",
    "head(final_output, n=5)\n",
    "nrow(final_output)"
   ]
  },
  {
   "cell_type": "code",
   "execution_count": null,
   "metadata": {},
   "outputs": [],
   "source": [
    "#write.table(final_output, file=\"/data/nrnb03/dbGaP/users/e6richar/jupyter/UKB_Pheno/UKBDM_subset.txt\", quote=FALSE, sep=\"\\t\", row.names=FALSE)"
   ]
  },
  {
   "cell_type": "markdown",
   "metadata": {},
   "source": [
    "### Create datafile for unrelated subsetting to maximize diabetics"
   ]
  },
  {
   "cell_type": "code",
   "execution_count": null,
   "metadata": {},
   "outputs": [],
   "source": [
    "#Read in Mapping file FID_Salem=f.eid\n",
    "UKB_map=read.table(\"/nrnb/ukb-salem/GenoInfo/UKBiobank_ID_LINKER_SalemLab.txt\", sep = \"\", header=TRUE)\n",
    "#read in UKBB phenotype data\n",
    "UKBCCD<- read.delim(\"UKB_Pheno/UKBCVDCKD.txt\", header = TRUE, na.strings=c(\"\",\".\",\"NA\"))\n",
    "UKBCCD$FID_Salem<-UKBCCD$f.eid #add FID_Salem linker variable\n",
    "UKBCCD_map<-merge(UKB_map, UKBCCD, by= \"FID_Salem\", all.y= TRUE) #merge in linker data"
   ]
  },
  {
   "cell_type": "code",
   "execution_count": null,
   "metadata": {},
   "outputs": [],
   "source": [
    "head(UKBCCD_map, n=2)\n",
    "UKBCCD_map2<-UKBCCD_map  %>% mutate(T2DM=case_when(DM_POS5==1~1, is.na(DM_POS5)~0,))  %>% select (IID, T2DM)\n",
    "head(UKBCCD_map2, n=2)\n",
    "table(UKBCCD_map2$T2DM)\n",
    "#write.table(final_output, file=\"/data/nrnb03/dbGaP/users/e6richar/jupyter/UKB_Pheno/UKBDM_subset.txt\", quote=FALSE, sep=\"\\t\", row.names=FALSE)"
   ]
  },
  {
   "cell_type": "code",
   "execution_count": null,
   "metadata": {
    "scrolled": true
   },
   "outputs": [],
   "source": [
    "UKDM<- read.delim(\"UKB_Pheno/UKBDM_UNR.txt\", header = TRUE, na.strings=c(\"\",\".\",\"NA\"))\n",
    "#nrow(UKDM)\n",
    "#table(UKDM$T2DM)\n",
    "# UNRDM<- read.delim(\"UKB_Pheno/UKBB_DM_Unrelated_Subset_List_Pihat_0.0884.txt\", header = TRUE, sep = \"\",  na.strings=c(\"\",\".\",\"NA\"))\n",
    "# nrow(UNRDM)\n",
    "# head(UNRDM)\n",
    "# UNRDM$UNREL<-1\n",
    "# UNRDM<-UNRDM %>% select (FID, UNREL)\n",
    "# UKBDM<-read.delim(\"/data/nrnb03/dbGaP/users/e6richar/jupyter/UKB_Pheno/UKBDM_subset.txt\", header = TRUE, na.strings=c(\"\",\".\",\"NA\"))\n",
    "# head(UKBDM)\n",
    "# nrow(UKBDM)\n",
    "# UKBDMU<- merge(UKBDM, UNRDM, by=c(\"FID\"), all.x = TRUE)\n",
    "#  head(UKBDMU)\n",
    "#  nrow(UKBDMU)\n",
    "# UKBDMU<-UKBDMU %>% filter(UNREL==1|SEX==\"D\")\n",
    "#  nrow(UKBDMU)\n",
    "# UKBDMUW<-UKBDMU %>% filter(RACE==\"W\"|SEX==\"D\")\n",
    "# nrow(UKBDMUW)\n",
    "# UKB_PCA_FULL<- read.delim(\"/nrnb/ukb-salem/GenoInfo/PCA_EUR/UKB_EUR_Full_454K_PCAS.txt\", header = TRUE, na.strings=c(\"\",\".\",\"NA\"))\n",
    "# nrow(UKB_PCA_FULL)\n",
    "# UKBDMUPF<- merge(UKBDMUW, UKB_PCA_FULL, by=c(\"FID\"), all.x = TRUE)\n",
    "#UKBDMUPF<-UKBDMUPF  %>% filter(!is.na(PC1))\n",
    "#head(UKBDMUPF)\n",
    "#nrow(UKBDMUPF)\n",
    "#UKBDMUPF<-UKBDMUPF  %>% rename(IID=IID.x) %>% select(-IID.y) %>% filter(UNREL==1)\n",
    "# UKBDMUPF<-UKBDMUPF  %>% select(-UNREL, -SASIAN, -DM_POS5)\n",
    "# names(UKBDMUPF)"
   ]
  },
  {
   "cell_type": "code",
   "execution_count": null,
   "metadata": {},
   "outputs": [],
   "source": [
    "# Add the second row to label identifiers for SNPTEST\n",
    "#     P is a continuous phenotype\n",
    "#     B is a Binary phenotype\n",
    "#     D is dichotomous, or discrete variables.\n",
    "#     C is continuous variables\n",
    "#     0 is for the identifiers.\n",
    "\n",
    "#Check and establish identifiers. Look at above cell of the header of output_sort_removed. At the step below\n",
    "# make sure that the identifiers are in the correct spot.\n",
    "out_name=names(UKBDMUPF)\n",
    "identifiers=as.data.frame(cbind(\"0\",\"0\", \"D\", \"C\", \"D\", \"B\", \"B\", \"B\", \"B\", \"B\", \"B\", \"B\", \"B\", \"B\", \"B\", \"B\", \"B\", \"B\", \"B\", \"B\", \"B\", \"B\", \"C\", \"C\",\n",
    "                               \"C\", \"C\", \"C\", \"C\", \"C\", \"C\", \"C\", \"C\"))\n",
    "names(identifiers)=out_name\n",
    "head(identifiers)"
   ]
  },
  {
   "cell_type": "code",
   "execution_count": null,
   "metadata": {},
   "outputs": [],
   "source": [
    "# Final merge and check\n",
    "final_output=rbind(as.matrix(identifiers),as.matrix(UKBDMUPF))\n",
    "options(repr.matrix.max.rows=2000, repr.matrix.max.cols=200)\n",
    "head(final_output, n=5)\n",
    "nrow(final_output)"
   ]
  },
  {
   "cell_type": "markdown",
   "metadata": {},
   "source": [
    "### This file was used to subset the EA_BGEN files"
   ]
  },
  {
   "cell_type": "code",
   "execution_count": null,
   "metadata": {},
   "outputs": [],
   "source": [
    "#write.table(samp, file=\"/data/nrnb03/dbGaP/users/e6richar/jupyter/UKB_Pheno/PAR/UKBDM_subset_EA.sample\", quote=FALSE, sep=\"\\t\", row.names=FALSE)"
   ]
  },
  {
   "cell_type": "code",
   "execution_count": null,
   "metadata": {},
   "outputs": [],
   "source": [
    "# samp<- read.delim(\"/data/nrnb03/dbGaP/users/e6richar/jupyter/UKB_Pheno/PAR/UKBDM_subset_EA.sample\", header = TRUE, na.strings=c(\"\",\".\",\"NA\"))\n",
    "# options(repr.matrix.max.rows=6000, repr.matrix.max.cols=2000)\n",
    "#samp<-samp  %>% rename (ID_1=FID)%>% rename (ID_2=IID)\n",
    "samp<- read.delim(\"/data/nrnb03/dbGaP/users/e6richar/jupyter/UKB_Pheno/PAR/UKBDM_subset_EA_V2.sample\", header = TRUE, na.strings=c(\"\",\".\",\"NA\"))\n",
    "options(repr.matrix.max.rows=6000, repr.matrix.max.cols=2000)\n",
    "head(samp, n=2) "
   ]
  },
  {
   "cell_type": "markdown",
   "metadata": {},
   "source": [
    "### Merge additional phenotypes into sample file"
   ]
  },
  {
   "cell_type": "code",
   "execution_count": null,
   "metadata": {},
   "outputs": [],
   "source": [
    "#head (UKBCOMP2)\n",
    "#UKBCOMP2$FID_Salem<-UKBCOMP2$f.eid\n",
    "UKBCOMP3$FID_Salem<-UKBCOMP3$f.eid\n",
    "#Read in Mapping file FID_Salem=f.eid\n",
    "UKB_map=read.table(\"/nrnb/ukb-salem/GenoInfo/UKBiobank_ID_LINKER_SalemLab.txt\", sep = \"\", header=TRUE)\n",
    "# UKBCOMP2_map<-merge(UKB_map, UKBCOMP2, by= \"FID_Salem\", all.y= TRUE) #merge in linker data\n",
    "# head(UKBCOMP2_map, n=2)\n",
    "UKBCOMP3_map<-merge(UKB_map, UKBCOMP3, by= \"FID_Salem\", all.y= TRUE) #merge in linker data\n",
    "head(UKBCOMP3_map, n=2)"
   ]
  },
  {
   "cell_type": "code",
   "execution_count": null,
   "metadata": {},
   "outputs": [],
   "source": [
    "# Add the second row to label identifiers for SNPTEST\n",
    "#     P is a continuous phenotype\n",
    "#     B is a Binary phenotype\n",
    "#     D is dichotomous, or discrete variables.\n",
    "#     C is continuous variables\n",
    "#     0 is for the identifiers.\n",
    "\n",
    "#Check and establish identifiers. Look at above cell of the header of output_sort_removed. At the step below\n",
    "# make sure that the identifiers are in the correct spot.\n",
    "# UKBCOMP2_map<-UKBCOMP2_map %>% filter(DM_POS5==1) %>% select(-FID_Salem, -IID_Salem, -f.eid, -SEX, -AGE, -RACE, -DM_POS5)\n",
    "# nrow(UKBCOMP2_map)\n",
    "# out_name=names(UKBCOMP2_map)\n",
    "# identifiers=as.data.frame(cbind(\"0\",\"0\",\"B\", \"B\", \"B\", \"B\", \"B\", \"B\", \"B\", \"B\", \"B\", \"B\", \"B\", \"B\", \"B\", \"B\"))\n",
    "# names(identifiers)=out_name\n",
    "# head(identifiers)\n",
    "UKBCOMP3_map<-UKBCOMP3_map %>% filter(DM_POS5==1) %>% select(-FID_Salem, -IID_Salem, -f.eid,-RACE, -DM_POS5)\n",
    "nrow(UKBCOMP3_map)\n",
    "out_name=names(UKBCOMP3_map)\n",
    "identifiers=as.data.frame(cbind(\"0\",\"0\",\"B\", \"B\"))\n",
    "names(identifiers)=out_name\n",
    "head(identifiers)"
   ]
  },
  {
   "cell_type": "code",
   "execution_count": null,
   "metadata": {},
   "outputs": [],
   "source": [
    "# Final merge with identifiers and check\n",
    "# final_output=rbind(as.matrix(identifiers),as.matrix(UKBCOMP2_map))\n",
    "# options(repr.matrix.max.rows=2000, repr.matrix.max.cols=200)\n",
    "# head(final_output, n=5)\n",
    "# nrow(final_output)\n",
    "final_output=rbind(as.matrix(identifiers),as.matrix(UKBCOMP3_map))\n",
    "options(repr.matrix.max.rows=2000, repr.matrix.max.cols=200)\n",
    "head(final_output, n=5)\n",
    "nrow(final_output)"
   ]
  },
  {
   "cell_type": "code",
   "execution_count": null,
   "metadata": {},
   "outputs": [],
   "source": [
    "final_output2=as.data.frame(final_output)\n",
    "head(final_output2)\n",
    "class(final_output2$CKD_DKD)"
   ]
  },
  {
   "cell_type": "code",
   "execution_count": null,
   "metadata": {},
   "outputs": [],
   "source": [
    "final_output2<-final_output2%>% rename (ID_1=FID) %>% select(-IID)"
   ]
  },
  {
   "cell_type": "code",
   "execution_count": null,
   "metadata": {},
   "outputs": [],
   "source": [
    "#samp<-samp %>% select(-ALB, -MACRO, -MICRO, -DKD, -CKD_DN, -ALB2, -MACRO2, -MICRO2, -DKD2, -CKD_DN2)\n",
    "nrow(samp)  #####STOPPED HERE FOR ADD"
   ]
  },
  {
   "cell_type": "code",
   "execution_count": null,
   "metadata": {},
   "outputs": [],
   "source": [
    "# Merging Order files to generate the correct order. We use all.x =T here because we need to keep everyone\n",
    "# in the order file on the final list, even if they are not used.\n",
    "\n",
    "samp$sort<-seq.int(nrow(samp))\n",
    "merged_order<-merge(samp,final_output2,by=\"ID_1\",all.x=TRUE)\n",
    "\n",
    "output<-merged_order[order(merged_order$sort),]\n",
    "\n",
    "output_sort<-subset(output, select=-c(sort))\n",
    "\n",
    "# The number of output rows should match the order file\n",
    "options(repr.matrix.max.rows=2000, repr.matrix.max.cols=200)\n",
    "tail(output_sort, n=5)\n",
    "tail(samp, n=5)\n",
    "nrow(output_sort)\n",
    "nrow(samp)"
   ]
  },
  {
   "cell_type": "code",
   "execution_count": null,
   "metadata": {},
   "outputs": [],
   "source": [
    "#write.table(output_sort, file=\"/data/nrnb03/dbGaP/users/e6richar/jupyter/UKB_Pheno/PAR/UKBDM_subset_EA_V2.sample\", quote=FALSE, sep=\"\\t\", row.names=FALSE)\n",
    "#write.table(output_sort, file=\"/data/nrnb03/dbGaP/users/e6richar/jupyter/UKB_Pheno/PAR/UKBDM_subset_EA_V3.sample\", quote=FALSE, sep=\"\\t\", row.names=FALSE)"
   ]
  },
  {
   "cell_type": "code",
   "execution_count": null,
   "metadata": {},
   "outputs": [],
   "source": [
    "UKB<- read.delim(\"/data/nrnb03/dbGaP/users/e6richar/jupyter/UKB_Pheno/PAR/UKBDM_subset_EA_V3.sample\", header = TRUE, na.strings=c(\"\",\".\",\"NA\"))"
   ]
  },
  {
   "cell_type": "code",
   "execution_count": null,
   "metadata": {},
   "outputs": [],
   "source": [
    "head(UKB)"
   ]
  },
  {
   "cell_type": "code",
   "execution_count": null,
   "metadata": {},
   "outputs": [],
   "source": [
    "xtabs(~CVD, UKB, exclude=NULL, na.action=na.pass)\n",
    "xtabs(~CHD, UKB, exclude=NULL, na.action=na.pass)\n",
    "xtabs(~STRK, UKB, exclude=NULL, na.action=na.pass)\n",
    "xtabs(~PVD, UKB, exclude=NULL, na.action=na.pass)\n",
    "xtabs(~DRET, UKB, exclude=NULL, na.action=na.pass)\n",
    "xtabs(~NAFLD, UKB, exclude=NULL, na.action=na.pass)\n",
    "xtabs(~CKD, UKB, exclude=NULL, na.action=na.pass)\n",
    "xtabs(~MICRO2, UKB, exclude=NULL, na.action=na.pass)\n",
    "xtabs(~MACRO2, UKB, exclude=NULL, na.action=na.pass)\n",
    "xtabs(~ALB2, UKB, exclude=NULL, na.action=na.pass)\n",
    "xtabs(~CKD_DN2+CKD, UKB, exclude=NULL, na.action=na.pass)\n",
    "xtabs(~DKD2, UKB, exclude=NULL, na.action=na.pass)\n",
    "xtabs(~DN2, UKB, exclude=NULL, na.action=na.pass)\n",
    "xtabs(~CKD_DKD2, UKB, exclude=NULL, na.action=na.pass)\n",
    "xtabs(~CKD_DKD2+ALB2, UKB, exclude=NULL, na.action=na.pass)"
   ]
  },
  {
   "cell_type": "code",
   "execution_count": null,
   "metadata": {},
   "outputs": [],
   "source": [
    "#xtabs(~ETHNICITY.0.0+SASIAN,UKB06)\n",
    "#names(UKB06)\n",
    "table(UKB06$ETHNICITY.0.0)\n",
    "UKEAS<-UKB06 %>% filter(ETHNICITY.0.0==\"Any other Asian background\"|ETHNICITY.0.0==\"Asian or Asian British\"|ETHNICITY.0.0==\"Chinese\")\n",
    "UKSAS<-UKB06 %>% filter(SASIAN==1) \n",
    "UKAF<-UKB06 %>% filter(ETHNICITY.0.0==\"African\"|ETHNICITY.0.0==\"Any other Black background\"|ETHNICITY.0.0==\"Black or Black British\")\n",
    "UKCAB<-UKB06 %>% filter(ETHNICITY.0.0==\"Caribbean\")                       "
   ]
  },
  {
   "cell_type": "code",
   "execution_count": null,
   "metadata": {},
   "outputs": [],
   "source": [
    "UKB<-UKCAB %>% filter(DM_POS5==1)"
   ]
  },
  {
   "cell_type": "code",
   "execution_count": null,
   "metadata": {},
   "outputs": [],
   "source": [
    "xtabs(~DM_POS5, UKAF, exclude=NULL, na.action=na.pass)\n",
    "summary(UKB$AGE)\n",
    "xtabs(~CVD, UKB, exclude=NULL, na.action=na.pass)\n",
    "xtabs(~CHD, UKB, exclude=NULL, na.action=na.pass)\n",
    "xtabs(~STRK, UKB, exclude=NULL, na.action=na.pass)\n",
    "xtabs(~PVD, UKB, exclude=NULL, na.action=na.pass)\n",
    "xtabs(~DRET, UKB, exclude=NULL, na.action=na.pass)\n",
    "xtabs(~NAFLD, UKB, exclude=NULL, na.action=na.pass)\n",
    "xtabs(~CKD, UKB, exclude=NULL, na.action=na.pass)\n",
    "xtabs(~MICRO2, UKB, exclude=NULL, na.action=na.pass)\n",
    "xtabs(~MACRO2, UKB, exclude=NULL, na.action=na.pass)\n",
    "xtabs(~ALB2, UKB, exclude=NULL, na.action=na.pass)\n",
    "xtabs(~CKD_DN2, UKB, exclude=NULL, na.action=na.pass)\n",
    "xtabs(~DKD2, UKB, exclude=NULL, na.action=na.pass)\n",
    "xtabs(~DN2, UKB, exclude=NULL, na.action=na.pass)\n",
    "xtabs(~CKD_DKD2, UKB, exclude=NULL, na.action=na.pass)\n",
    "xtabs(~CKD_DKD2+ALB2, UKB, exclude=NULL, na.action=na.pass)"
   ]
  },
  {
   "cell_type": "code",
   "execution_count": null,
   "metadata": {},
   "outputs": [],
   "source": [
    "UNRDM<- read.delim(\"UKB_Pheno/UKBB_DM_Unrelated_Subset_List_Pihat_0.0884.txt\", header = TRUE, sep = \"\",  na.strings=c(\"\",\".\",\"NA\"))\n",
    "nrow(UNRDM)\n",
    "head(UNRDM)"
   ]
  },
  {
   "cell_type": "code",
   "execution_count": null,
   "metadata": {},
   "outputs": [],
   "source": []
  }
 ],
 "metadata": {
  "kernelspec": {
   "display_name": "R",
   "language": "R",
   "name": "ir"
  },
  "language_info": {
   "codemirror_mode": "r",
   "file_extension": ".r",
   "mimetype": "text/x-r-source",
   "name": "R",
   "pygments_lexer": "r",
   "version": "4.1.3"
  }
 },
 "nbformat": 4,
 "nbformat_minor": 4
}
