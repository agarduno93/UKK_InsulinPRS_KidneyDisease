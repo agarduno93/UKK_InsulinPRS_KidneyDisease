{
 "cells": [
  {
   "cell_type": "code",
   "execution_count": 41,
   "metadata": {},
   "outputs": [
    {
     "data": {
      "text/plain": [
       "\n",
       "CKD controls          CKD \n",
       "      349669         6108 "
      ]
     },
     "metadata": {},
     "output_type": "display_data"
    },
    {
     "data": {
      "text/plain": [
       "\n",
       "CKD controls  CKD extreme \n",
       "      349669          984 "
      ]
     },
     "metadata": {},
     "output_type": "display_data"
    },
    {
     "data": {
      "text/plain": [
       "\n",
       " normo  micro \n",
       "348496  14070 "
      ]
     },
     "metadata": {},
     "output_type": "display_data"
    },
    {
     "data": {
      "text/plain": [
       "\n",
       " normo  macro \n",
       "348496   1120 "
      ]
     },
     "metadata": {},
     "output_type": "display_data"
    },
    {
     "data": {
      "text/plain": [
       "\n",
       "    no    yes \n",
       "356332    447 "
      ]
     },
     "metadata": {},
     "output_type": "display_data"
    },
    {
     "data": {
      "text/plain": [
       "\n",
       "    no    yes \n",
       "345597   1469 "
      ]
     },
     "metadata": {},
     "output_type": "display_data"
    },
    {
     "data": {
      "text/plain": [
       "\n",
       "    no    yes \n",
       "332345  15439 "
      ]
     },
     "metadata": {},
     "output_type": "display_data"
    },
    {
     "data": {
      "text/plain": [
       "\n",
       "    no    yes \n",
       "356332    447 "
      ]
     },
     "metadata": {},
     "output_type": "display_data"
    },
    {
     "data": {
      "text/plain": [
       "\n",
       "macro  ESKD \n",
       "  963   447 "
      ]
     },
     "metadata": {},
     "output_type": "display_data"
    },
    {
     "data": {
      "text/plain": [
       "\n",
       "  albu   ESKD \n",
       "346560    447 "
      ]
     },
     "metadata": {},
     "output_type": "display_data"
    },
    {
     "data": {
      "text/plain": [
       "\n",
       "DNCKD Control         DNCKD \n",
       "       326513           645 "
      ]
     },
     "metadata": {},
     "output_type": "display_data"
    },
    {
     "data": {
      "text/plain": [
       "\n",
       "             Current                Never Prefer not to answer \n",
       "               38166               201909                 1269 \n",
       "            Previous \n",
       "              132143 "
      ]
     },
     "metadata": {},
     "output_type": "display_data"
    },
    {
     "data": {
      "text/plain": [
       "\n",
       "             Current                Never Prefer not to answer \n",
       "               38166               201909                    0 \n",
       "            Previous \n",
       "              132143 "
      ]
     },
     "metadata": {},
     "output_type": "display_data"
    }
   ],
   "source": [
    "#Effect Modification by Lifestyle Score\n",
    "library(multcomp)\n",
    "library(ggpubr)\n",
    "library(dplyr)\n",
    "library(mice)\n",
    "library(miceadds)\n",
    "library(lme4)\n",
    "library(ggplot2)\n",
    "library(rms)\n",
    "library(mgcv)\n",
    "library(tidymv)\n",
    "library(\"ggthemes\")\n",
    "library(broom)\n",
    "library(erer)\n",
    "library(stringr)\n",
    "library(tidyverse)\n",
    "\n",
    "#Read the complete set (no imputation)\n",
    "UKBB_AG2 <- read.delim(\"~/jupyter/UKBB_AG2_07NOV20.txt\", header = TRUE, na.strings=c(\"\",\".\",\"NA\")) \n",
    "\n",
    "#Dichotomize Outcomes for Logistic Regression\n",
    "#1_CKD\n",
    "UKBB_AG2$CKD_only.0.0 <- factor(ifelse(UKBB_AG2$CKD.0.0==\"CKD controls\",\"CKD controls\",\n",
    "                              ifelse(UKBB_AG2$CKD.0.0==\"CKD\",\"CKD\",NA)),\n",
    "                levels = c(\"CKD controls\", \"CKD\"))\n",
    "#Set the refernece\n",
    "UKBB_AG2$CKD_only.0.0 <- relevel(UKBB_AG2$CKD_only.0.0, ref = \"CKD controls\")\n",
    "\n",
    "#2_CKD Extreme\n",
    "UKBB_AG2$CKD_ex.0.0 <- factor(ifelse(UKBB_AG2$CKD.0.0==\"CKD controls\",\"CKD controls\",\n",
    "                              ifelse(UKBB_AG2$CKD.0.0==\"CKD extreme\",\"CKD extreme\",NA)),\n",
    "                levels = c(\"CKD controls\", \"CKD extreme\"))\n",
    "#Set the refernece\n",
    "UKBB_AG2$CKD_ex.0.0 <- relevel(UKBB_AG2$CKD_ex.0.0, ref = \"CKD controls\")\n",
    "\n",
    "#3_Micro\n",
    "UKBB_AG2$micro.0.0 <- factor(ifelse(UKBB_AG2$ALBUMINERIA.0.0==\"micro\",\"micro\",\n",
    "                              ifelse(UKBB_AG2$ALBUMINERIA.0.0==\"normo\",\"normo\",NA)),\n",
    "                levels = c(\"normo\", \"micro\"))\n",
    "#Set the reference\n",
    "UKBB_AG2$micro.0.0 <- relevel(UKBB_AG2$micro.0.0, ref = \"normo\")\n",
    "\n",
    "#4_Macro\n",
    "UKBB_AG2$macro.0.0 <- factor(ifelse(UKBB_AG2$ALBUMINERIA.0.0==\"macro\",\"macro\",\n",
    "                              ifelse(UKBB_AG2$ALBUMINERIA.0.0==\"normo\",\"normo\",NA)),\n",
    "                levels = c(\"normo\", \"macro\"))\n",
    "#Set the reference\n",
    "UKBB_AG2$macro.0.0 <- relevel(UKBB_AG2$macro.0.0, ref = \"normo\")\n",
    "\n",
    "#5_Macro\n",
    "UKBB_AG2$macro.0.0 <- factor(ifelse(UKBB_AG2$ALBUMINERIA.0.0==\"macro\",\"macro\",\n",
    "                              ifelse(UKBB_AG2$ALBUMINERIA.0.0==\"normo\",\"normo\",NA)),\n",
    "                levels = c(\"normo\", \"macro\"))\n",
    "\n",
    "#6_ESKD vs. Macro\n",
    "UKBB_AG2$ESKD_macro.0.0 <- factor(ifelse(UKBB_AG2$ESKD.0.0==\"yes\",\"ESKD\",\n",
    "                              ifelse(UKBB_AG2$ALBUMINERIA.0.0==\"macro\",\"macro\",NA)),\n",
    "                levels = c(\"macro\",\"ESKD\"))\n",
    "\n",
    "#7_DNCKD vs. Control DNCKD\n",
    "UKBB_AG2$DNCKD2.0.0 <- factor(ifelse(UKBB_AG2$DNCKD.0.0==\"yes\",\"DNCKD\",\n",
    "                              ifelse(UKBB_AG2$CTRL_DNCKD.0.0==\"yes\",\"DNCKD Control\",NA)),\n",
    "                levels = c(\"DNCKD Control\",\"DNCKD\"))\n",
    "\n",
    "#8_ESKD vs. Normo, Macro, Micro\n",
    "UKBB_AG2$ESKD_Albu.0.0 <- factor(ifelse(UKBB_AG2$ESKD.0.0==\"yes\",\"ESKD\",\n",
    "                              ifelse(UKBB_AG2$ALBUMINERIA.0.0 %in% c(\"normo\",\"macro\",\"micro\"),\"albu\",NA)),\n",
    "                levels = c(\"albu\",\"ESKD\"))\n",
    "\n",
    "#Set the reference\n",
    "UKBB_AG2$macro.0.0 <- relevel(UKBB_AG2$macro.0.0, ref = \"normo\")\n",
    "\n",
    "#Summarize Counts of Disease Outcomes\n",
    "table(UKBB_AG2$CKD_only.0.0) #1\n",
    "table(UKBB_AG2$CKD_ex.0.0) #2\n",
    "table(UKBB_AG2$micro.0.0) #3\n",
    "table(UKBB_AG2$macro.0.0) #4\n",
    "table(UKBB_AG2$ESKD.0.0) #5\n",
    "table(UKBB_AG2$DN.0.0) #6\n",
    "table(UKBB_AG2$ALL.0.0) #7\n",
    "table(UKBB_AG2$ESKD.0.0) #8\n",
    "table(UKBB_AG2$ESKD_macro.0.0) #8\n",
    "table(UKBB_AG2$ESKD_Albu.0.0) #9\n",
    "table(UKBB_AG2$DNCKD2.0.0) #10\n",
    "\n",
    "#table smoking\n",
    "table(UKBB_AG2$'SMOKE.0.0')\n",
    "UKBB_AG2 <- UKBB_AG2 %>% filter(SMOKE.0.0!='Prefer not to answer')\n",
    "table(UKBB_AG2$'SMOKE.0.0')"
   ]
  },
  {
   "cell_type": "code",
   "execution_count": null,
   "metadata": {},
   "outputs": [],
   "source": [
    "UKBB_AG2$SMOKE.0.0 <- relevel(as.factor(SMOKE.0.0),\"Never\")\n",
    "UKBB_AG2$GRS_RAW_T2DIR2d2 <- relevel(as.factor(GRS_RAW_T2DIR2d2),\"low risk\")\n",
    "M1 <- glm(CKD_only.0.0 ~ SMOKE.0.0*GRS_RAW_T2DIR2d2, data=UKBB_AG2, family=binomial) "
   ]
  },
  {
   "cell_type": "code",
   "execution_count": null,
   "metadata": {},
   "outputs": [
    {
     "name": "stdout",
     "output_type": "stream",
     "text": [
      "Error in parse(text = x, keep.source = FALSE) : \n",
      "  <text>:1:97: unexpected symbol\n",
      "1: ~relevel(as.factor(SMOKE.0.0), .Av5.Never.Av5.) * relevel(as.factor(GRS_RAW_T2DIR2d2), .Av5.low risk.Av5.\n",
      "                                                                                                    ^\n"
     ]
    }
   ],
   "source": [
    "lsm = lsmeans(M1, ~ SMOKE.0.0*GRS_RAW_T2DIR2d2)"
   ]
  },
  {
   "cell_type": "code",
   "execution_count": 63,
   "metadata": {},
   "outputs": [
    {
     "data": {
      "text/html": [
       "<table>\n",
       "<thead><tr><th scope=col>contrast</th><th scope=col>estimate</th><th scope=col>SE</th><th scope=col>df</th><th scope=col>z.ratio</th><th scope=col>p.value</th></tr></thead>\n",
       "<tbody>\n",
       "\t<tr><td>Current high risk - Never high risk       </td><td>-0.20447220                               </td><td>0.15312003                                </td><td>Inf                                       </td><td>-1.3353721                                </td><td>9.208552e-01                              </td></tr>\n",
       "\t<tr><td>Current high risk - Previous high risk    </td><td>-0.48709134                               </td><td>0.15473401                                </td><td>Inf                                       </td><td>-3.1479268                                </td><td>4.351649e-02                              </td></tr>\n",
       "\t<tr><td>Current high risk - Current low risk      </td><td> 0.31874517                               </td><td>0.21985214                                </td><td>Inf                                       </td><td> 1.4498161                                </td><td>8.783106e-01                              </td></tr>\n",
       "\t<tr><td>Current high risk - Never low risk        </td><td>-0.06976689                               </td><td>0.15447843                                </td><td>Inf                                       </td><td>-0.4516287                                </td><td>9.999548e-01                              </td></tr>\n",
       "\t<tr><td>Current high risk - Previous low risk     </td><td>-0.41733144                               </td><td>0.15562700                                </td><td>Inf                                       </td><td>-2.6816133                                </td><td>1.542545e-01                              </td></tr>\n",
       "\t<tr><td>Current high risk - Current medium risk   </td><td> 0.06808646                               </td><td>0.15165902                                </td><td>Inf                                       </td><td> 0.4489443                                </td><td>9.999568e-01                              </td></tr>\n",
       "\t<tr><td>Current high risk - Never medium risk     </td><td>-0.15204114                               </td><td>0.14385022                                </td><td>Inf                                       </td><td>-1.0569406                                </td><td>9.800542e-01                              </td></tr>\n",
       "\t<tr><td>Current high risk - Previous medium risk  </td><td>-0.39480776                               </td><td>0.14415255                                </td><td>Inf                                       </td><td>-2.7388191                                </td><td>1.343072e-01                              </td></tr>\n",
       "\t<tr><td>Never high risk - Previous high risk      </td><td>-0.28261914                               </td><td>0.08266469                                </td><td>Inf                                       </td><td>-3.4188615                                </td><td>1.821193e-02                              </td></tr>\n",
       "\t<tr><td>Never high risk - Current low risk        </td><td> 0.52321738                               </td><td>0.17670823                                </td><td>Inf                                       </td><td> 2.9609112                                </td><td>7.499602e-02                              </td></tr>\n",
       "\t<tr><td>Never high risk - Never low risk          </td><td> 0.13470531                               </td><td>0.08218529                                </td><td>Inf                                       </td><td> 1.6390440                                </td><td>7.832479e-01                              </td></tr>\n",
       "\t<tr><td>Never high risk - Previous low risk       </td><td>-0.21285923                               </td><td>0.08432438                                </td><td>Inf                                       </td><td>-2.5242906                                </td><td>2.200964e-01                              </td></tr>\n",
       "\t<tr><td>Never high risk - Current medium risk     </td><td> 0.27255866                               </td><td>0.07675478                                </td><td>Inf                                       </td><td> 3.5510316                                </td><td>1.150996e-02                              </td></tr>\n",
       "\t<tr><td>Never high risk - Never medium risk       </td><td> 0.05243106                               </td><td>0.05986421                                </td><td>Inf                                       </td><td> 0.8758332                                </td><td>9.942034e-01                              </td></tr>\n",
       "\t<tr><td>Never high risk - Previous medium risk    </td><td>-0.19033556                               </td><td>0.06058709                                </td><td>Inf                                       </td><td>-3.1415200                                </td><td>4.437039e-02                              </td></tr>\n",
       "\t<tr><td>Previous high risk - Current low risk     </td><td> 0.80583651                               </td><td>0.17810859                                </td><td>Inf                                       </td><td> 4.5244112                                </td><td>2.088616e-04                              </td></tr>\n",
       "\t<tr><td>Previous high risk - Never low risk       </td><td> 0.41732445                               </td><td>0.08515453                                </td><td>Inf                                       </td><td> 4.9007896                                </td><td>3.359106e-05                              </td></tr>\n",
       "\t<tr><td>Previous high risk - Previous low risk    </td><td> 0.06975990                               </td><td>0.08722083                                </td><td>Inf                                       </td><td> 0.7998078                                </td><td>9.969045e-01                              </td></tr>\n",
       "\t<tr><td>Previous high risk - Current medium risk  </td><td> 0.55517780                               </td><td>0.07992602                                </td><td>Inf                                       </td><td> 6.9461459                                </td><td>1.351613e-10                              </td></tr>\n",
       "\t<tr><td>Previous high risk - Never medium risk    </td><td> 0.33505020                               </td><td>0.06387954                                </td><td>Inf                                       </td><td> 5.2450314                                </td><td>5.557119e-06                              </td></tr>\n",
       "\t<tr><td>Previous high risk - Previous medium risk </td><td> 0.09228358                               </td><td>0.06455748                                </td><td>Inf                                       </td><td> 1.4294794                                </td><td>8.867169e-01                              </td></tr>\n",
       "\t<tr><td>Current low risk - Never low risk         </td><td>-0.38851206                               </td><td>0.17788660                                </td><td>Inf                                       </td><td>-2.1840435                                </td><td>4.160752e-01                              </td></tr>\n",
       "\t<tr><td>Current low risk - Previous low risk      </td><td>-0.73607661                               </td><td>0.17888494                                </td><td>Inf                                       </td><td>-4.1148049                                </td><td>1.285594e-03                              </td></tr>\n",
       "\t<tr><td>Current low risk - Current medium risk    </td><td>-0.25065871                               </td><td>0.17544377                                </td><td>Inf                                       </td><td>-1.4287125                                </td><td>8.870267e-01                              </td></tr>\n",
       "\t<tr><td>Current low risk - Never medium risk      </td><td>-0.47078632                               </td><td>0.16873927                                </td><td>Inf                                       </td><td>-2.7900222                                </td><td>1.181668e-01                              </td></tr>\n",
       "\t<tr><td>Current low risk - Previous medium risk   </td><td>-0.71355293                               </td><td>0.16899709                                </td><td>Inf                                       </td><td>-4.2222795                                </td><td>8.122977e-04                              </td></tr>\n",
       "\t<tr><td>Never low risk - Previous low risk        </td><td>-0.34756455                               </td><td>0.08676661                                </td><td>Inf                                       </td><td>-4.0057409                                </td><td>2.021693e-03                              </td></tr>\n",
       "\t<tr><td>Never low risk - Current medium risk      </td><td> 0.13785335                               </td><td>0.07943009                                </td><td>Inf                                       </td><td> 1.7355305                                </td><td>7.245010e-01                              </td></tr>\n",
       "\t<tr><td>Never low risk - Never medium risk        </td><td>-0.08227425                               </td><td>0.06325794                                </td><td>Inf                                       </td><td>-1.3006155                                </td><td>9.315106e-01                              </td></tr>\n",
       "\t<tr><td>Never low risk - Previous medium risk     </td><td>-0.32504087                               </td><td>0.06394246                                </td><td>Inf                                       </td><td>-5.0833335                                </td><td>1.313405e-05                              </td></tr>\n",
       "\t<tr><td>Previous low risk - Current medium risk   </td><td> 0.48541790                               </td><td>0.08164140                                </td><td>Inf                                       </td><td> 5.9457321                                </td><td>9.878088e-08                              </td></tr>\n",
       "\t<tr><td>Previous low risk - Never medium risk     </td><td> 0.26529029                               </td><td>0.06601322                                </td><td>Inf                                       </td><td> 4.0187449                                </td><td>1.916808e-03                              </td></tr>\n",
       "\t<tr><td>Previous low risk - Previous medium risk  </td><td> 0.02252368                               </td><td>0.06666946                                </td><td>Inf                                       </td><td> 0.3378410                                </td><td>9.999952e-01                              </td></tr>\n",
       "\t<tr><td>Current medium risk - Never medium risk   </td><td>-0.22012760                               </td><td>0.05602179                                </td><td>Inf                                       </td><td>-3.9293211                                </td><td>2.754183e-03                              </td></tr>\n",
       "\t<tr><td>Current medium risk - Previous medium risk</td><td>-0.46289422                               </td><td>0.05679360                                </td><td>Inf                                       </td><td>-8.1504644                                </td><td>1.215694e-13                              </td></tr>\n",
       "\t<tr><td>Never medium risk - Previous medium risk  </td><td>-0.24276662                               </td><td>0.03029752                                </td><td>Inf                                       </td><td>-8.0127546                                </td><td>1.595390e-13                              </td></tr>\n",
       "</tbody>\n",
       "</table>\n"
      ],
      "text/latex": [
       "\\begin{tabular}{r|llllll}\n",
       " contrast & estimate & SE & df & z.ratio & p.value\\\\\n",
       "\\hline\n",
       "\t Current high risk - Never high risk        & -0.20447220                                & 0.15312003                                 & Inf                                        & -1.3353721                                 & 9.208552e-01                              \\\\\n",
       "\t Current high risk - Previous high risk     & -0.48709134                                & 0.15473401                                 & Inf                                        & -3.1479268                                 & 4.351649e-02                              \\\\\n",
       "\t Current high risk - Current low risk       &  0.31874517                                & 0.21985214                                 & Inf                                        &  1.4498161                                 & 8.783106e-01                              \\\\\n",
       "\t Current high risk - Never low risk         & -0.06976689                                & 0.15447843                                 & Inf                                        & -0.4516287                                 & 9.999548e-01                              \\\\\n",
       "\t Current high risk - Previous low risk      & -0.41733144                                & 0.15562700                                 & Inf                                        & -2.6816133                                 & 1.542545e-01                              \\\\\n",
       "\t Current high risk - Current medium risk    &  0.06808646                                & 0.15165902                                 & Inf                                        &  0.4489443                                 & 9.999568e-01                              \\\\\n",
       "\t Current high risk - Never medium risk      & -0.15204114                                & 0.14385022                                 & Inf                                        & -1.0569406                                 & 9.800542e-01                              \\\\\n",
       "\t Current high risk - Previous medium risk   & -0.39480776                                & 0.14415255                                 & Inf                                        & -2.7388191                                 & 1.343072e-01                              \\\\\n",
       "\t Never high risk - Previous high risk       & -0.28261914                                & 0.08266469                                 & Inf                                        & -3.4188615                                 & 1.821193e-02                              \\\\\n",
       "\t Never high risk - Current low risk         &  0.52321738                                & 0.17670823                                 & Inf                                        &  2.9609112                                 & 7.499602e-02                              \\\\\n",
       "\t Never high risk - Never low risk           &  0.13470531                                & 0.08218529                                 & Inf                                        &  1.6390440                                 & 7.832479e-01                              \\\\\n",
       "\t Never high risk - Previous low risk        & -0.21285923                                & 0.08432438                                 & Inf                                        & -2.5242906                                 & 2.200964e-01                              \\\\\n",
       "\t Never high risk - Current medium risk      &  0.27255866                                & 0.07675478                                 & Inf                                        &  3.5510316                                 & 1.150996e-02                              \\\\\n",
       "\t Never high risk - Never medium risk        &  0.05243106                                & 0.05986421                                 & Inf                                        &  0.8758332                                 & 9.942034e-01                              \\\\\n",
       "\t Never high risk - Previous medium risk     & -0.19033556                                & 0.06058709                                 & Inf                                        & -3.1415200                                 & 4.437039e-02                              \\\\\n",
       "\t Previous high risk - Current low risk      &  0.80583651                                & 0.17810859                                 & Inf                                        &  4.5244112                                 & 2.088616e-04                              \\\\\n",
       "\t Previous high risk - Never low risk        &  0.41732445                                & 0.08515453                                 & Inf                                        &  4.9007896                                 & 3.359106e-05                              \\\\\n",
       "\t Previous high risk - Previous low risk     &  0.06975990                                & 0.08722083                                 & Inf                                        &  0.7998078                                 & 9.969045e-01                              \\\\\n",
       "\t Previous high risk - Current medium risk   &  0.55517780                                & 0.07992602                                 & Inf                                        &  6.9461459                                 & 1.351613e-10                              \\\\\n",
       "\t Previous high risk - Never medium risk     &  0.33505020                                & 0.06387954                                 & Inf                                        &  5.2450314                                 & 5.557119e-06                              \\\\\n",
       "\t Previous high risk - Previous medium risk  &  0.09228358                                & 0.06455748                                 & Inf                                        &  1.4294794                                 & 8.867169e-01                              \\\\\n",
       "\t Current low risk - Never low risk          & -0.38851206                                & 0.17788660                                 & Inf                                        & -2.1840435                                 & 4.160752e-01                              \\\\\n",
       "\t Current low risk - Previous low risk       & -0.73607661                                & 0.17888494                                 & Inf                                        & -4.1148049                                 & 1.285594e-03                              \\\\\n",
       "\t Current low risk - Current medium risk     & -0.25065871                                & 0.17544377                                 & Inf                                        & -1.4287125                                 & 8.870267e-01                              \\\\\n",
       "\t Current low risk - Never medium risk       & -0.47078632                                & 0.16873927                                 & Inf                                        & -2.7900222                                 & 1.181668e-01                              \\\\\n",
       "\t Current low risk - Previous medium risk    & -0.71355293                                & 0.16899709                                 & Inf                                        & -4.2222795                                 & 8.122977e-04                              \\\\\n",
       "\t Never low risk - Previous low risk         & -0.34756455                                & 0.08676661                                 & Inf                                        & -4.0057409                                 & 2.021693e-03                              \\\\\n",
       "\t Never low risk - Current medium risk       &  0.13785335                                & 0.07943009                                 & Inf                                        &  1.7355305                                 & 7.245010e-01                              \\\\\n",
       "\t Never low risk - Never medium risk         & -0.08227425                                & 0.06325794                                 & Inf                                        & -1.3006155                                 & 9.315106e-01                              \\\\\n",
       "\t Never low risk - Previous medium risk      & -0.32504087                                & 0.06394246                                 & Inf                                        & -5.0833335                                 & 1.313405e-05                              \\\\\n",
       "\t Previous low risk - Current medium risk    &  0.48541790                                & 0.08164140                                 & Inf                                        &  5.9457321                                 & 9.878088e-08                              \\\\\n",
       "\t Previous low risk - Never medium risk      &  0.26529029                                & 0.06601322                                 & Inf                                        &  4.0187449                                 & 1.916808e-03                              \\\\\n",
       "\t Previous low risk - Previous medium risk   &  0.02252368                                & 0.06666946                                 & Inf                                        &  0.3378410                                 & 9.999952e-01                              \\\\\n",
       "\t Current medium risk - Never medium risk    & -0.22012760                                & 0.05602179                                 & Inf                                        & -3.9293211                                 & 2.754183e-03                              \\\\\n",
       "\t Current medium risk - Previous medium risk & -0.46289422                                & 0.05679360                                 & Inf                                        & -8.1504644                                 & 1.215694e-13                              \\\\\n",
       "\t Never medium risk - Previous medium risk   & -0.24276662                                & 0.03029752                                 & Inf                                        & -8.0127546                                 & 1.595390e-13                              \\\\\n",
       "\\end{tabular}\n"
      ],
      "text/markdown": [
       "\n",
       "| contrast | estimate | SE | df | z.ratio | p.value |\n",
       "|---|---|---|---|---|---|\n",
       "| Current high risk - Never high risk        | -0.20447220                                | 0.15312003                                 | Inf                                        | -1.3353721                                 | 9.208552e-01                               |\n",
       "| Current high risk - Previous high risk     | -0.48709134                                | 0.15473401                                 | Inf                                        | -3.1479268                                 | 4.351649e-02                               |\n",
       "| Current high risk - Current low risk       |  0.31874517                                | 0.21985214                                 | Inf                                        |  1.4498161                                 | 8.783106e-01                               |\n",
       "| Current high risk - Never low risk         | -0.06976689                                | 0.15447843                                 | Inf                                        | -0.4516287                                 | 9.999548e-01                               |\n",
       "| Current high risk - Previous low risk      | -0.41733144                                | 0.15562700                                 | Inf                                        | -2.6816133                                 | 1.542545e-01                               |\n",
       "| Current high risk - Current medium risk    |  0.06808646                                | 0.15165902                                 | Inf                                        |  0.4489443                                 | 9.999568e-01                               |\n",
       "| Current high risk - Never medium risk      | -0.15204114                                | 0.14385022                                 | Inf                                        | -1.0569406                                 | 9.800542e-01                               |\n",
       "| Current high risk - Previous medium risk   | -0.39480776                                | 0.14415255                                 | Inf                                        | -2.7388191                                 | 1.343072e-01                               |\n",
       "| Never high risk - Previous high risk       | -0.28261914                                | 0.08266469                                 | Inf                                        | -3.4188615                                 | 1.821193e-02                               |\n",
       "| Never high risk - Current low risk         |  0.52321738                                | 0.17670823                                 | Inf                                        |  2.9609112                                 | 7.499602e-02                               |\n",
       "| Never high risk - Never low risk           |  0.13470531                                | 0.08218529                                 | Inf                                        |  1.6390440                                 | 7.832479e-01                               |\n",
       "| Never high risk - Previous low risk        | -0.21285923                                | 0.08432438                                 | Inf                                        | -2.5242906                                 | 2.200964e-01                               |\n",
       "| Never high risk - Current medium risk      |  0.27255866                                | 0.07675478                                 | Inf                                        |  3.5510316                                 | 1.150996e-02                               |\n",
       "| Never high risk - Never medium risk        |  0.05243106                                | 0.05986421                                 | Inf                                        |  0.8758332                                 | 9.942034e-01                               |\n",
       "| Never high risk - Previous medium risk     | -0.19033556                                | 0.06058709                                 | Inf                                        | -3.1415200                                 | 4.437039e-02                               |\n",
       "| Previous high risk - Current low risk      |  0.80583651                                | 0.17810859                                 | Inf                                        |  4.5244112                                 | 2.088616e-04                               |\n",
       "| Previous high risk - Never low risk        |  0.41732445                                | 0.08515453                                 | Inf                                        |  4.9007896                                 | 3.359106e-05                               |\n",
       "| Previous high risk - Previous low risk     |  0.06975990                                | 0.08722083                                 | Inf                                        |  0.7998078                                 | 9.969045e-01                               |\n",
       "| Previous high risk - Current medium risk   |  0.55517780                                | 0.07992602                                 | Inf                                        |  6.9461459                                 | 1.351613e-10                               |\n",
       "| Previous high risk - Never medium risk     |  0.33505020                                | 0.06387954                                 | Inf                                        |  5.2450314                                 | 5.557119e-06                               |\n",
       "| Previous high risk - Previous medium risk  |  0.09228358                                | 0.06455748                                 | Inf                                        |  1.4294794                                 | 8.867169e-01                               |\n",
       "| Current low risk - Never low risk          | -0.38851206                                | 0.17788660                                 | Inf                                        | -2.1840435                                 | 4.160752e-01                               |\n",
       "| Current low risk - Previous low risk       | -0.73607661                                | 0.17888494                                 | Inf                                        | -4.1148049                                 | 1.285594e-03                               |\n",
       "| Current low risk - Current medium risk     | -0.25065871                                | 0.17544377                                 | Inf                                        | -1.4287125                                 | 8.870267e-01                               |\n",
       "| Current low risk - Never medium risk       | -0.47078632                                | 0.16873927                                 | Inf                                        | -2.7900222                                 | 1.181668e-01                               |\n",
       "| Current low risk - Previous medium risk    | -0.71355293                                | 0.16899709                                 | Inf                                        | -4.2222795                                 | 8.122977e-04                               |\n",
       "| Never low risk - Previous low risk         | -0.34756455                                | 0.08676661                                 | Inf                                        | -4.0057409                                 | 2.021693e-03                               |\n",
       "| Never low risk - Current medium risk       |  0.13785335                                | 0.07943009                                 | Inf                                        |  1.7355305                                 | 7.245010e-01                               |\n",
       "| Never low risk - Never medium risk         | -0.08227425                                | 0.06325794                                 | Inf                                        | -1.3006155                                 | 9.315106e-01                               |\n",
       "| Never low risk - Previous medium risk      | -0.32504087                                | 0.06394246                                 | Inf                                        | -5.0833335                                 | 1.313405e-05                               |\n",
       "| Previous low risk - Current medium risk    |  0.48541790                                | 0.08164140                                 | Inf                                        |  5.9457321                                 | 9.878088e-08                               |\n",
       "| Previous low risk - Never medium risk      |  0.26529029                                | 0.06601322                                 | Inf                                        |  4.0187449                                 | 1.916808e-03                               |\n",
       "| Previous low risk - Previous medium risk   |  0.02252368                                | 0.06666946                                 | Inf                                        |  0.3378410                                 | 9.999952e-01                               |\n",
       "| Current medium risk - Never medium risk    | -0.22012760                                | 0.05602179                                 | Inf                                        | -3.9293211                                 | 2.754183e-03                               |\n",
       "| Current medium risk - Previous medium risk | -0.46289422                                | 0.05679360                                 | Inf                                        | -8.1504644                                 | 1.215694e-13                               |\n",
       "| Never medium risk - Previous medium risk   | -0.24276662                                | 0.03029752                                 | Inf                                        | -8.0127546                                 | 1.595390e-13                               |\n",
       "\n"
      ],
      "text/plain": [
       "   contrast                                   estimate    SE         df \n",
       "1  Current high risk - Never high risk        -0.20447220 0.15312003 Inf\n",
       "2  Current high risk - Previous high risk     -0.48709134 0.15473401 Inf\n",
       "3  Current high risk - Current low risk        0.31874517 0.21985214 Inf\n",
       "4  Current high risk - Never low risk         -0.06976689 0.15447843 Inf\n",
       "5  Current high risk - Previous low risk      -0.41733144 0.15562700 Inf\n",
       "6  Current high risk - Current medium risk     0.06808646 0.15165902 Inf\n",
       "7  Current high risk - Never medium risk      -0.15204114 0.14385022 Inf\n",
       "8  Current high risk - Previous medium risk   -0.39480776 0.14415255 Inf\n",
       "9  Never high risk - Previous high risk       -0.28261914 0.08266469 Inf\n",
       "10 Never high risk - Current low risk          0.52321738 0.17670823 Inf\n",
       "11 Never high risk - Never low risk            0.13470531 0.08218529 Inf\n",
       "12 Never high risk - Previous low risk        -0.21285923 0.08432438 Inf\n",
       "13 Never high risk - Current medium risk       0.27255866 0.07675478 Inf\n",
       "14 Never high risk - Never medium risk         0.05243106 0.05986421 Inf\n",
       "15 Never high risk - Previous medium risk     -0.19033556 0.06058709 Inf\n",
       "16 Previous high risk - Current low risk       0.80583651 0.17810859 Inf\n",
       "17 Previous high risk - Never low risk         0.41732445 0.08515453 Inf\n",
       "18 Previous high risk - Previous low risk      0.06975990 0.08722083 Inf\n",
       "19 Previous high risk - Current medium risk    0.55517780 0.07992602 Inf\n",
       "20 Previous high risk - Never medium risk      0.33505020 0.06387954 Inf\n",
       "21 Previous high risk - Previous medium risk   0.09228358 0.06455748 Inf\n",
       "22 Current low risk - Never low risk          -0.38851206 0.17788660 Inf\n",
       "23 Current low risk - Previous low risk       -0.73607661 0.17888494 Inf\n",
       "24 Current low risk - Current medium risk     -0.25065871 0.17544377 Inf\n",
       "25 Current low risk - Never medium risk       -0.47078632 0.16873927 Inf\n",
       "26 Current low risk - Previous medium risk    -0.71355293 0.16899709 Inf\n",
       "27 Never low risk - Previous low risk         -0.34756455 0.08676661 Inf\n",
       "28 Never low risk - Current medium risk        0.13785335 0.07943009 Inf\n",
       "29 Never low risk - Never medium risk         -0.08227425 0.06325794 Inf\n",
       "30 Never low risk - Previous medium risk      -0.32504087 0.06394246 Inf\n",
       "31 Previous low risk - Current medium risk     0.48541790 0.08164140 Inf\n",
       "32 Previous low risk - Never medium risk       0.26529029 0.06601322 Inf\n",
       "33 Previous low risk - Previous medium risk    0.02252368 0.06666946 Inf\n",
       "34 Current medium risk - Never medium risk    -0.22012760 0.05602179 Inf\n",
       "35 Current medium risk - Previous medium risk -0.46289422 0.05679360 Inf\n",
       "36 Never medium risk - Previous medium risk   -0.24276662 0.03029752 Inf\n",
       "   z.ratio    p.value     \n",
       "1  -1.3353721 9.208552e-01\n",
       "2  -3.1479268 4.351649e-02\n",
       "3   1.4498161 8.783106e-01\n",
       "4  -0.4516287 9.999548e-01\n",
       "5  -2.6816133 1.542545e-01\n",
       "6   0.4489443 9.999568e-01\n",
       "7  -1.0569406 9.800542e-01\n",
       "8  -2.7388191 1.343072e-01\n",
       "9  -3.4188615 1.821193e-02\n",
       "10  2.9609112 7.499602e-02\n",
       "11  1.6390440 7.832479e-01\n",
       "12 -2.5242906 2.200964e-01\n",
       "13  3.5510316 1.150996e-02\n",
       "14  0.8758332 9.942034e-01\n",
       "15 -3.1415200 4.437039e-02\n",
       "16  4.5244112 2.088616e-04\n",
       "17  4.9007896 3.359106e-05\n",
       "18  0.7998078 9.969045e-01\n",
       "19  6.9461459 1.351613e-10\n",
       "20  5.2450314 5.557119e-06\n",
       "21  1.4294794 8.867169e-01\n",
       "22 -2.1840435 4.160752e-01\n",
       "23 -4.1148049 1.285594e-03\n",
       "24 -1.4287125 8.870267e-01\n",
       "25 -2.7900222 1.181668e-01\n",
       "26 -4.2222795 8.122977e-04\n",
       "27 -4.0057409 2.021693e-03\n",
       "28  1.7355305 7.245010e-01\n",
       "29 -1.3006155 9.315106e-01\n",
       "30 -5.0833335 1.313405e-05\n",
       "31  5.9457321 9.878088e-08\n",
       "32  4.0187449 1.916808e-03\n",
       "33  0.3378410 9.999952e-01\n",
       "34 -3.9293211 2.754183e-03\n",
       "35 -8.1504644 1.215694e-13\n",
       "36 -8.0127546 1.595390e-13"
      ]
     },
     "metadata": {},
     "output_type": "display_data"
    },
    {
     "data": {
      "text/html": [
       "<table>\n",
       "<thead><tr><th scope=col>contrast</th><th scope=col>estimate</th><th scope=col>SE</th><th scope=col>df</th><th scope=col>z.ratio</th><th scope=col>p.value</th></tr></thead>\n",
       "<tbody>\n",
       "\t<tr><td>Never high risk - Current high risk       </td><td> 0.20447220                               </td><td>0.15312003                                </td><td>Inf                                       </td><td> 1.3353721                                </td><td>9.208552e-01                              </td></tr>\n",
       "\t<tr><td>Previous high risk - Current high risk    </td><td> 0.48709134                               </td><td>0.15473401                                </td><td>Inf                                       </td><td> 3.1479268                                </td><td>4.351649e-02                              </td></tr>\n",
       "\t<tr><td>Previous high risk - Never high risk      </td><td> 0.28261914                               </td><td>0.08266469                                </td><td>Inf                                       </td><td> 3.4188615                                </td><td>1.821193e-02                              </td></tr>\n",
       "\t<tr><td>Current low risk - Current high risk      </td><td>-0.31874517                               </td><td>0.21985214                                </td><td>Inf                                       </td><td>-1.4498161                                </td><td>8.783106e-01                              </td></tr>\n",
       "\t<tr><td>Current low risk - Never high risk        </td><td>-0.52321738                               </td><td>0.17670823                                </td><td>Inf                                       </td><td>-2.9609112                                </td><td>7.499602e-02                              </td></tr>\n",
       "\t<tr><td>Current low risk - Previous high risk     </td><td>-0.80583651                               </td><td>0.17810859                                </td><td>Inf                                       </td><td>-4.5244112                                </td><td>2.088616e-04                              </td></tr>\n",
       "\t<tr><td>Never low risk - Current high risk        </td><td> 0.06976689                               </td><td>0.15447843                                </td><td>Inf                                       </td><td> 0.4516287                                </td><td>9.999548e-01                              </td></tr>\n",
       "\t<tr><td>Never low risk - Never high risk          </td><td>-0.13470531                               </td><td>0.08218529                                </td><td>Inf                                       </td><td>-1.6390440                                </td><td>7.832479e-01                              </td></tr>\n",
       "\t<tr><td>Never low risk - Previous high risk       </td><td>-0.41732445                               </td><td>0.08515453                                </td><td>Inf                                       </td><td>-4.9007896                                </td><td>3.359106e-05                              </td></tr>\n",
       "\t<tr><td>Never low risk - Current low risk         </td><td> 0.38851206                               </td><td>0.17788660                                </td><td>Inf                                       </td><td> 2.1840435                                </td><td>4.160752e-01                              </td></tr>\n",
       "\t<tr><td>Previous low risk - Current high risk     </td><td> 0.41733144                               </td><td>0.15562700                                </td><td>Inf                                       </td><td> 2.6816133                                </td><td>1.542545e-01                              </td></tr>\n",
       "\t<tr><td>Previous low risk - Never high risk       </td><td> 0.21285923                               </td><td>0.08432438                                </td><td>Inf                                       </td><td> 2.5242906                                </td><td>2.200964e-01                              </td></tr>\n",
       "\t<tr><td>Previous low risk - Previous high risk    </td><td>-0.06975990                               </td><td>0.08722083                                </td><td>Inf                                       </td><td>-0.7998078                                </td><td>9.969045e-01                              </td></tr>\n",
       "\t<tr><td>Previous low risk - Current low risk      </td><td> 0.73607661                               </td><td>0.17888494                                </td><td>Inf                                       </td><td> 4.1148049                                </td><td>1.285594e-03                              </td></tr>\n",
       "\t<tr><td>Previous low risk - Never low risk        </td><td> 0.34756455                               </td><td>0.08676661                                </td><td>Inf                                       </td><td> 4.0057409                                </td><td>2.021693e-03                              </td></tr>\n",
       "\t<tr><td>Current medium risk - Current high risk   </td><td>-0.06808646                               </td><td>0.15165902                                </td><td>Inf                                       </td><td>-0.4489443                                </td><td>9.999568e-01                              </td></tr>\n",
       "\t<tr><td>Current medium risk - Never high risk     </td><td>-0.27255866                               </td><td>0.07675478                                </td><td>Inf                                       </td><td>-3.5510316                                </td><td>1.150996e-02                              </td></tr>\n",
       "\t<tr><td>Current medium risk - Previous high risk  </td><td>-0.55517780                               </td><td>0.07992602                                </td><td>Inf                                       </td><td>-6.9461459                                </td><td>1.351613e-10                              </td></tr>\n",
       "\t<tr><td>Current medium risk - Current low risk    </td><td> 0.25065871                               </td><td>0.17544377                                </td><td>Inf                                       </td><td> 1.4287125                                </td><td>8.870267e-01                              </td></tr>\n",
       "\t<tr><td>Current medium risk - Never low risk      </td><td>-0.13785335                               </td><td>0.07943009                                </td><td>Inf                                       </td><td>-1.7355305                                </td><td>7.245010e-01                              </td></tr>\n",
       "\t<tr><td>Current medium risk - Previous low risk   </td><td>-0.48541790                               </td><td>0.08164140                                </td><td>Inf                                       </td><td>-5.9457321                                </td><td>9.878088e-08                              </td></tr>\n",
       "\t<tr><td>Never medium risk - Current high risk     </td><td> 0.15204114                               </td><td>0.14385022                                </td><td>Inf                                       </td><td> 1.0569406                                </td><td>9.800542e-01                              </td></tr>\n",
       "\t<tr><td>Never medium risk - Never high risk       </td><td>-0.05243106                               </td><td>0.05986421                                </td><td>Inf                                       </td><td>-0.8758332                                </td><td>9.942034e-01                              </td></tr>\n",
       "\t<tr><td>Never medium risk - Previous high risk    </td><td>-0.33505020                               </td><td>0.06387954                                </td><td>Inf                                       </td><td>-5.2450314                                </td><td>5.557119e-06                              </td></tr>\n",
       "\t<tr><td>Never medium risk - Current low risk      </td><td> 0.47078632                               </td><td>0.16873927                                </td><td>Inf                                       </td><td> 2.7900222                                </td><td>1.181668e-01                              </td></tr>\n",
       "\t<tr><td>Never medium risk - Never low risk        </td><td> 0.08227425                               </td><td>0.06325794                                </td><td>Inf                                       </td><td> 1.3006155                                </td><td>9.315106e-01                              </td></tr>\n",
       "\t<tr><td>Never medium risk - Previous low risk     </td><td>-0.26529029                               </td><td>0.06601322                                </td><td>Inf                                       </td><td>-4.0187449                                </td><td>1.916808e-03                              </td></tr>\n",
       "\t<tr><td>Never medium risk - Current medium risk   </td><td> 0.22012760                               </td><td>0.05602179                                </td><td>Inf                                       </td><td> 3.9293211                                </td><td>2.754183e-03                              </td></tr>\n",
       "\t<tr><td>Previous medium risk - Current high risk  </td><td> 0.39480776                               </td><td>0.14415255                                </td><td>Inf                                       </td><td> 2.7388191                                </td><td>1.343072e-01                              </td></tr>\n",
       "\t<tr><td>Previous medium risk - Never high risk    </td><td> 0.19033556                               </td><td>0.06058709                                </td><td>Inf                                       </td><td> 3.1415200                                </td><td>4.437039e-02                              </td></tr>\n",
       "\t<tr><td>Previous medium risk - Previous high risk </td><td>-0.09228358                               </td><td>0.06455748                                </td><td>Inf                                       </td><td>-1.4294794                                </td><td>8.867169e-01                              </td></tr>\n",
       "\t<tr><td>Previous medium risk - Current low risk   </td><td> 0.71355293                               </td><td>0.16899709                                </td><td>Inf                                       </td><td> 4.2222795                                </td><td>8.122977e-04                              </td></tr>\n",
       "\t<tr><td>Previous medium risk - Never low risk     </td><td> 0.32504087                               </td><td>0.06394246                                </td><td>Inf                                       </td><td> 5.0833335                                </td><td>1.313405e-05                              </td></tr>\n",
       "\t<tr><td>Previous medium risk - Previous low risk  </td><td>-0.02252368                               </td><td>0.06666946                                </td><td>Inf                                       </td><td>-0.3378410                                </td><td>9.999952e-01                              </td></tr>\n",
       "\t<tr><td>Previous medium risk - Current medium risk</td><td> 0.46289422                               </td><td>0.05679360                                </td><td>Inf                                       </td><td> 8.1504644                                </td><td>1.215694e-13                              </td></tr>\n",
       "\t<tr><td>Previous medium risk - Never medium risk  </td><td> 0.24276662                               </td><td>0.03029752                                </td><td>Inf                                       </td><td> 8.0127546                                </td><td>1.595390e-13                              </td></tr>\n",
       "</tbody>\n",
       "</table>\n"
      ],
      "text/latex": [
       "\\begin{tabular}{r|llllll}\n",
       " contrast & estimate & SE & df & z.ratio & p.value\\\\\n",
       "\\hline\n",
       "\t Never high risk - Current high risk        &  0.20447220                                & 0.15312003                                 & Inf                                        &  1.3353721                                 & 9.208552e-01                              \\\\\n",
       "\t Previous high risk - Current high risk     &  0.48709134                                & 0.15473401                                 & Inf                                        &  3.1479268                                 & 4.351649e-02                              \\\\\n",
       "\t Previous high risk - Never high risk       &  0.28261914                                & 0.08266469                                 & Inf                                        &  3.4188615                                 & 1.821193e-02                              \\\\\n",
       "\t Current low risk - Current high risk       & -0.31874517                                & 0.21985214                                 & Inf                                        & -1.4498161                                 & 8.783106e-01                              \\\\\n",
       "\t Current low risk - Never high risk         & -0.52321738                                & 0.17670823                                 & Inf                                        & -2.9609112                                 & 7.499602e-02                              \\\\\n",
       "\t Current low risk - Previous high risk      & -0.80583651                                & 0.17810859                                 & Inf                                        & -4.5244112                                 & 2.088616e-04                              \\\\\n",
       "\t Never low risk - Current high risk         &  0.06976689                                & 0.15447843                                 & Inf                                        &  0.4516287                                 & 9.999548e-01                              \\\\\n",
       "\t Never low risk - Never high risk           & -0.13470531                                & 0.08218529                                 & Inf                                        & -1.6390440                                 & 7.832479e-01                              \\\\\n",
       "\t Never low risk - Previous high risk        & -0.41732445                                & 0.08515453                                 & Inf                                        & -4.9007896                                 & 3.359106e-05                              \\\\\n",
       "\t Never low risk - Current low risk          &  0.38851206                                & 0.17788660                                 & Inf                                        &  2.1840435                                 & 4.160752e-01                              \\\\\n",
       "\t Previous low risk - Current high risk      &  0.41733144                                & 0.15562700                                 & Inf                                        &  2.6816133                                 & 1.542545e-01                              \\\\\n",
       "\t Previous low risk - Never high risk        &  0.21285923                                & 0.08432438                                 & Inf                                        &  2.5242906                                 & 2.200964e-01                              \\\\\n",
       "\t Previous low risk - Previous high risk     & -0.06975990                                & 0.08722083                                 & Inf                                        & -0.7998078                                 & 9.969045e-01                              \\\\\n",
       "\t Previous low risk - Current low risk       &  0.73607661                                & 0.17888494                                 & Inf                                        &  4.1148049                                 & 1.285594e-03                              \\\\\n",
       "\t Previous low risk - Never low risk         &  0.34756455                                & 0.08676661                                 & Inf                                        &  4.0057409                                 & 2.021693e-03                              \\\\\n",
       "\t Current medium risk - Current high risk    & -0.06808646                                & 0.15165902                                 & Inf                                        & -0.4489443                                 & 9.999568e-01                              \\\\\n",
       "\t Current medium risk - Never high risk      & -0.27255866                                & 0.07675478                                 & Inf                                        & -3.5510316                                 & 1.150996e-02                              \\\\\n",
       "\t Current medium risk - Previous high risk   & -0.55517780                                & 0.07992602                                 & Inf                                        & -6.9461459                                 & 1.351613e-10                              \\\\\n",
       "\t Current medium risk - Current low risk     &  0.25065871                                & 0.17544377                                 & Inf                                        &  1.4287125                                 & 8.870267e-01                              \\\\\n",
       "\t Current medium risk - Never low risk       & -0.13785335                                & 0.07943009                                 & Inf                                        & -1.7355305                                 & 7.245010e-01                              \\\\\n",
       "\t Current medium risk - Previous low risk    & -0.48541790                                & 0.08164140                                 & Inf                                        & -5.9457321                                 & 9.878088e-08                              \\\\\n",
       "\t Never medium risk - Current high risk      &  0.15204114                                & 0.14385022                                 & Inf                                        &  1.0569406                                 & 9.800542e-01                              \\\\\n",
       "\t Never medium risk - Never high risk        & -0.05243106                                & 0.05986421                                 & Inf                                        & -0.8758332                                 & 9.942034e-01                              \\\\\n",
       "\t Never medium risk - Previous high risk     & -0.33505020                                & 0.06387954                                 & Inf                                        & -5.2450314                                 & 5.557119e-06                              \\\\\n",
       "\t Never medium risk - Current low risk       &  0.47078632                                & 0.16873927                                 & Inf                                        &  2.7900222                                 & 1.181668e-01                              \\\\\n",
       "\t Never medium risk - Never low risk         &  0.08227425                                & 0.06325794                                 & Inf                                        &  1.3006155                                 & 9.315106e-01                              \\\\\n",
       "\t Never medium risk - Previous low risk      & -0.26529029                                & 0.06601322                                 & Inf                                        & -4.0187449                                 & 1.916808e-03                              \\\\\n",
       "\t Never medium risk - Current medium risk    &  0.22012760                                & 0.05602179                                 & Inf                                        &  3.9293211                                 & 2.754183e-03                              \\\\\n",
       "\t Previous medium risk - Current high risk   &  0.39480776                                & 0.14415255                                 & Inf                                        &  2.7388191                                 & 1.343072e-01                              \\\\\n",
       "\t Previous medium risk - Never high risk     &  0.19033556                                & 0.06058709                                 & Inf                                        &  3.1415200                                 & 4.437039e-02                              \\\\\n",
       "\t Previous medium risk - Previous high risk  & -0.09228358                                & 0.06455748                                 & Inf                                        & -1.4294794                                 & 8.867169e-01                              \\\\\n",
       "\t Previous medium risk - Current low risk    &  0.71355293                                & 0.16899709                                 & Inf                                        &  4.2222795                                 & 8.122977e-04                              \\\\\n",
       "\t Previous medium risk - Never low risk      &  0.32504087                                & 0.06394246                                 & Inf                                        &  5.0833335                                 & 1.313405e-05                              \\\\\n",
       "\t Previous medium risk - Previous low risk   & -0.02252368                                & 0.06666946                                 & Inf                                        & -0.3378410                                 & 9.999952e-01                              \\\\\n",
       "\t Previous medium risk - Current medium risk &  0.46289422                                & 0.05679360                                 & Inf                                        &  8.1504644                                 & 1.215694e-13                              \\\\\n",
       "\t Previous medium risk - Never medium risk   &  0.24276662                                & 0.03029752                                 & Inf                                        &  8.0127546                                 & 1.595390e-13                              \\\\\n",
       "\\end{tabular}\n"
      ],
      "text/markdown": [
       "\n",
       "| contrast | estimate | SE | df | z.ratio | p.value |\n",
       "|---|---|---|---|---|---|\n",
       "| Never high risk - Current high risk        |  0.20447220                                | 0.15312003                                 | Inf                                        |  1.3353721                                 | 9.208552e-01                               |\n",
       "| Previous high risk - Current high risk     |  0.48709134                                | 0.15473401                                 | Inf                                        |  3.1479268                                 | 4.351649e-02                               |\n",
       "| Previous high risk - Never high risk       |  0.28261914                                | 0.08266469                                 | Inf                                        |  3.4188615                                 | 1.821193e-02                               |\n",
       "| Current low risk - Current high risk       | -0.31874517                                | 0.21985214                                 | Inf                                        | -1.4498161                                 | 8.783106e-01                               |\n",
       "| Current low risk - Never high risk         | -0.52321738                                | 0.17670823                                 | Inf                                        | -2.9609112                                 | 7.499602e-02                               |\n",
       "| Current low risk - Previous high risk      | -0.80583651                                | 0.17810859                                 | Inf                                        | -4.5244112                                 | 2.088616e-04                               |\n",
       "| Never low risk - Current high risk         |  0.06976689                                | 0.15447843                                 | Inf                                        |  0.4516287                                 | 9.999548e-01                               |\n",
       "| Never low risk - Never high risk           | -0.13470531                                | 0.08218529                                 | Inf                                        | -1.6390440                                 | 7.832479e-01                               |\n",
       "| Never low risk - Previous high risk        | -0.41732445                                | 0.08515453                                 | Inf                                        | -4.9007896                                 | 3.359106e-05                               |\n",
       "| Never low risk - Current low risk          |  0.38851206                                | 0.17788660                                 | Inf                                        |  2.1840435                                 | 4.160752e-01                               |\n",
       "| Previous low risk - Current high risk      |  0.41733144                                | 0.15562700                                 | Inf                                        |  2.6816133                                 | 1.542545e-01                               |\n",
       "| Previous low risk - Never high risk        |  0.21285923                                | 0.08432438                                 | Inf                                        |  2.5242906                                 | 2.200964e-01                               |\n",
       "| Previous low risk - Previous high risk     | -0.06975990                                | 0.08722083                                 | Inf                                        | -0.7998078                                 | 9.969045e-01                               |\n",
       "| Previous low risk - Current low risk       |  0.73607661                                | 0.17888494                                 | Inf                                        |  4.1148049                                 | 1.285594e-03                               |\n",
       "| Previous low risk - Never low risk         |  0.34756455                                | 0.08676661                                 | Inf                                        |  4.0057409                                 | 2.021693e-03                               |\n",
       "| Current medium risk - Current high risk    | -0.06808646                                | 0.15165902                                 | Inf                                        | -0.4489443                                 | 9.999568e-01                               |\n",
       "| Current medium risk - Never high risk      | -0.27255866                                | 0.07675478                                 | Inf                                        | -3.5510316                                 | 1.150996e-02                               |\n",
       "| Current medium risk - Previous high risk   | -0.55517780                                | 0.07992602                                 | Inf                                        | -6.9461459                                 | 1.351613e-10                               |\n",
       "| Current medium risk - Current low risk     |  0.25065871                                | 0.17544377                                 | Inf                                        |  1.4287125                                 | 8.870267e-01                               |\n",
       "| Current medium risk - Never low risk       | -0.13785335                                | 0.07943009                                 | Inf                                        | -1.7355305                                 | 7.245010e-01                               |\n",
       "| Current medium risk - Previous low risk    | -0.48541790                                | 0.08164140                                 | Inf                                        | -5.9457321                                 | 9.878088e-08                               |\n",
       "| Never medium risk - Current high risk      |  0.15204114                                | 0.14385022                                 | Inf                                        |  1.0569406                                 | 9.800542e-01                               |\n",
       "| Never medium risk - Never high risk        | -0.05243106                                | 0.05986421                                 | Inf                                        | -0.8758332                                 | 9.942034e-01                               |\n",
       "| Never medium risk - Previous high risk     | -0.33505020                                | 0.06387954                                 | Inf                                        | -5.2450314                                 | 5.557119e-06                               |\n",
       "| Never medium risk - Current low risk       |  0.47078632                                | 0.16873927                                 | Inf                                        |  2.7900222                                 | 1.181668e-01                               |\n",
       "| Never medium risk - Never low risk         |  0.08227425                                | 0.06325794                                 | Inf                                        |  1.3006155                                 | 9.315106e-01                               |\n",
       "| Never medium risk - Previous low risk      | -0.26529029                                | 0.06601322                                 | Inf                                        | -4.0187449                                 | 1.916808e-03                               |\n",
       "| Never medium risk - Current medium risk    |  0.22012760                                | 0.05602179                                 | Inf                                        |  3.9293211                                 | 2.754183e-03                               |\n",
       "| Previous medium risk - Current high risk   |  0.39480776                                | 0.14415255                                 | Inf                                        |  2.7388191                                 | 1.343072e-01                               |\n",
       "| Previous medium risk - Never high risk     |  0.19033556                                | 0.06058709                                 | Inf                                        |  3.1415200                                 | 4.437039e-02                               |\n",
       "| Previous medium risk - Previous high risk  | -0.09228358                                | 0.06455748                                 | Inf                                        | -1.4294794                                 | 8.867169e-01                               |\n",
       "| Previous medium risk - Current low risk    |  0.71355293                                | 0.16899709                                 | Inf                                        |  4.2222795                                 | 8.122977e-04                               |\n",
       "| Previous medium risk - Never low risk      |  0.32504087                                | 0.06394246                                 | Inf                                        |  5.0833335                                 | 1.313405e-05                               |\n",
       "| Previous medium risk - Previous low risk   | -0.02252368                                | 0.06666946                                 | Inf                                        | -0.3378410                                 | 9.999952e-01                               |\n",
       "| Previous medium risk - Current medium risk |  0.46289422                                | 0.05679360                                 | Inf                                        |  8.1504644                                 | 1.215694e-13                               |\n",
       "| Previous medium risk - Never medium risk   |  0.24276662                                | 0.03029752                                 | Inf                                        |  8.0127546                                 | 1.595390e-13                               |\n",
       "\n"
      ],
      "text/plain": [
       "   contrast                                   estimate    SE         df \n",
       "1  Never high risk - Current high risk         0.20447220 0.15312003 Inf\n",
       "2  Previous high risk - Current high risk      0.48709134 0.15473401 Inf\n",
       "3  Previous high risk - Never high risk        0.28261914 0.08266469 Inf\n",
       "4  Current low risk - Current high risk       -0.31874517 0.21985214 Inf\n",
       "5  Current low risk - Never high risk         -0.52321738 0.17670823 Inf\n",
       "6  Current low risk - Previous high risk      -0.80583651 0.17810859 Inf\n",
       "7  Never low risk - Current high risk          0.06976689 0.15447843 Inf\n",
       "8  Never low risk - Never high risk           -0.13470531 0.08218529 Inf\n",
       "9  Never low risk - Previous high risk        -0.41732445 0.08515453 Inf\n",
       "10 Never low risk - Current low risk           0.38851206 0.17788660 Inf\n",
       "11 Previous low risk - Current high risk       0.41733144 0.15562700 Inf\n",
       "12 Previous low risk - Never high risk         0.21285923 0.08432438 Inf\n",
       "13 Previous low risk - Previous high risk     -0.06975990 0.08722083 Inf\n",
       "14 Previous low risk - Current low risk        0.73607661 0.17888494 Inf\n",
       "15 Previous low risk - Never low risk          0.34756455 0.08676661 Inf\n",
       "16 Current medium risk - Current high risk    -0.06808646 0.15165902 Inf\n",
       "17 Current medium risk - Never high risk      -0.27255866 0.07675478 Inf\n",
       "18 Current medium risk - Previous high risk   -0.55517780 0.07992602 Inf\n",
       "19 Current medium risk - Current low risk      0.25065871 0.17544377 Inf\n",
       "20 Current medium risk - Never low risk       -0.13785335 0.07943009 Inf\n",
       "21 Current medium risk - Previous low risk    -0.48541790 0.08164140 Inf\n",
       "22 Never medium risk - Current high risk       0.15204114 0.14385022 Inf\n",
       "23 Never medium risk - Never high risk        -0.05243106 0.05986421 Inf\n",
       "24 Never medium risk - Previous high risk     -0.33505020 0.06387954 Inf\n",
       "25 Never medium risk - Current low risk        0.47078632 0.16873927 Inf\n",
       "26 Never medium risk - Never low risk          0.08227425 0.06325794 Inf\n",
       "27 Never medium risk - Previous low risk      -0.26529029 0.06601322 Inf\n",
       "28 Never medium risk - Current medium risk     0.22012760 0.05602179 Inf\n",
       "29 Previous medium risk - Current high risk    0.39480776 0.14415255 Inf\n",
       "30 Previous medium risk - Never high risk      0.19033556 0.06058709 Inf\n",
       "31 Previous medium risk - Previous high risk  -0.09228358 0.06455748 Inf\n",
       "32 Previous medium risk - Current low risk     0.71355293 0.16899709 Inf\n",
       "33 Previous medium risk - Never low risk       0.32504087 0.06394246 Inf\n",
       "34 Previous medium risk - Previous low risk   -0.02252368 0.06666946 Inf\n",
       "35 Previous medium risk - Current medium risk  0.46289422 0.05679360 Inf\n",
       "36 Previous medium risk - Never medium risk    0.24276662 0.03029752 Inf\n",
       "   z.ratio    p.value     \n",
       "1   1.3353721 9.208552e-01\n",
       "2   3.1479268 4.351649e-02\n",
       "3   3.4188615 1.821193e-02\n",
       "4  -1.4498161 8.783106e-01\n",
       "5  -2.9609112 7.499602e-02\n",
       "6  -4.5244112 2.088616e-04\n",
       "7   0.4516287 9.999548e-01\n",
       "8  -1.6390440 7.832479e-01\n",
       "9  -4.9007896 3.359106e-05\n",
       "10  2.1840435 4.160752e-01\n",
       "11  2.6816133 1.542545e-01\n",
       "12  2.5242906 2.200964e-01\n",
       "13 -0.7998078 9.969045e-01\n",
       "14  4.1148049 1.285594e-03\n",
       "15  4.0057409 2.021693e-03\n",
       "16 -0.4489443 9.999568e-01\n",
       "17 -3.5510316 1.150996e-02\n",
       "18 -6.9461459 1.351613e-10\n",
       "19  1.4287125 8.870267e-01\n",
       "20 -1.7355305 7.245010e-01\n",
       "21 -5.9457321 9.878088e-08\n",
       "22  1.0569406 9.800542e-01\n",
       "23 -0.8758332 9.942034e-01\n",
       "24 -5.2450314 5.557119e-06\n",
       "25  2.7900222 1.181668e-01\n",
       "26  1.3006155 9.315106e-01\n",
       "27 -4.0187449 1.916808e-03\n",
       "28  3.9293211 2.754183e-03\n",
       "29  2.7388191 1.343072e-01\n",
       "30  3.1415200 4.437039e-02\n",
       "31 -1.4294794 8.867169e-01\n",
       "32  4.2222795 8.122977e-04\n",
       "33  5.0833335 1.313405e-05\n",
       "34 -0.3378410 9.999952e-01\n",
       "35  8.1504644 1.215694e-13\n",
       "36  8.0127546 1.595390e-13"
      ]
     },
     "metadata": {},
     "output_type": "display_data"
    }
   ],
   "source": [
    "pairs <- pairs(lsm)\n",
    "pairs2 <- pairs(lsm,reverse=TRUE)\n",
    "summary(pairs)\n",
    "summary(pairs2)"
   ]
  },
  {
   "cell_type": "code",
   "execution_count": null,
   "metadata": {},
   "outputs": [],
   "source": [
    "contr <- rbind(\n",
    "  \"Low Risk in Never Smoker - High Risk in Never Smoker\" =  c(0,1,0,0,1,0,0,0,0))\n",
    "m.pois.contr <- summary(glht(M1, contr))"
   ]
  },
  {
   "cell_type": "code",
   "execution_count": null,
   "metadata": {},
   "outputs": [],
   "source": [
    "m.pois.contr\n"
   ]
  },
  {
   "cell_type": "code",
   "execution_count": 64,
   "metadata": {},
   "outputs": [
    {
     "data": {
      "text/plain": [
       "\n",
       "Call:  glm(formula = CKD_only.0.0 ~ SMOKE.0.0 * GRS_RAW_T2DIR2d2, family = binomial, \n",
       "    data = UKBB_AG2)\n",
       "\n",
       "Coefficients:\n",
       "                                  (Intercept)  \n",
       "                                     -4.27778  \n",
       "                               SMOKE.0.0Never  \n",
       "                                      0.20447  \n",
       "                            SMOKE.0.0Previous  \n",
       "                                      0.48709  \n",
       "                     GRS_RAW_T2DIR2d2low risk  \n",
       "                                     -0.31875  \n",
       "                  GRS_RAW_T2DIR2d2medium risk  \n",
       "                                     -0.06809  \n",
       "      SMOKE.0.0Never:GRS_RAW_T2DIR2d2low risk  \n",
       "                                      0.18404  \n",
       "   SMOKE.0.0Previous:GRS_RAW_T2DIR2d2low risk  \n",
       "                                      0.24899  \n",
       "   SMOKE.0.0Never:GRS_RAW_T2DIR2d2medium risk  \n",
       "                                      0.01566  \n",
       "SMOKE.0.0Previous:GRS_RAW_T2DIR2d2medium risk  \n",
       "                                     -0.02420  \n",
       "\n",
       "Degrees of Freedom: 354572 Total (i.e. Null);  354564 Residual\n",
       "  (17645 observations deleted due to missingness)\n",
       "Null Deviance:\t    61470 \n",
       "Residual Deviance: 61320 \tAIC: 61340"
      ]
     },
     "metadata": {},
     "output_type": "display_data"
    }
   ],
   "source": [
    "M1"
   ]
  },
  {
   "cell_type": "code",
   "execution_count": null,
   "metadata": {},
   "outputs": [],
   "source": []
  }
 ],
 "metadata": {
  "kernelspec": {
   "display_name": "acg2",
   "language": "R",
   "name": "acg2"
  },
  "language_info": {
   "codemirror_mode": "r",
   "file_extension": ".r",
   "mimetype": "text/x-r-source",
   "name": "R",
   "pygments_lexer": "r",
   "version": "3.6.1"
  }
 },
 "nbformat": 4,
 "nbformat_minor": 4
}
