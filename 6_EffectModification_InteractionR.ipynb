{
 "cells": [
  {
   "cell_type": "code",
   "execution_count": 1,
   "metadata": {},
   "outputs": [
    {
     "name": "stderr",
     "output_type": "stream",
     "text": [
      "Loading required package: mvtnorm\n",
      "\n",
      "Warning message:\n",
      "“package ‘mvtnorm’ was built under R version 3.6.3”\n",
      "Loading required package: survival\n",
      "\n",
      "Warning message:\n",
      "“package ‘survival’ was built under R version 3.6.3”\n",
      "Loading required package: TH.data\n",
      "\n",
      "Loading required package: MASS\n",
      "\n",
      "Warning message:\n",
      "“package ‘MASS’ was built under R version 3.6.3”\n",
      "\n",
      "Attaching package: ‘TH.data’\n",
      "\n",
      "\n",
      "The following object is masked from ‘package:MASS’:\n",
      "\n",
      "    geyser\n",
      "\n",
      "\n",
      "Loading required package: ggplot2\n",
      "\n",
      "Warning message:\n",
      "“package ‘ggplot2’ was built under R version 3.6.3”\n",
      "\n",
      "Attaching package: ‘dplyr’\n",
      "\n",
      "\n",
      "The following object is masked from ‘package:MASS’:\n",
      "\n",
      "    select\n",
      "\n",
      "\n",
      "The following objects are masked from ‘package:stats’:\n",
      "\n",
      "    filter, lag\n",
      "\n",
      "\n",
      "The following objects are masked from ‘package:base’:\n",
      "\n",
      "    intersect, setdiff, setequal, union\n",
      "\n",
      "\n",
      "Warning message:\n",
      "“package ‘lme4’ was built under R version 3.6.3”\n",
      "Loading required package: Matrix\n",
      "\n",
      "Warning message:\n",
      "“package ‘Matrix’ was built under R version 3.6.3”\n",
      "Registered S3 methods overwritten by 'lme4':\n",
      "  method                          from\n",
      "  cooks.distance.influence.merMod car \n",
      "  influence.merMod                car \n",
      "  dfbeta.influence.merMod         car \n",
      "  dfbetas.influence.merMod        car \n",
      "\n",
      "Loading required package: Hmisc\n",
      "\n",
      "Loading required package: lattice\n",
      "\n",
      "Warning message:\n",
      "“package ‘lattice’ was built under R version 3.6.3”\n",
      "Loading required package: Formula\n",
      "\n",
      "\n",
      "Attaching package: ‘Hmisc’\n",
      "\n",
      "\n",
      "The following objects are masked from ‘package:dplyr’:\n",
      "\n",
      "    src, summarize\n",
      "\n",
      "\n",
      "The following objects are masked from ‘package:base’:\n",
      "\n",
      "    format.pval, units\n",
      "\n",
      "\n",
      "Loading required package: SparseM\n",
      "\n",
      "Warning message:\n",
      "“package ‘SparseM’ was built under R version 3.6.3”\n",
      "\n",
      "Attaching package: ‘SparseM’\n",
      "\n",
      "\n",
      "The following object is masked from ‘package:base’:\n",
      "\n",
      "    backsolve\n",
      "\n",
      "\n",
      "Warning message:\n",
      "“package ‘mgcv’ was built under R version 3.6.3”\n",
      "Loading required package: nlme\n",
      "\n",
      "Warning message:\n",
      "“package ‘nlme’ was built under R version 3.6.3”\n",
      "\n",
      "Attaching package: ‘nlme’\n",
      "\n",
      "\n",
      "The following object is masked from ‘package:lme4’:\n",
      "\n",
      "    lmList\n",
      "\n",
      "\n",
      "The following object is masked from ‘package:dplyr’:\n",
      "\n",
      "    collapse\n",
      "\n",
      "\n",
      "This is mgcv 1.8-33. For overview type 'help(\"mgcv-package\")'.\n",
      "\n",
      "Warning message:\n",
      "“package ‘broom’ was built under R version 3.6.3”\n",
      "Loading required package: lmtest\n",
      "\n",
      "Loading required package: zoo\n",
      "\n",
      "Warning message:\n",
      "“package ‘zoo’ was built under R version 3.6.3”\n",
      "\n",
      "Attaching package: ‘zoo’\n",
      "\n",
      "\n",
      "The following objects are masked from ‘package:base’:\n",
      "\n",
      "    as.Date, as.Date.numeric\n",
      "\n",
      "\n",
      "\n",
      "Attaching package: ‘lmtest’\n",
      "\n",
      "\n",
      "The following object is masked from ‘package:rms’:\n",
      "\n",
      "    lrtest\n",
      "\n",
      "\n",
      "Registered S3 method overwritten by 'quantmod':\n",
      "  method            from\n",
      "  as.zoo.data.frame zoo \n",
      "\n",
      "Warning message:\n",
      "“package ‘stringr’ was built under R version 3.6.3”\n",
      "Warning message:\n",
      "“package ‘tidyverse’ was built under R version 3.6.3”\n",
      "── \u001b[1mAttaching packages\u001b[22m ─────────────────────────────────────── tidyverse 1.3.0 ──\n",
      "\n",
      "\u001b[32m✔\u001b[39m \u001b[34mtibble \u001b[39m 3.0.4     \u001b[32m✔\u001b[39m \u001b[34mpurrr  \u001b[39m 0.3.4\n",
      "\u001b[32m✔\u001b[39m \u001b[34mtidyr  \u001b[39m 1.1.2     \u001b[32m✔\u001b[39m \u001b[34mforcats\u001b[39m 0.5.0\n",
      "\u001b[32m✔\u001b[39m \u001b[34mreadr  \u001b[39m 1.4.0     \n",
      "\n",
      "Warning message:\n",
      "“package ‘tibble’ was built under R version 3.6.3”\n",
      "Warning message:\n",
      "“package ‘tidyr’ was built under R version 3.6.3”\n",
      "Warning message:\n",
      "“package ‘purrr’ was built under R version 3.6.3”\n",
      "Warning message:\n",
      "“package ‘forcats’ was built under R version 3.6.3”\n",
      "── \u001b[1mConflicts\u001b[22m ────────────────────────────────────────── tidyverse_conflicts() ──\n",
      "\u001b[31m✖\u001b[39m \u001b[34mnlme\u001b[39m::\u001b[32mcollapse()\u001b[39m   masks \u001b[34mdplyr\u001b[39m::collapse()\n",
      "\u001b[31m✖\u001b[39m \u001b[34mtidyr\u001b[39m::\u001b[32mexpand()\u001b[39m    masks \u001b[34mMatrix\u001b[39m::expand()\n",
      "\u001b[31m✖\u001b[39m \u001b[34mdplyr\u001b[39m::\u001b[32mfilter()\u001b[39m    masks \u001b[34mstats\u001b[39m::filter()\n",
      "\u001b[31m✖\u001b[39m \u001b[34mdplyr\u001b[39m::\u001b[32mlag()\u001b[39m       masks \u001b[34mstats\u001b[39m::lag()\n",
      "\u001b[31m✖\u001b[39m \u001b[34mtidyr\u001b[39m::\u001b[32mpack()\u001b[39m      masks \u001b[34mMatrix\u001b[39m::pack()\n",
      "\u001b[31m✖\u001b[39m \u001b[34mdplyr\u001b[39m::\u001b[32mselect()\u001b[39m    masks \u001b[34mMASS\u001b[39m::select()\n",
      "\u001b[31m✖\u001b[39m \u001b[34mHmisc\u001b[39m::\u001b[32msrc()\u001b[39m       masks \u001b[34mdplyr\u001b[39m::src()\n",
      "\u001b[31m✖\u001b[39m \u001b[34mHmisc\u001b[39m::\u001b[32msummarize()\u001b[39m masks \u001b[34mdplyr\u001b[39m::summarize()\n",
      "\u001b[31m✖\u001b[39m \u001b[34mtidyr\u001b[39m::\u001b[32munpack()\u001b[39m    masks \u001b[34mMatrix\u001b[39m::unpack()\n",
      "\n",
      "Loading required package: R.oo\n",
      "\n",
      "Loading required package: R.methodsS3\n",
      "\n",
      "R.methodsS3 v1.8.1 (2020-08-26 16:20:06 UTC) successfully loaded. See ?R.methodsS3 for help.\n",
      "\n",
      "R.oo v1.24.0 (2020-08-26 16:11:58 UTC) successfully loaded. See ?R.oo for help.\n",
      "\n",
      "\n",
      "Attaching package: ‘R.oo’\n",
      "\n",
      "\n",
      "The following object is masked from ‘package:R.methodsS3’:\n",
      "\n",
      "    throw\n",
      "\n",
      "\n",
      "The following objects are masked from ‘package:methods’:\n",
      "\n",
      "    getClasses, getMethods\n",
      "\n",
      "\n",
      "The following objects are masked from ‘package:base’:\n",
      "\n",
      "    attach, detach, load, save\n",
      "\n",
      "\n",
      "R.utils v2.10.1 (2020-08-26 22:50:31 UTC) successfully loaded. See ?R.utils for help.\n",
      "\n",
      "\n",
      "Attaching package: ‘R.utils’\n",
      "\n",
      "\n",
      "The following object is masked from ‘package:tidyr’:\n",
      "\n",
      "    extract\n",
      "\n",
      "\n",
      "The following object is masked from ‘package:lmtest’:\n",
      "\n",
      "    reset\n",
      "\n",
      "\n",
      "The following object is masked from ‘package:rms’:\n",
      "\n",
      "    validate\n",
      "\n",
      "\n",
      "The following object is masked from ‘package:Hmisc’:\n",
      "\n",
      "    capitalize\n",
      "\n",
      "\n",
      "The following object is masked from ‘package:utils’:\n",
      "\n",
      "    timestamp\n",
      "\n",
      "\n",
      "The following objects are masked from ‘package:base’:\n",
      "\n",
      "    cat, commandArgs, getOption, inherits, isOpen, nullfile, parse,\n",
      "    warnings\n",
      "\n",
      "\n",
      "\n",
      "Attaching package: ‘data.table’\n",
      "\n",
      "\n",
      "The following object is masked from ‘package:purrr’:\n",
      "\n",
      "    transpose\n",
      "\n",
      "\n",
      "The following objects are masked from ‘package:dplyr’:\n",
      "\n",
      "    between, first, last\n",
      "\n",
      "\n"
     ]
    },
    {
     "data": {
      "text/plain": [
       "\n",
       "CKD controls          CKD \n",
       "      349669         6108 "
      ]
     },
     "metadata": {},
     "output_type": "display_data"
    },
    {
     "data": {
      "text/plain": [
       "\n",
       "CKD controls  CKD extreme \n",
       "      349669          984 "
      ]
     },
     "metadata": {},
     "output_type": "display_data"
    },
    {
     "data": {
      "text/plain": [
       "\n",
       " normo  micro \n",
       "348496  14070 "
      ]
     },
     "metadata": {},
     "output_type": "display_data"
    },
    {
     "data": {
      "text/plain": [
       "\n",
       " normo  macro \n",
       "348496   1120 "
      ]
     },
     "metadata": {},
     "output_type": "display_data"
    },
    {
     "data": {
      "text/plain": [
       "\n",
       "    no    yes \n",
       "356332    447 "
      ]
     },
     "metadata": {},
     "output_type": "display_data"
    },
    {
     "data": {
      "text/plain": [
       "\n",
       "    no    yes \n",
       "345597   1469 "
      ]
     },
     "metadata": {},
     "output_type": "display_data"
    },
    {
     "data": {
      "text/plain": [
       "\n",
       "    no    yes \n",
       "332345  15439 "
      ]
     },
     "metadata": {},
     "output_type": "display_data"
    },
    {
     "data": {
      "text/plain": [
       "\n",
       "    no    yes \n",
       "356332    447 "
      ]
     },
     "metadata": {},
     "output_type": "display_data"
    },
    {
     "data": {
      "text/plain": [
       "\n",
       "macro  ESKD \n",
       "  963   447 "
      ]
     },
     "metadata": {},
     "output_type": "display_data"
    },
    {
     "data": {
      "text/plain": [
       "\n",
       "  albu   ESKD \n",
       "346560    447 "
      ]
     },
     "metadata": {},
     "output_type": "display_data"
    },
    {
     "data": {
      "text/plain": [
       "\n",
       "DNCKD Control         DNCKD \n",
       "       326513           645 "
      ]
     },
     "metadata": {},
     "output_type": "display_data"
    },
    {
     "data": {
      "text/plain": [
       "\n",
       "             Current                Never Prefer not to answer \n",
       "               38166               201909                 1269 \n",
       "            Previous \n",
       "              132143 "
      ]
     },
     "metadata": {},
     "output_type": "display_data"
    },
    {
     "data": {
      "text/plain": [
       "\n",
       "             Current                Never Prefer not to answer \n",
       "               38166               201909                    0 \n",
       "            Previous \n",
       "              132143 "
      ]
     },
     "metadata": {},
     "output_type": "display_data"
    }
   ],
   "source": [
    "#Effect Modification by Lifestyle Score\n",
    "library(multcomp)\n",
    "library(ggpubr)\n",
    "library(dplyr)\n",
    "library(lme4)\n",
    "library(ggplot2)\n",
    "library(rms)\n",
    "library(mgcv)\n",
    "library(tidymv)\n",
    "library(\"ggthemes\")\n",
    "library(broom)\n",
    "library(erer)\n",
    "library(stringr)\n",
    "library(tidyverse)\n",
    "library(interactionR)\n",
    "library(readr)\n",
    "library(R.utils)\n",
    "library(data.table)\n",
    "\n",
    "#Read the complete set (no imputation)\n",
    "UKBB_AG2 <- read.delim(\"~/jupyter/UKBB_AG2_07NOV20.txt\", header = TRUE, na.strings=c(\"\",\".\",\"NA\"))\n",
    "\n",
    "\n",
    "#Dichotomize Outcomes for Logistic Regression\n",
    "#1_CKD\n",
    "UKBB_AG2$CKD_only.0.0 <- factor(ifelse(UKBB_AG2$CKD.0.0==\"CKD controls\",\"CKD controls\",\n",
    "                              ifelse(UKBB_AG2$CKD.0.0==\"CKD\",\"CKD\",NA)),\n",
    "                levels = c(\"CKD controls\", \"CKD\"))\n",
    "#Set the refernece\n",
    "UKBB_AG2$CKD_only.0.0 <- relevel(UKBB_AG2$CKD_only.0.0, ref = \"CKD controls\")\n",
    "\n",
    "#2_CKD Extreme\n",
    "UKBB_AG2$CKD_ex.0.0 <- factor(ifelse(UKBB_AG2$CKD.0.0==\"CKD controls\",\"CKD controls\",\n",
    "                              ifelse(UKBB_AG2$CKD.0.0==\"CKD extreme\",\"CKD extreme\",NA)),\n",
    "                levels = c(\"CKD controls\", \"CKD extreme\"))\n",
    "#Set the refernece\n",
    "UKBB_AG2$CKD_ex.0.0 <- relevel(UKBB_AG2$CKD_ex.0.0, ref = \"CKD controls\")\n",
    "\n",
    "#3_Micro\n",
    "UKBB_AG2$micro.0.0 <- factor(ifelse(UKBB_AG2$ALBUMINERIA.0.0==\"micro\",\"micro\",\n",
    "                              ifelse(UKBB_AG2$ALBUMINERIA.0.0==\"normo\",\"normo\",NA)),\n",
    "                levels = c(\"normo\", \"micro\"))\n",
    "#Set the reference\n",
    "UKBB_AG2$micro.0.0 <- relevel(UKBB_AG2$micro.0.0, ref = \"normo\")\n",
    "\n",
    "#4_Macro\n",
    "UKBB_AG2$macro.0.0 <- factor(ifelse(UKBB_AG2$ALBUMINERIA.0.0==\"macro\",\"macro\",\n",
    "                              ifelse(UKBB_AG2$ALBUMINERIA.0.0==\"normo\",\"normo\",NA)),\n",
    "                levels = c(\"normo\", \"macro\"))\n",
    "#Set the reference\n",
    "UKBB_AG2$macro.0.0 <- relevel(UKBB_AG2$macro.0.0, ref = \"normo\")\n",
    "\n",
    "#5_Macro\n",
    "UKBB_AG2$macro.0.0 <- factor(ifelse(UKBB_AG2$ALBUMINERIA.0.0==\"macro\",\"macro\",\n",
    "                              ifelse(UKBB_AG2$ALBUMINERIA.0.0==\"normo\",\"normo\",NA)),\n",
    "                levels = c(\"normo\", \"macro\"))\n",
    "\n",
    "#6_ESKD vs. Macro\n",
    "UKBB_AG2$ESKD_macro.0.0 <- factor(ifelse(UKBB_AG2$ESKD.0.0==\"yes\",\"ESKD\",\n",
    "                              ifelse(UKBB_AG2$ALBUMINERIA.0.0==\"macro\",\"macro\",NA)),\n",
    "                levels = c(\"macro\",\"ESKD\"))\n",
    "\n",
    "#7_DNCKD vs. Control DNCKD\n",
    "UKBB_AG2$DNCKD2.0.0 <- factor(ifelse(UKBB_AG2$DNCKD.0.0==\"yes\",\"DNCKD\",\n",
    "                              ifelse(UKBB_AG2$CTRL_DNCKD.0.0==\"yes\",\"DNCKD Control\",NA)),\n",
    "                levels = c(\"DNCKD Control\",\"DNCKD\"))\n",
    "\n",
    "#8_ESKD vs. Normo, Macro, Micro\n",
    "UKBB_AG2$ESKD_Albu.0.0 <- factor(ifelse(UKBB_AG2$ESKD.0.0==\"yes\",\"ESKD\",\n",
    "                              ifelse(UKBB_AG2$ALBUMINERIA.0.0 %in% c(\"normo\",\"macro\",\"micro\"),\"albu\",NA)),\n",
    "                levels = c(\"albu\",\"ESKD\"))\n",
    "\n",
    "#Set the reference\n",
    "UKBB_AG2$macro.0.0 <- relevel(UKBB_AG2$macro.0.0, ref = \"normo\")\n",
    "\n",
    "#Summarize Counts of Disease Outcomes\n",
    "table(UKBB_AG2$CKD_only.0.0) #1\n",
    "table(UKBB_AG2$CKD_ex.0.0) #2\n",
    "table(UKBB_AG2$micro.0.0) #3\n",
    "table(UKBB_AG2$macro.0.0) #4\n",
    "table(UKBB_AG2$ESKD.0.0) #5\n",
    "table(UKBB_AG2$DN.0.0) #6\n",
    "table(UKBB_AG2$ALL.0.0) #7\n",
    "table(UKBB_AG2$ESKD.0.0) #8\n",
    "table(UKBB_AG2$ESKD_macro.0.0) #8\n",
    "table(UKBB_AG2$ESKD_Albu.0.0) #9\n",
    "table(UKBB_AG2$DNCKD2.0.0) #10\n",
    "\n",
    "#table smoking\n",
    "table(UKBB_AG2$'SMOKE.0.0')\n",
    "UKBB_AG2 <- UKBB_AG2 %>% filter(SMOKE.0.0!='Prefer not to answer')\n",
    "table(UKBB_AG2$'SMOKE.0.0')"
   ]
  },
  {
   "cell_type": "code",
   "execution_count": 2,
   "metadata": {},
   "outputs": [],
   "source": [
    "#take apart package (interactionR), it breaks\n",
    "interactionR_04Dec <- function(model, exposure_names = c(), ci.level = 0.95) {\n",
    "\n",
    "          e1 <- grep(exposure_names[1], names(coef(model)), value = TRUE, ignore.case = TRUE)\n",
    "          e2 <- grep(exposure_names[2], names(coef(model)), value = TRUE, ignore.case = TRUE)\n",
    "          exposure_names <- union(e1, e2)\n",
    "          beta1 <- exposure_names[1]\n",
    "          beta2 <- exposure_names[3]\n",
    "          beta3 <- exposure_names[2]\n",
    "\n",
    "          b1 <- coef(M1)[beta1]\n",
    "          b2 <- coef(model)[beta2]\n",
    "          b3 <- coef(model)[beta3]\n",
    "\n",
    "          se_vec <- summary(model)$coefficients[, 2] # extracts the SE vector for the coefficients\n",
    "          # from the model\n",
    "          v1 <- se_vec[beta1]^2\n",
    "          v2 <- se_vec[beta2]^2\n",
    "          v3 <- se_vec[beta3]^2\n",
    "\n",
    "          ### Extracts the variance-covariance matrix from the model### for use in\n",
    "          ### the delta and MOVER method CI estimation for RERI and AP###\n",
    "          v_cov <- vcov(model)\n",
    "          varNames <- c(beta1, beta2, beta3)\n",
    "          v_cov1 <- v_cov[varNames, varNames] # for deltamethod\n",
    "          cov12 <- v_cov[beta1, beta2]\n",
    "          cov13 <- v_cov[beta1, beta3]\n",
    "          cov23 <- v_cov[beta2, beta3]\n",
    "          v123 <- v1 + v2 + v3 + (2 * (cov12 + cov13 + cov23))\n",
    "          v12 <- v1 + v2 + (2 * (cov12))\n",
    "          v13 <- v1 + v3 + (2 * (cov13))\n",
    "          v23 <- v2 + v3 + (2 * (cov23))\n",
    "\n",
    "          # Estimates individual and joint effects ORs (with CI) from the model\n",
    "\n",
    "          alpha <- 1 - ci.level\n",
    "          z <- qnorm(1 - alpha / 2)\n",
    "    \n",
    "          OR00 <- 1 # reference OR\n",
    "          OR10 <- as.numeric(exp(b1))\n",
    "          l1 <- exp(confint.default(model)[beta1, 1])\n",
    "          u1 <- exp(confint.default(model)[beta1, 2]) # This is also OR of X on D (A==0)\n",
    "          OR01 <- as.numeric(exp(b2))\n",
    "          l2 <- exp(confint.default(model)[beta2, 1])\n",
    "          u2 <- exp(confint.default(model)[beta2, 2]) # This is also OR of A on D (X==0)\n",
    "          OR11 <- as.numeric(exp(b1 + b2 + b3))\n",
    "          l3 <- exp(b1 + b2 + b3 - z * sqrt(v123))\n",
    "          u3 <- exp(b1 + b2 + b3 + z * sqrt(v123))\n",
    "    \n",
    "    d <- data.frame(Measures = c(\"OR00\", \"OR01\", \"OR10\", \"OR11\"), Estimates = c(\n",
    "      OR00, OR01, OR10, OR11), CI.ll = c(NA,l2, l1, l3), \n",
    "                    CI.ul = c(NA, u2, u1, u3))\n",
    "    rownames(d) <- NULL\n",
    "  return(d)\n",
    "}"
   ]
  },
  {
   "cell_type": "code",
   "execution_count": 3,
   "metadata": {},
   "outputs": [
    {
     "data": {
      "text/plain": [
       "\n",
       "     0      1      2 \n",
       " 51042 136146 162002 "
      ]
     },
     "metadata": {},
     "output_type": "display_data"
    },
    {
     "data": {
      "text/plain": [
       "\n",
       "  high risk    low risk medium risk \n",
       "      37220       37281      297716 "
      ]
     },
     "metadata": {},
     "output_type": "display_data"
    }
   ],
   "source": [
    "#Review covariates\n",
    "table(UKBB_AG2$LIFESCORE)\n",
    "table(UKBB_AG2$GRS_WT_IR2d2)"
   ]
  },
  {
   "cell_type": "code",
   "execution_count": 4,
   "metadata": {},
   "outputs": [
    {
     "data": {
      "text/plain": [
       "\n",
       "   Ref_Ideal Intermediate \n",
       "      162002       136146 "
      ]
     },
     "metadata": {},
     "output_type": "display_data"
    },
    {
     "data": {
      "text/plain": [
       "\n",
       "Ref_Ideal  LowScore \n",
       "   162002     51042 "
      ]
     },
     "metadata": {},
     "output_type": "display_data"
    }
   ],
   "source": [
    "#QA Check of Lifescore\n",
    "#table(UKBB_AG2$LIFESCORE,UKBB_AG2$PACOUNT)\n",
    "#good, checks out\n",
    "\n",
    "#Dichotomous Dummy Variables\n",
    "UKBB_AG2 <- UKBB_AG2 %>%\n",
    "mutate(LIFESCORE_cat1=case_when(LIFESCORE==2 ~ 0,\n",
    "                                LIFESCORE==1 ~ 1)) %>%\n",
    "mutate(LIFESCORE_cat2=case_when(LIFESCORE==2 ~ 0,\n",
    "                                LIFESCORE==0 ~ 1)) %>%\n",
    "\n",
    "mutate(GRS_WT_IR2d2c=as.character(GRS_WT_IR2d2)) \n",
    "\n",
    "#Three deciles\n",
    "UKBB_AG2 <- UKBB_AG2 %>%\n",
    "mutate(WT_IR2d2_cat1=case_when(GRS_WT_IR2d2c==\"low risk\" ~ 0,\n",
    "                               GRS_WT_IR2d2c==\"high risk\" ~ 1)) %>%\n",
    "mutate(WT_IR2d2_cat2=case_when(GRS_WT_IR2d2c==\"low risk\" ~ 0,\n",
    "                               GRS_WT_IR2d2c==\"medium risk\" ~ 1)) \n",
    "\n",
    "#Factor level coding\n",
    " UKBB_AG2$LIFESCORE_cat1 <- factor(UKBB_AG2$LIFESCORE_cat1, levels = c(0,1),\n",
    "                 labels = c(\"Ref_Ideal\",\"Intermediate\"))\n",
    " UKBB_AG2$LIFESCORE_cat2 <- factor(UKBB_AG2$LIFESCORE_cat2, levels = c(0,1),\n",
    "                 labels = c(\"Ref_Ideal\",\"LowScore\"))\n",
    " UKBB_AG2$WT_IR2d2_cat1 <- factor(UKBB_AG2$WT_IR2d2_cat1, levels = c(0,1),\n",
    "                 labels = c(\"Ref_LowRisk\",\"HighRisk\"))\n",
    " UKBB_AG2$WT_IR2d2_cat2 <- factor(UKBB_AG2$WT_IR2d2_cat2, levels = c(0,1),\n",
    "                 labels = c(\"Ref_LowRisk\",\"MedRisk\"))\n",
    "\n",
    "#QA\n",
    "#dim(UKBB_AG2)\n",
    "table(UKBB_AG2$LIFESCORE_cat1)\n",
    "table(UKBB_AG2$LIFESCORE_cat2)"
   ]
  },
  {
   "cell_type": "code",
   "execution_count": 5,
   "metadata": {},
   "outputs": [
    {
     "name": "stderr",
     "output_type": "stream",
     "text": [
      "Warning message in log((exp(b1 + b2 + b3) - 1)):\n",
      "“NaNs produced”\n",
      "Warning message in log(.expr4):\n",
      "“NaNs produced”\n"
     ]
    },
    {
     "data": {
      "text/html": [
       "<table>\n",
       "<caption>A data.frame: 8 × 4</caption>\n",
       "<thead>\n",
       "\t<tr><th scope=col>Measures</th><th scope=col>Estimates</th><th scope=col>CI.ll</th><th scope=col>CI.ul</th></tr>\n",
       "\t<tr><th scope=col>&lt;fct&gt;</th><th scope=col>&lt;dbl&gt;</th><th scope=col>&lt;dbl&gt;</th><th scope=col>&lt;dbl&gt;</th></tr>\n",
       "</thead>\n",
       "<tbody>\n",
       "\t<tr><td>OR00                                                                                                                     </td><td> 1.0000000</td><td>         NA</td><td>      NA</td></tr>\n",
       "\t<tr><td>OR01                                                                                                                     </td><td> 1.6802861</td><td> 0.36331049</td><td>7.771208</td></tr>\n",
       "\t<tr><td>OR10                                                                                                                     </td><td> 1.3992951</td><td> 0.42041594</td><td>4.657356</td></tr>\n",
       "\t<tr><td>OR11                                                                                                                     </td><td> 0.6373625</td><td> 0.11434680</td><td>3.552622</td></tr>\n",
       "\t<tr><td>OR(relevel(LIFESCORE_cat2, ref = \"Ref_Ideal\")LowScore on outcome [relevel(WT_IR2d2_cat1, ref = \"Ref_LowRisk\")HighRisk==0]</td><td> 1.6802861</td><td> 0.36331049</td><td>7.771208</td></tr>\n",
       "\t<tr><td>OR(relevel(LIFESCORE_cat2, ref = \"Ref_Ideal\")LowScore on outcome [relevel(WT_IR2d2_cat1, ref = \"Ref_LowRisk\")HighRisk==1]</td><td> 0.4554882</td><td> 0.09619320</td><td>2.156801</td></tr>\n",
       "\t<tr><td>Multiplicative scale                                                                                                     </td><td> 0.2710778</td><td> 0.03086302</td><td>2.380946</td></tr>\n",
       "\t<tr><td>RERI                                                                                                                     </td><td>-1.4422187</td><td>-4.80918183</td><td>1.924744</td></tr>\n",
       "</tbody>\n",
       "</table>\n"
      ],
      "text/latex": [
       "A data.frame: 8 × 4\n",
       "\\begin{tabular}{llll}\n",
       " Measures & Estimates & CI.ll & CI.ul\\\\\n",
       " <fct> & <dbl> & <dbl> & <dbl>\\\\\n",
       "\\hline\n",
       "\t OR00                                                                                                                      &  1.0000000 &          NA &       NA\\\\\n",
       "\t OR01                                                                                                                      &  1.6802861 &  0.36331049 & 7.771208\\\\\n",
       "\t OR10                                                                                                                      &  1.3992951 &  0.42041594 & 4.657356\\\\\n",
       "\t OR11                                                                                                                      &  0.6373625 &  0.11434680 & 3.552622\\\\\n",
       "\t OR(relevel(LIFESCORE\\_cat2, ref = \"Ref\\_Ideal\")LowScore on outcome {[}relevel(WT\\_IR2d2\\_cat1, ref = \"Ref\\_LowRisk\")HighRisk==0{]} &  1.6802861 &  0.36331049 & 7.771208\\\\\n",
       "\t OR(relevel(LIFESCORE\\_cat2, ref = \"Ref\\_Ideal\")LowScore on outcome {[}relevel(WT\\_IR2d2\\_cat1, ref = \"Ref\\_LowRisk\")HighRisk==1{]} &  0.4554882 &  0.09619320 & 2.156801\\\\\n",
       "\t Multiplicative scale                                                                                                      &  0.2710778 &  0.03086302 & 2.380946\\\\\n",
       "\t RERI                                                                                                                      & -1.4422187 & -4.80918183 & 1.924744\\\\\n",
       "\\end{tabular}\n"
      ],
      "text/markdown": [
       "\n",
       "A data.frame: 8 × 4\n",
       "\n",
       "| Measures &lt;fct&gt; | Estimates &lt;dbl&gt; | CI.ll &lt;dbl&gt; | CI.ul &lt;dbl&gt; |\n",
       "|---|---|---|---|\n",
       "| OR00                                                                                                                      |  1.0000000 |          NA |       NA |\n",
       "| OR01                                                                                                                      |  1.6802861 |  0.36331049 | 7.771208 |\n",
       "| OR10                                                                                                                      |  1.3992951 |  0.42041594 | 4.657356 |\n",
       "| OR11                                                                                                                      |  0.6373625 |  0.11434680 | 3.552622 |\n",
       "| OR(relevel(LIFESCORE_cat2, ref = \"Ref_Ideal\")LowScore on outcome [relevel(WT_IR2d2_cat1, ref = \"Ref_LowRisk\")HighRisk==0] |  1.6802861 |  0.36331049 | 7.771208 |\n",
       "| OR(relevel(LIFESCORE_cat2, ref = \"Ref_Ideal\")LowScore on outcome [relevel(WT_IR2d2_cat1, ref = \"Ref_LowRisk\")HighRisk==1] |  0.4554882 |  0.09619320 | 2.156801 |\n",
       "| Multiplicative scale                                                                                                      |  0.2710778 |  0.03086302 | 2.380946 |\n",
       "| RERI                                                                                                                      | -1.4422187 | -4.80918183 | 1.924744 |\n",
       "\n"
      ],
      "text/plain": [
       "  Measures                                                                                                                 \n",
       "1 OR00                                                                                                                     \n",
       "2 OR01                                                                                                                     \n",
       "3 OR10                                                                                                                     \n",
       "4 OR11                                                                                                                     \n",
       "5 OR(relevel(LIFESCORE_cat2, ref = \"Ref_Ideal\")LowScore on outcome [relevel(WT_IR2d2_cat1, ref = \"Ref_LowRisk\")HighRisk==0]\n",
       "6 OR(relevel(LIFESCORE_cat2, ref = \"Ref_Ideal\")LowScore on outcome [relevel(WT_IR2d2_cat1, ref = \"Ref_LowRisk\")HighRisk==1]\n",
       "7 Multiplicative scale                                                                                                     \n",
       "8 RERI                                                                                                                     \n",
       "  Estimates  CI.ll       CI.ul   \n",
       "1  1.0000000          NA       NA\n",
       "2  1.6802861  0.36331049 7.771208\n",
       "3  1.3992951  0.42041594 4.657356\n",
       "4  0.6373625  0.11434680 3.552622\n",
       "5  1.6802861  0.36331049 7.771208\n",
       "6  0.4554882  0.09619320 2.156801\n",
       "7  0.2710778  0.03086302 2.380946\n",
       "8 -1.4422187 -4.80918183 1.924744"
      ]
     },
     "metadata": {},
     "output_type": "display_data"
    },
    {
     "name": "stdout",
     "output_type": "stream",
     "text": [
      "Do you want to save a Microsoft Word copy of the em/interaction table to your working directory? (yes/No/cancel) No\n",
      "a flextable object.\n",
      "col_keys: `*`, `relevel(LIFESCORE_cat2, ref = \"Ref_Ideal\")LowScore absent`, `relevel(LIFESCORE_cat2, ref = \"Ref_Ideal\")LowScore present`, `Effect of relevel(LIFESCORE_cat2, ref = \"Ref_Ideal\")LowScore within the strata of relevel(WT_IR2d2_cat1, ref = \"Ref_LowRisk\")HighRisk` \n",
      "header has 1 row(s) \n",
      "body has 6 row(s) \n",
      "original dataset sample: \n",
      "                                                            *\n",
      "1                                                        <NA>\n",
      "2                                                        <NA>\n",
      "3  relevel(WT_IR2d2_cat1, ref = \"Ref_LowRisk\")HighRisk absent\n",
      "4 relevel(WT_IR2d2_cat1, ref = \"Ref_LowRisk\")HighRisk present\n",
      "5                                        Multiplicative scale\n",
      "  relevel(LIFESCORE_cat2, ref = \"Ref_Ideal\")LowScore absent\n",
      "1                                                      <NA>\n",
      "2                                               OR [95% CI]\n",
      "3                                             1 [Reference]\n",
      "4                                          1.4 [0.42, 4.66]\n",
      "5                                         0.27 [0.03, 2.38]\n",
      "  relevel(LIFESCORE_cat2, ref = \"Ref_Ideal\")LowScore present\n",
      "1                                                       <NA>\n",
      "2                                                OR [95% CI]\n",
      "3                                          1.68 [0.36, 7.77]\n",
      "4                                          0.64 [0.11, 3.55]\n",
      "5                                                       <NA>\n",
      "  Effect of relevel(LIFESCORE_cat2, ref = \"Ref_Ideal\")LowScore within the strata of relevel(WT_IR2d2_cat1, ref = \"Ref_LowRisk\")HighRisk\n",
      "1                                                                                                                                  <NA>\n",
      "2                                                                                                                           OR [95% CI]\n",
      "3                                                                                                                     1.68 [0.36, 7.77]\n",
      "4                                                                                                                      0.46 [0.1, 2.16]\n",
      "5                                                                                                                                  <NA>\n"
     ]
    }
   ],
   "source": [
    "#Interaction Analysis\n",
    "\n",
    "#Restriction: T2D, ND\n",
    "T2D_UKBB <- UKBB_AG2 %>% filter(T2D_status==1) \n",
    "ND_UKBB <- UKBB_AG2 %>% filter(T2D_status==0) \n",
    "\n",
    "###MACRO###\n",
    "#CKD - T2D, Low Lifestyle, High Risk\n",
    "M1 <- glm(macro.0.0 ~ relevel(WT_IR2d2_cat1,ref=\"Ref_LowRisk\")*relevel(LIFESCORE_cat2,ref=\"Ref_Ideal\") + AGE.0.0 + SEX.0.0 + PC1 +\n",
    "                                        PC2 + PC3 + PC4 + PC5 + PC6 + PC7 + PC8 + PC9 + PC10, data=T2D_UKBB, family=binomial) \n",
    "#summary(M1)\n",
    "value <- interactionR(M1,exposure_names = c(\"WT_IR2d2_cat1\",\"LIFESCORE_cat2\"),ci.type = \"delta\", ci.level = 0.95,\n",
    "em = TRUE, recode = FALSE)\n",
    "#names(value)\n",
    "value$dframe\n",
    "interactionR_table(value)"
   ]
  },
  {
   "cell_type": "code",
   "execution_count": 6,
   "metadata": {},
   "outputs": [
    {
     "data": {
      "text/html": [
       "<table>\n",
       "<caption>A data.frame: 4 × 4</caption>\n",
       "<thead>\n",
       "\t<tr><th scope=col>Measures</th><th scope=col>Estimates</th><th scope=col>CI.ll</th><th scope=col>CI.ul</th></tr>\n",
       "\t<tr><th scope=col>&lt;fct&gt;</th><th scope=col>&lt;dbl&gt;</th><th scope=col>&lt;dbl&gt;</th><th scope=col>&lt;dbl&gt;</th></tr>\n",
       "</thead>\n",
       "<tbody>\n",
       "\t<tr><td>OR00</td><td>1.0000000</td><td>       NA</td><td>      NA</td></tr>\n",
       "\t<tr><td>OR01</td><td>1.6802861</td><td>0.3633105</td><td>7.771208</td></tr>\n",
       "\t<tr><td>OR10</td><td>1.3992951</td><td>0.4204159</td><td>4.657356</td></tr>\n",
       "\t<tr><td>OR11</td><td>0.6373625</td><td>0.1143468</td><td>3.552622</td></tr>\n",
       "</tbody>\n",
       "</table>\n"
      ],
      "text/latex": [
       "A data.frame: 4 × 4\n",
       "\\begin{tabular}{llll}\n",
       " Measures & Estimates & CI.ll & CI.ul\\\\\n",
       " <fct> & <dbl> & <dbl> & <dbl>\\\\\n",
       "\\hline\n",
       "\t OR00 & 1.0000000 &        NA &       NA\\\\\n",
       "\t OR01 & 1.6802861 & 0.3633105 & 7.771208\\\\\n",
       "\t OR10 & 1.3992951 & 0.4204159 & 4.657356\\\\\n",
       "\t OR11 & 0.6373625 & 0.1143468 & 3.552622\\\\\n",
       "\\end{tabular}\n"
      ],
      "text/markdown": [
       "\n",
       "A data.frame: 4 × 4\n",
       "\n",
       "| Measures &lt;fct&gt; | Estimates &lt;dbl&gt; | CI.ll &lt;dbl&gt; | CI.ul &lt;dbl&gt; |\n",
       "|---|---|---|---|\n",
       "| OR00 | 1.0000000 |        NA |       NA |\n",
       "| OR01 | 1.6802861 | 0.3633105 | 7.771208 |\n",
       "| OR10 | 1.3992951 | 0.4204159 | 4.657356 |\n",
       "| OR11 | 0.6373625 | 0.1143468 | 3.552622 |\n",
       "\n"
      ],
      "text/plain": [
       "  Measures Estimates CI.ll     CI.ul   \n",
       "1 OR00     1.0000000        NA       NA\n",
       "2 OR01     1.6802861 0.3633105 7.771208\n",
       "3 OR10     1.3992951 0.4204159 4.657356\n",
       "4 OR11     0.6373625 0.1143468 3.552622"
      ]
     },
     "metadata": {},
     "output_type": "display_data"
    },
    {
     "data": {
      "text/html": [
       "<table>\n",
       "<caption>A data.frame: 4 × 4</caption>\n",
       "<thead>\n",
       "\t<tr><th scope=col>Measures</th><th scope=col>Estimates</th><th scope=col>CI.ll</th><th scope=col>CI.ul</th></tr>\n",
       "\t<tr><th scope=col>&lt;fct&gt;</th><th scope=col>&lt;dbl&gt;</th><th scope=col>&lt;dbl&gt;</th><th scope=col>&lt;dbl&gt;</th></tr>\n",
       "</thead>\n",
       "<tbody>\n",
       "\t<tr><td>OR00</td><td>1.0000000</td><td>        NA</td><td>      NA</td></tr>\n",
       "\t<tr><td>OR01</td><td>0.4417049</td><td>0.08036617</td><td>2.427678</td></tr>\n",
       "\t<tr><td>OR10</td><td>1.4429937</td><td>0.52076106</td><td>3.998438</td></tr>\n",
       "\t<tr><td>OR11</td><td>1.6457152</td><td>0.59733649</td><td>4.534092</td></tr>\n",
       "</tbody>\n",
       "</table>\n"
      ],
      "text/latex": [
       "A data.frame: 4 × 4\n",
       "\\begin{tabular}{llll}\n",
       " Measures & Estimates & CI.ll & CI.ul\\\\\n",
       " <fct> & <dbl> & <dbl> & <dbl>\\\\\n",
       "\\hline\n",
       "\t OR00 & 1.0000000 &         NA &       NA\\\\\n",
       "\t OR01 & 0.4417049 & 0.08036617 & 2.427678\\\\\n",
       "\t OR10 & 1.4429937 & 0.52076106 & 3.998438\\\\\n",
       "\t OR11 & 1.6457152 & 0.59733649 & 4.534092\\\\\n",
       "\\end{tabular}\n"
      ],
      "text/markdown": [
       "\n",
       "A data.frame: 4 × 4\n",
       "\n",
       "| Measures &lt;fct&gt; | Estimates &lt;dbl&gt; | CI.ll &lt;dbl&gt; | CI.ul &lt;dbl&gt; |\n",
       "|---|---|---|---|\n",
       "| OR00 | 1.0000000 |         NA |       NA |\n",
       "| OR01 | 0.4417049 | 0.08036617 | 2.427678 |\n",
       "| OR10 | 1.4429937 | 0.52076106 | 3.998438 |\n",
       "| OR11 | 1.6457152 | 0.59733649 | 4.534092 |\n",
       "\n"
      ],
      "text/plain": [
       "  Measures Estimates CI.ll      CI.ul   \n",
       "1 OR00     1.0000000         NA       NA\n",
       "2 OR01     0.4417049 0.08036617 2.427678\n",
       "3 OR10     1.4429937 0.52076106 3.998438\n",
       "4 OR11     1.6457152 0.59733649 4.534092"
      ]
     },
     "metadata": {},
     "output_type": "display_data"
    },
    {
     "data": {
      "text/html": [
       "<table>\n",
       "<caption>A data.frame: 4 × 4</caption>\n",
       "<thead>\n",
       "\t<tr><th scope=col>Measures</th><th scope=col>Estimates</th><th scope=col>CI.ll</th><th scope=col>CI.ul</th></tr>\n",
       "\t<tr><th scope=col>&lt;fct&gt;</th><th scope=col>&lt;dbl&gt;</th><th scope=col>&lt;dbl&gt;</th><th scope=col>&lt;dbl&gt;</th></tr>\n",
       "</thead>\n",
       "<tbody>\n",
       "\t<tr><td>OR00</td><td>1.0000000</td><td>        NA</td><td>      NA</td></tr>\n",
       "\t<tr><td>OR01</td><td>0.4677012</td><td>0.08452069</td><td>2.588057</td></tr>\n",
       "\t<tr><td>OR10</td><td>1.4337504</td><td>0.43272929</td><td>4.750407</td></tr>\n",
       "\t<tr><td>OR11</td><td>1.8794452</td><td>0.59678624</td><td>5.918893</td></tr>\n",
       "</tbody>\n",
       "</table>\n"
      ],
      "text/latex": [
       "A data.frame: 4 × 4\n",
       "\\begin{tabular}{llll}\n",
       " Measures & Estimates & CI.ll & CI.ul\\\\\n",
       " <fct> & <dbl> & <dbl> & <dbl>\\\\\n",
       "\\hline\n",
       "\t OR00 & 1.0000000 &         NA &       NA\\\\\n",
       "\t OR01 & 0.4677012 & 0.08452069 & 2.588057\\\\\n",
       "\t OR10 & 1.4337504 & 0.43272929 & 4.750407\\\\\n",
       "\t OR11 & 1.8794452 & 0.59678624 & 5.918893\\\\\n",
       "\\end{tabular}\n"
      ],
      "text/markdown": [
       "\n",
       "A data.frame: 4 × 4\n",
       "\n",
       "| Measures &lt;fct&gt; | Estimates &lt;dbl&gt; | CI.ll &lt;dbl&gt; | CI.ul &lt;dbl&gt; |\n",
       "|---|---|---|---|\n",
       "| OR00 | 1.0000000 |         NA |       NA |\n",
       "| OR01 | 0.4677012 | 0.08452069 | 2.588057 |\n",
       "| OR10 | 1.4337504 | 0.43272929 | 4.750407 |\n",
       "| OR11 | 1.8794452 | 0.59678624 | 5.918893 |\n",
       "\n"
      ],
      "text/plain": [
       "  Measures Estimates CI.ll      CI.ul   \n",
       "1 OR00     1.0000000         NA       NA\n",
       "2 OR01     0.4677012 0.08452069 2.588057\n",
       "3 OR10     1.4337504 0.43272929 4.750407\n",
       "4 OR11     1.8794452 0.59678624 5.918893"
      ]
     },
     "metadata": {},
     "output_type": "display_data"
    },
    {
     "data": {
      "text/html": [
       "<table>\n",
       "<caption>A data.frame: 4 × 4</caption>\n",
       "<thead>\n",
       "\t<tr><th scope=col>Measures</th><th scope=col>Estimates</th><th scope=col>CI.ll</th><th scope=col>CI.ul</th></tr>\n",
       "\t<tr><th scope=col>&lt;fct&gt;</th><th scope=col>&lt;dbl&gt;</th><th scope=col>&lt;dbl&gt;</th><th scope=col>&lt;dbl&gt;</th></tr>\n",
       "</thead>\n",
       "<tbody>\n",
       "\t<tr><td>OR00</td><td>1.000000</td><td>       NA</td><td>      NA</td></tr>\n",
       "\t<tr><td>OR01</td><td>1.555662</td><td>0.3444958</td><td>7.025006</td></tr>\n",
       "\t<tr><td>OR10</td><td>1.456027</td><td>0.5258270</td><td>4.031774</td></tr>\n",
       "\t<tr><td>OR11</td><td>2.927120</td><td>1.0582131</td><td>8.096700</td></tr>\n",
       "</tbody>\n",
       "</table>\n"
      ],
      "text/latex": [
       "A data.frame: 4 × 4\n",
       "\\begin{tabular}{llll}\n",
       " Measures & Estimates & CI.ll & CI.ul\\\\\n",
       " <fct> & <dbl> & <dbl> & <dbl>\\\\\n",
       "\\hline\n",
       "\t OR00 & 1.000000 &        NA &       NA\\\\\n",
       "\t OR01 & 1.555662 & 0.3444958 & 7.025006\\\\\n",
       "\t OR10 & 1.456027 & 0.5258270 & 4.031774\\\\\n",
       "\t OR11 & 2.927120 & 1.0582131 & 8.096700\\\\\n",
       "\\end{tabular}\n"
      ],
      "text/markdown": [
       "\n",
       "A data.frame: 4 × 4\n",
       "\n",
       "| Measures &lt;fct&gt; | Estimates &lt;dbl&gt; | CI.ll &lt;dbl&gt; | CI.ul &lt;dbl&gt; |\n",
       "|---|---|---|---|\n",
       "| OR00 | 1.000000 |        NA |       NA |\n",
       "| OR01 | 1.555662 | 0.3444958 | 7.025006 |\n",
       "| OR10 | 1.456027 | 0.5258270 | 4.031774 |\n",
       "| OR11 | 2.927120 | 1.0582131 | 8.096700 |\n",
       "\n"
      ],
      "text/plain": [
       "  Measures Estimates CI.ll     CI.ul   \n",
       "1 OR00     1.000000         NA       NA\n",
       "2 OR01     1.555662  0.3444958 7.025006\n",
       "3 OR10     1.456027  0.5258270 4.031774\n",
       "4 OR11     2.927120  1.0582131 8.096700"
      ]
     },
     "metadata": {},
     "output_type": "display_data"
    }
   ],
   "source": [
    "#MACRO, T2D#\n",
    "\n",
    "#01 - Low Score (Lifestyle), 10 - High (PGS)\n",
    "interactionR_04Dec(M1, exposure_names = c(\"WT_IR2d2_cat1\",\"LIFESCORE_cat2\"), ci.level = 0.95)\n",
    "#Macro, T2D, Intermediate Lifestyle, Intermiedate Risk\n",
    "M1 <- glm(macro.0.0 ~ relevel(WT_IR2d2_cat2,ref=\"Ref_LowRisk\")*relevel(LIFESCORE_cat1,ref=\"Ref_Ideal\") + AGE.0.0 + SEX.0.0 + PC1 +\n",
    "                                        PC2 + PC3 + PC4 + PC5 + PC6 + PC7 + PC8 + PC9 + PC10, data=T2D_UKBB, family=binomial) \n",
    "interactionR_04Dec(M1, exposure_names = c(\"WT_IR2d2_cat2\",\"LIFESCORE_cat1\"), ci.level = 0.95)\n",
    "##Macro, T2D, Intermediate Lifestyle, High Risk\n",
    "M1 <- glm(macro.0.0 ~ relevel(WT_IR2d2_cat1,ref=\"Ref_LowRisk\")*relevel(LIFESCORE_cat1,ref=\"Ref_Ideal\") + AGE.0.0 + SEX.0.0 + PC1 +\n",
    "                                        PC2 + PC3 + PC4 + PC5 + PC6 + PC7 + PC8 + PC9 + PC10, data=T2D_UKBB, family=binomial) \n",
    "interactionR_04Dec(M1, exposure_names = c(\"WT_IR2d2_cat1\",\"LIFESCORE_cat1\"), ci.level = 0.95)\n",
    "##Macro, T2D, Low Lifestyle, Moderate Risk\n",
    "M1 <- glm(macro.0.0 ~ relevel(WT_IR2d2_cat2,ref=\"Ref_LowRisk\")*relevel(LIFESCORE_cat2,ref=\"Ref_Ideal\") + AGE.0.0 + SEX.0.0 + PC1 +\n",
    "                                        PC2 + PC3 + PC4 + PC5 + PC6 + PC7 + PC8 + PC9 + PC10, data=T2D_UKBB, family=binomial) \n",
    "interactionR_04Dec(M1, exposure_names = c(\"WT_IR2d2_cat2\",\"LIFESCORE_cat2\"), ci.level = 0.95)"
   ]
  },
  {
   "cell_type": "code",
   "execution_count": 7,
   "metadata": {},
   "outputs": [
    {
     "data": {
      "text/html": [
       "<table>\n",
       "<caption>A data.frame: 4 × 4</caption>\n",
       "<thead>\n",
       "\t<tr><th scope=col>Measures</th><th scope=col>Estimates</th><th scope=col>CI.ll</th><th scope=col>CI.ul</th></tr>\n",
       "\t<tr><th scope=col>&lt;fct&gt;</th><th scope=col>&lt;dbl&gt;</th><th scope=col>&lt;dbl&gt;</th><th scope=col>&lt;dbl&gt;</th></tr>\n",
       "</thead>\n",
       "<tbody>\n",
       "\t<tr><td>OR00</td><td>1.0000000</td><td>       NA</td><td>      NA</td></tr>\n",
       "\t<tr><td>OR01</td><td>1.1059197</td><td>0.5871916</td><td>2.082895</td></tr>\n",
       "\t<tr><td>OR10</td><td>0.9383204</td><td>0.5921559</td><td>1.486847</td></tr>\n",
       "\t<tr><td>OR11</td><td>1.0582448</td><td>0.5514559</td><td>2.030774</td></tr>\n",
       "</tbody>\n",
       "</table>\n"
      ],
      "text/latex": [
       "A data.frame: 4 × 4\n",
       "\\begin{tabular}{llll}\n",
       " Measures & Estimates & CI.ll & CI.ul\\\\\n",
       " <fct> & <dbl> & <dbl> & <dbl>\\\\\n",
       "\\hline\n",
       "\t OR00 & 1.0000000 &        NA &       NA\\\\\n",
       "\t OR01 & 1.1059197 & 0.5871916 & 2.082895\\\\\n",
       "\t OR10 & 0.9383204 & 0.5921559 & 1.486847\\\\\n",
       "\t OR11 & 1.0582448 & 0.5514559 & 2.030774\\\\\n",
       "\\end{tabular}\n"
      ],
      "text/markdown": [
       "\n",
       "A data.frame: 4 × 4\n",
       "\n",
       "| Measures &lt;fct&gt; | Estimates &lt;dbl&gt; | CI.ll &lt;dbl&gt; | CI.ul &lt;dbl&gt; |\n",
       "|---|---|---|---|\n",
       "| OR00 | 1.0000000 |        NA |       NA |\n",
       "| OR01 | 1.1059197 | 0.5871916 | 2.082895 |\n",
       "| OR10 | 0.9383204 | 0.5921559 | 1.486847 |\n",
       "| OR11 | 1.0582448 | 0.5514559 | 2.030774 |\n",
       "\n"
      ],
      "text/plain": [
       "  Measures Estimates CI.ll     CI.ul   \n",
       "1 OR00     1.0000000        NA       NA\n",
       "2 OR01     1.1059197 0.5871916 2.082895\n",
       "3 OR10     0.9383204 0.5921559 1.486847\n",
       "4 OR11     1.0582448 0.5514559 2.030774"
      ]
     },
     "metadata": {},
     "output_type": "display_data"
    },
    {
     "data": {
      "text/html": [
       "<table>\n",
       "<caption>A data.frame: 4 × 4</caption>\n",
       "<thead>\n",
       "\t<tr><th scope=col>Measures</th><th scope=col>Estimates</th><th scope=col>CI.ll</th><th scope=col>CI.ul</th></tr>\n",
       "\t<tr><th scope=col>&lt;fct&gt;</th><th scope=col>&lt;dbl&gt;</th><th scope=col>&lt;dbl&gt;</th><th scope=col>&lt;dbl&gt;</th></tr>\n",
       "</thead>\n",
       "<tbody>\n",
       "\t<tr><td>OR00</td><td>1.0000000</td><td>       NA</td><td>      NA</td></tr>\n",
       "\t<tr><td>OR01</td><td>0.9773668</td><td>0.6077108</td><td>1.571876</td></tr>\n",
       "\t<tr><td>OR10</td><td>0.7299413</td><td>0.5170071</td><td>1.030574</td></tr>\n",
       "\t<tr><td>OR11</td><td>1.0176816</td><td>0.7232133</td><td>1.432048</td></tr>\n",
       "</tbody>\n",
       "</table>\n"
      ],
      "text/latex": [
       "A data.frame: 4 × 4\n",
       "\\begin{tabular}{llll}\n",
       " Measures & Estimates & CI.ll & CI.ul\\\\\n",
       " <fct> & <dbl> & <dbl> & <dbl>\\\\\n",
       "\\hline\n",
       "\t OR00 & 1.0000000 &        NA &       NA\\\\\n",
       "\t OR01 & 0.9773668 & 0.6077108 & 1.571876\\\\\n",
       "\t OR10 & 0.7299413 & 0.5170071 & 1.030574\\\\\n",
       "\t OR11 & 1.0176816 & 0.7232133 & 1.432048\\\\\n",
       "\\end{tabular}\n"
      ],
      "text/markdown": [
       "\n",
       "A data.frame: 4 × 4\n",
       "\n",
       "| Measures &lt;fct&gt; | Estimates &lt;dbl&gt; | CI.ll &lt;dbl&gt; | CI.ul &lt;dbl&gt; |\n",
       "|---|---|---|---|\n",
       "| OR00 | 1.0000000 |        NA |       NA |\n",
       "| OR01 | 0.9773668 | 0.6077108 | 1.571876 |\n",
       "| OR10 | 0.7299413 | 0.5170071 | 1.030574 |\n",
       "| OR11 | 1.0176816 | 0.7232133 | 1.432048 |\n",
       "\n"
      ],
      "text/plain": [
       "  Measures Estimates CI.ll     CI.ul   \n",
       "1 OR00     1.0000000        NA       NA\n",
       "2 OR01     0.9773668 0.6077108 1.571876\n",
       "3 OR10     0.7299413 0.5170071 1.030574\n",
       "4 OR11     1.0176816 0.7232133 1.432048"
      ]
     },
     "metadata": {},
     "output_type": "display_data"
    },
    {
     "data": {
      "text/html": [
       "<table>\n",
       "<caption>A data.frame: 4 × 4</caption>\n",
       "<thead>\n",
       "\t<tr><th scope=col>Measures</th><th scope=col>Estimates</th><th scope=col>CI.ll</th><th scope=col>CI.ul</th></tr>\n",
       "\t<tr><th scope=col>&lt;fct&gt;</th><th scope=col>&lt;dbl&gt;</th><th scope=col>&lt;dbl&gt;</th><th scope=col>&lt;dbl&gt;</th></tr>\n",
       "</thead>\n",
       "<tbody>\n",
       "\t<tr><td>OR00</td><td>1.0000000</td><td>       NA</td><td>      NA</td></tr>\n",
       "\t<tr><td>OR01</td><td>0.9773820</td><td>0.6074654</td><td>1.572560</td></tr>\n",
       "\t<tr><td>OR10</td><td>0.9473207</td><td>0.5980190</td><td>1.500649</td></tr>\n",
       "\t<tr><td>OR11</td><td>1.5013101</td><td>0.9756952</td><td>2.310078</td></tr>\n",
       "</tbody>\n",
       "</table>\n"
      ],
      "text/latex": [
       "A data.frame: 4 × 4\n",
       "\\begin{tabular}{llll}\n",
       " Measures & Estimates & CI.ll & CI.ul\\\\\n",
       " <fct> & <dbl> & <dbl> & <dbl>\\\\\n",
       "\\hline\n",
       "\t OR00 & 1.0000000 &        NA &       NA\\\\\n",
       "\t OR01 & 0.9773820 & 0.6074654 & 1.572560\\\\\n",
       "\t OR10 & 0.9473207 & 0.5980190 & 1.500649\\\\\n",
       "\t OR11 & 1.5013101 & 0.9756952 & 2.310078\\\\\n",
       "\\end{tabular}\n"
      ],
      "text/markdown": [
       "\n",
       "A data.frame: 4 × 4\n",
       "\n",
       "| Measures &lt;fct&gt; | Estimates &lt;dbl&gt; | CI.ll &lt;dbl&gt; | CI.ul &lt;dbl&gt; |\n",
       "|---|---|---|---|\n",
       "| OR00 | 1.0000000 |        NA |       NA |\n",
       "| OR01 | 0.9773820 | 0.6074654 | 1.572560 |\n",
       "| OR10 | 0.9473207 | 0.5980190 | 1.500649 |\n",
       "| OR11 | 1.5013101 | 0.9756952 | 2.310078 |\n",
       "\n"
      ],
      "text/plain": [
       "  Measures Estimates CI.ll     CI.ul   \n",
       "1 OR00     1.0000000        NA       NA\n",
       "2 OR01     0.9773820 0.6074654 1.572560\n",
       "3 OR10     0.9473207 0.5980190 1.500649\n",
       "4 OR11     1.5013101 0.9756952 2.310078"
      ]
     },
     "metadata": {},
     "output_type": "display_data"
    },
    {
     "data": {
      "text/html": [
       "<table>\n",
       "<caption>A data.frame: 4 × 4</caption>\n",
       "<thead>\n",
       "\t<tr><th scope=col>Measures</th><th scope=col>Estimates</th><th scope=col>CI.ll</th><th scope=col>CI.ul</th></tr>\n",
       "\t<tr><th scope=col>&lt;fct&gt;</th><th scope=col>&lt;dbl&gt;</th><th scope=col>&lt;dbl&gt;</th><th scope=col>&lt;dbl&gt;</th></tr>\n",
       "</thead>\n",
       "<tbody>\n",
       "\t<tr><td>OR00</td><td>1.0000000</td><td>       NA</td><td>      NA</td></tr>\n",
       "\t<tr><td>OR01</td><td>1.1083272</td><td>0.5895139</td><td>2.083732</td></tr>\n",
       "\t<tr><td>OR10</td><td>0.7282957</td><td>0.5158272</td><td>1.028280</td></tr>\n",
       "\t<tr><td>OR11</td><td>1.4054916</td><td>0.9771688</td><td>2.021561</td></tr>\n",
       "</tbody>\n",
       "</table>\n"
      ],
      "text/latex": [
       "A data.frame: 4 × 4\n",
       "\\begin{tabular}{llll}\n",
       " Measures & Estimates & CI.ll & CI.ul\\\\\n",
       " <fct> & <dbl> & <dbl> & <dbl>\\\\\n",
       "\\hline\n",
       "\t OR00 & 1.0000000 &        NA &       NA\\\\\n",
       "\t OR01 & 1.1083272 & 0.5895139 & 2.083732\\\\\n",
       "\t OR10 & 0.7282957 & 0.5158272 & 1.028280\\\\\n",
       "\t OR11 & 1.4054916 & 0.9771688 & 2.021561\\\\\n",
       "\\end{tabular}\n"
      ],
      "text/markdown": [
       "\n",
       "A data.frame: 4 × 4\n",
       "\n",
       "| Measures &lt;fct&gt; | Estimates &lt;dbl&gt; | CI.ll &lt;dbl&gt; | CI.ul &lt;dbl&gt; |\n",
       "|---|---|---|---|\n",
       "| OR00 | 1.0000000 |        NA |       NA |\n",
       "| OR01 | 1.1083272 | 0.5895139 | 2.083732 |\n",
       "| OR10 | 0.7282957 | 0.5158272 | 1.028280 |\n",
       "| OR11 | 1.4054916 | 0.9771688 | 2.021561 |\n",
       "\n"
      ],
      "text/plain": [
       "  Measures Estimates CI.ll     CI.ul   \n",
       "1 OR00     1.0000000        NA       NA\n",
       "2 OR01     1.1083272 0.5895139 2.083732\n",
       "3 OR10     0.7282957 0.5158272 1.028280\n",
       "4 OR11     1.4054916 0.9771688 2.021561"
      ]
     },
     "metadata": {},
     "output_type": "display_data"
    }
   ],
   "source": [
    "#MACRO, ND#\n",
    "\n",
    "#01 - Low Score (Lifestyle), 10 - High (PGS)\n",
    "M1 <- glm(macro.0.0 ~ relevel(WT_IR2d2_cat1,ref=\"Ref_LowRisk\")*relevel(LIFESCORE_cat2,ref=\"Ref_Ideal\") + AGE.0.0 + SEX.0.0 + PC1 +\n",
    "                                        PC2 + PC3 + PC4 + PC5 + PC6 + PC7 + PC8 + PC9 + PC10, data=ND_UKBB, family=binomial) \n",
    "interactionR_04Dec(M1, exposure_names = c(\"WT_IR2d2_cat1\",\"LIFESCORE_cat2\"), ci.level = 0.95)\n",
    "#Macro, T2D, Intermediate Lifestyle, Intermiedate Risk\n",
    "M1 <- glm(macro.0.0 ~ relevel(WT_IR2d2_cat2,ref=\"Ref_LowRisk\")*relevel(LIFESCORE_cat1,ref=\"Ref_Ideal\") + AGE.0.0 + SEX.0.0 + PC1 +\n",
    "                                        PC2 + PC3 + PC4 + PC5 + PC6 + PC7 + PC8 + PC9 + PC10, data=ND_UKBB, family=binomial) \n",
    "interactionR_04Dec(M1, exposure_names = c(\"WT_IR2d2_cat2\",\"LIFESCORE_cat1\"), ci.level = 0.95)\n",
    "##Macro, T2D, Intermediate Lifestyle, High Risk\n",
    "M1 <- glm(macro.0.0 ~ relevel(WT_IR2d2_cat1,ref=\"Ref_LowRisk\")*relevel(LIFESCORE_cat1,ref=\"Ref_Ideal\") + AGE.0.0 + SEX.0.0 + PC1 +\n",
    "                                        PC2 + PC3 + PC4 + PC5 + PC6 + PC7 + PC8 + PC9 + PC10, data=ND_UKBB, family=binomial) \n",
    "interactionR_04Dec(M1, exposure_names = c(\"WT_IR2d2_cat1\",\"LIFESCORE_cat1\"), ci.level = 0.95)\n",
    "##Macro, T2D, Low Lifestyle, Moderate Risk\n",
    "M1 <- glm(macro.0.0 ~ relevel(WT_IR2d2_cat2,ref=\"Ref_LowRisk\")*relevel(LIFESCORE_cat2,ref=\"Ref_Ideal\") + AGE.0.0 + SEX.0.0 + PC1 +\n",
    "                                        PC2 + PC3 + PC4 + PC5 + PC6 + PC7 + PC8 + PC9 + PC10, data=ND_UKBB, family=binomial) \n",
    "interactionR_04Dec(M1, exposure_names = c(\"WT_IR2d2_cat2\",\"LIFESCORE_cat2\"), ci.level = 0.95)"
   ]
  },
  {
   "cell_type": "code",
   "execution_count": 8,
   "metadata": {},
   "outputs": [
    {
     "data": {
      "text/html": [
       "<table>\n",
       "<caption>A data.frame: 4 × 4</caption>\n",
       "<thead>\n",
       "\t<tr><th scope=col>Measures</th><th scope=col>Estimates</th><th scope=col>CI.ll</th><th scope=col>CI.ul</th></tr>\n",
       "\t<tr><th scope=col>&lt;fct&gt;</th><th scope=col>&lt;dbl&gt;</th><th scope=col>&lt;dbl&gt;</th><th scope=col>&lt;dbl&gt;</th></tr>\n",
       "</thead>\n",
       "<tbody>\n",
       "\t<tr><td>OR00</td><td>1.0000000</td><td>       NA</td><td>      NA</td></tr>\n",
       "\t<tr><td>OR01</td><td>1.7812593</td><td>1.1817092</td><td>2.684996</td></tr>\n",
       "\t<tr><td>OR10</td><td>0.8120197</td><td>0.5640018</td><td>1.169103</td></tr>\n",
       "\t<tr><td>OR11</td><td>1.4891120</td><td>1.0214039</td><td>2.170987</td></tr>\n",
       "</tbody>\n",
       "</table>\n"
      ],
      "text/latex": [
       "A data.frame: 4 × 4\n",
       "\\begin{tabular}{llll}\n",
       " Measures & Estimates & CI.ll & CI.ul\\\\\n",
       " <fct> & <dbl> & <dbl> & <dbl>\\\\\n",
       "\\hline\n",
       "\t OR00 & 1.0000000 &        NA &       NA\\\\\n",
       "\t OR01 & 1.7812593 & 1.1817092 & 2.684996\\\\\n",
       "\t OR10 & 0.8120197 & 0.5640018 & 1.169103\\\\\n",
       "\t OR11 & 1.4891120 & 1.0214039 & 2.170987\\\\\n",
       "\\end{tabular}\n"
      ],
      "text/markdown": [
       "\n",
       "A data.frame: 4 × 4\n",
       "\n",
       "| Measures &lt;fct&gt; | Estimates &lt;dbl&gt; | CI.ll &lt;dbl&gt; | CI.ul &lt;dbl&gt; |\n",
       "|---|---|---|---|\n",
       "| OR00 | 1.0000000 |        NA |       NA |\n",
       "| OR01 | 1.7812593 | 1.1817092 | 2.684996 |\n",
       "| OR10 | 0.8120197 | 0.5640018 | 1.169103 |\n",
       "| OR11 | 1.4891120 | 1.0214039 | 2.170987 |\n",
       "\n"
      ],
      "text/plain": [
       "  Measures Estimates CI.ll     CI.ul   \n",
       "1 OR00     1.0000000        NA       NA\n",
       "2 OR01     1.7812593 1.1817092 2.684996\n",
       "3 OR10     0.8120197 0.5640018 1.169103\n",
       "4 OR11     1.4891120 1.0214039 2.170987"
      ]
     },
     "metadata": {},
     "output_type": "display_data"
    },
    {
     "data": {
      "text/html": [
       "<table>\n",
       "<caption>A data.frame: 4 × 4</caption>\n",
       "<thead>\n",
       "\t<tr><th scope=col>Measures</th><th scope=col>Estimates</th><th scope=col>CI.ll</th><th scope=col>CI.ul</th></tr>\n",
       "\t<tr><th scope=col>&lt;fct&gt;</th><th scope=col>&lt;dbl&gt;</th><th scope=col>&lt;dbl&gt;</th><th scope=col>&lt;dbl&gt;</th></tr>\n",
       "</thead>\n",
       "<tbody>\n",
       "\t<tr><td>OR00</td><td>1.0000000</td><td>       NA</td><td>      NA</td></tr>\n",
       "\t<tr><td>OR01</td><td>1.2416250</td><td>0.8673485</td><td>1.777409</td></tr>\n",
       "\t<tr><td>OR10</td><td>0.9640161</td><td>0.7258184</td><td>1.280385</td></tr>\n",
       "\t<tr><td>OR11</td><td>1.1752286</td><td>0.8869109</td><td>1.557273</td></tr>\n",
       "</tbody>\n",
       "</table>\n"
      ],
      "text/latex": [
       "A data.frame: 4 × 4\n",
       "\\begin{tabular}{llll}\n",
       " Measures & Estimates & CI.ll & CI.ul\\\\\n",
       " <fct> & <dbl> & <dbl> & <dbl>\\\\\n",
       "\\hline\n",
       "\t OR00 & 1.0000000 &        NA &       NA\\\\\n",
       "\t OR01 & 1.2416250 & 0.8673485 & 1.777409\\\\\n",
       "\t OR10 & 0.9640161 & 0.7258184 & 1.280385\\\\\n",
       "\t OR11 & 1.1752286 & 0.8869109 & 1.557273\\\\\n",
       "\\end{tabular}\n"
      ],
      "text/markdown": [
       "\n",
       "A data.frame: 4 × 4\n",
       "\n",
       "| Measures &lt;fct&gt; | Estimates &lt;dbl&gt; | CI.ll &lt;dbl&gt; | CI.ul &lt;dbl&gt; |\n",
       "|---|---|---|---|\n",
       "| OR00 | 1.0000000 |        NA |       NA |\n",
       "| OR01 | 1.2416250 | 0.8673485 | 1.777409 |\n",
       "| OR10 | 0.9640161 | 0.7258184 | 1.280385 |\n",
       "| OR11 | 1.1752286 | 0.8869109 | 1.557273 |\n",
       "\n"
      ],
      "text/plain": [
       "  Measures Estimates CI.ll     CI.ul   \n",
       "1 OR00     1.0000000        NA       NA\n",
       "2 OR01     1.2416250 0.8673485 1.777409\n",
       "3 OR10     0.9640161 0.7258184 1.280385\n",
       "4 OR11     1.1752286 0.8869109 1.557273"
      ]
     },
     "metadata": {},
     "output_type": "display_data"
    },
    {
     "data": {
      "text/html": [
       "<table>\n",
       "<caption>A data.frame: 4 × 4</caption>\n",
       "<thead>\n",
       "\t<tr><th scope=col>Measures</th><th scope=col>Estimates</th><th scope=col>CI.ll</th><th scope=col>CI.ul</th></tr>\n",
       "\t<tr><th scope=col>&lt;fct&gt;</th><th scope=col>&lt;dbl&gt;</th><th scope=col>&lt;dbl&gt;</th><th scope=col>&lt;dbl&gt;</th></tr>\n",
       "</thead>\n",
       "<tbody>\n",
       "\t<tr><td>OR00</td><td>1.0000000</td><td>       NA</td><td>      NA</td></tr>\n",
       "\t<tr><td>OR01</td><td>1.2634524</td><td>0.8818944</td><td>1.810094</td></tr>\n",
       "\t<tr><td>OR10</td><td>0.7866917</td><td>0.5467651</td><td>1.131901</td></tr>\n",
       "\t<tr><td>OR11</td><td>1.1980778</td><td>0.8568647</td><td>1.675166</td></tr>\n",
       "</tbody>\n",
       "</table>\n"
      ],
      "text/latex": [
       "A data.frame: 4 × 4\n",
       "\\begin{tabular}{llll}\n",
       " Measures & Estimates & CI.ll & CI.ul\\\\\n",
       " <fct> & <dbl> & <dbl> & <dbl>\\\\\n",
       "\\hline\n",
       "\t OR00 & 1.0000000 &        NA &       NA\\\\\n",
       "\t OR01 & 1.2634524 & 0.8818944 & 1.810094\\\\\n",
       "\t OR10 & 0.7866917 & 0.5467651 & 1.131901\\\\\n",
       "\t OR11 & 1.1980778 & 0.8568647 & 1.675166\\\\\n",
       "\\end{tabular}\n"
      ],
      "text/markdown": [
       "\n",
       "A data.frame: 4 × 4\n",
       "\n",
       "| Measures &lt;fct&gt; | Estimates &lt;dbl&gt; | CI.ll &lt;dbl&gt; | CI.ul &lt;dbl&gt; |\n",
       "|---|---|---|---|\n",
       "| OR00 | 1.0000000 |        NA |       NA |\n",
       "| OR01 | 1.2634524 | 0.8818944 | 1.810094 |\n",
       "| OR10 | 0.7866917 | 0.5467651 | 1.131901 |\n",
       "| OR11 | 1.1980778 | 0.8568647 | 1.675166 |\n",
       "\n"
      ],
      "text/plain": [
       "  Measures Estimates CI.ll     CI.ul   \n",
       "1 OR00     1.0000000        NA       NA\n",
       "2 OR01     1.2634524 0.8818944 1.810094\n",
       "3 OR10     0.7866917 0.5467651 1.131901\n",
       "4 OR11     1.1980778 0.8568647 1.675166"
      ]
     },
     "metadata": {},
     "output_type": "display_data"
    },
    {
     "data": {
      "text/html": [
       "<table>\n",
       "<caption>A data.frame: 4 × 4</caption>\n",
       "<thead>\n",
       "\t<tr><th scope=col>Measures</th><th scope=col>Estimates</th><th scope=col>CI.ll</th><th scope=col>CI.ul</th></tr>\n",
       "\t<tr><th scope=col>&lt;fct&gt;</th><th scope=col>&lt;dbl&gt;</th><th scope=col>&lt;dbl&gt;</th><th scope=col>&lt;dbl&gt;</th></tr>\n",
       "</thead>\n",
       "<tbody>\n",
       "\t<tr><td>OR00</td><td>1.0000000</td><td>       NA</td><td>      NA</td></tr>\n",
       "\t<tr><td>OR01</td><td>1.7777340</td><td>1.1834146</td><td>2.670525</td></tr>\n",
       "\t<tr><td>OR10</td><td>0.9691337</td><td>0.7297556</td><td>1.287034</td></tr>\n",
       "\t<tr><td>OR11</td><td>1.2858585</td><td>0.9613298</td><td>1.719943</td></tr>\n",
       "</tbody>\n",
       "</table>\n"
      ],
      "text/latex": [
       "A data.frame: 4 × 4\n",
       "\\begin{tabular}{llll}\n",
       " Measures & Estimates & CI.ll & CI.ul\\\\\n",
       " <fct> & <dbl> & <dbl> & <dbl>\\\\\n",
       "\\hline\n",
       "\t OR00 & 1.0000000 &        NA &       NA\\\\\n",
       "\t OR01 & 1.7777340 & 1.1834146 & 2.670525\\\\\n",
       "\t OR10 & 0.9691337 & 0.7297556 & 1.287034\\\\\n",
       "\t OR11 & 1.2858585 & 0.9613298 & 1.719943\\\\\n",
       "\\end{tabular}\n"
      ],
      "text/markdown": [
       "\n",
       "A data.frame: 4 × 4\n",
       "\n",
       "| Measures &lt;fct&gt; | Estimates &lt;dbl&gt; | CI.ll &lt;dbl&gt; | CI.ul &lt;dbl&gt; |\n",
       "|---|---|---|---|\n",
       "| OR00 | 1.0000000 |        NA |       NA |\n",
       "| OR01 | 1.7777340 | 1.1834146 | 2.670525 |\n",
       "| OR10 | 0.9691337 | 0.7297556 | 1.287034 |\n",
       "| OR11 | 1.2858585 | 0.9613298 | 1.719943 |\n",
       "\n"
      ],
      "text/plain": [
       "  Measures Estimates CI.ll     CI.ul   \n",
       "1 OR00     1.0000000        NA       NA\n",
       "2 OR01     1.7777340 1.1834146 2.670525\n",
       "3 OR10     0.9691337 0.7297556 1.287034\n",
       "4 OR11     1.2858585 0.9613298 1.719943"
      ]
     },
     "metadata": {},
     "output_type": "display_data"
    }
   ],
   "source": [
    "#MICRO, T2D#\n",
    "\n",
    "#01 - Low Score (Lifestyle), 10 - High (PGS)\n",
    "M1 <- glm(micro.0.0 ~ relevel(WT_IR2d2_cat1,ref=\"Ref_LowRisk\")*relevel(LIFESCORE_cat2,ref=\"Ref_Ideal\") + AGE.0.0 + SEX.0.0 + PC1 +\n",
    "                                        PC2 + PC3 + PC4 + PC5 + PC6 + PC7 + PC8 + PC9 + PC10, data=T2D_UKBB, family=binomial) \n",
    "interactionR_04Dec(M1, exposure_names = c(\"WT_IR2d2_cat1\",\"LIFESCORE_cat2\"), ci.level = 0.95)\n",
    "#Macro, T2D, Intermediate Lifestyle, Intermiedate Risk\n",
    "M1 <- glm(micro.0.0 ~ relevel(WT_IR2d2_cat2,ref=\"Ref_LowRisk\")*relevel(LIFESCORE_cat1,ref=\"Ref_Ideal\") + AGE.0.0 + SEX.0.0 + PC1 +\n",
    "                                        PC2 + PC3 + PC4 + PC5 + PC6 + PC7 + PC8 + PC9 + PC10, data=T2D_UKBB, family=binomial) \n",
    "interactionR_04Dec(M1, exposure_names = c(\"WT_IR2d2_cat2\",\"LIFESCORE_cat1\"), ci.level = 0.95)\n",
    "##Macro, T2D, Intermediate Lifestyle, High Risk\n",
    "M1 <- glm(micro.0.0 ~ relevel(WT_IR2d2_cat1,ref=\"Ref_LowRisk\")*relevel(LIFESCORE_cat1,ref=\"Ref_Ideal\") + AGE.0.0 + SEX.0.0 + PC1 +\n",
    "                                        PC2 + PC3 + PC4 + PC5 + PC6 + PC7 + PC8 + PC9 + PC10, data=T2D_UKBB, family=binomial) \n",
    "interactionR_04Dec(M1, exposure_names = c(\"WT_IR2d2_cat1\",\"LIFESCORE_cat1\"), ci.level = 0.95)\n",
    "##Macro, T2D, Low Lifestyle, Moderate Risk\n",
    "M1 <- glm(micro.0.0 ~ relevel(WT_IR2d2_cat2,ref=\"Ref_LowRisk\")*relevel(LIFESCORE_cat2,ref=\"Ref_Ideal\") + AGE.0.0 + SEX.0.0 + PC1 +\n",
    "                                        PC2 + PC3 + PC4 + PC5 + PC6 + PC7 + PC8 + PC9 + PC10, data=T2D_UKBB, family=binomial) \n",
    "interactionR_04Dec(M1, exposure_names = c(\"WT_IR2d2_cat2\",\"LIFESCORE_cat2\"), ci.level = 0.95)"
   ]
  },
  {
   "cell_type": "code",
   "execution_count": 9,
   "metadata": {},
   "outputs": [
    {
     "data": {
      "text/html": [
       "<table>\n",
       "<caption>A data.frame: 4 × 4</caption>\n",
       "<thead>\n",
       "\t<tr><th scope=col>Measures</th><th scope=col>Estimates</th><th scope=col>CI.ll</th><th scope=col>CI.ul</th></tr>\n",
       "\t<tr><th scope=col>&lt;fct&gt;</th><th scope=col>&lt;dbl&gt;</th><th scope=col>&lt;dbl&gt;</th><th scope=col>&lt;dbl&gt;</th></tr>\n",
       "</thead>\n",
       "<tbody>\n",
       "\t<tr><td>OR00</td><td>1.000000</td><td>       NA</td><td>      NA</td></tr>\n",
       "\t<tr><td>OR01</td><td>1.252760</td><td>1.0477495</td><td>1.497884</td></tr>\n",
       "\t<tr><td>OR10</td><td>1.073558</td><td>0.9425105</td><td>1.222826</td></tr>\n",
       "\t<tr><td>OR11</td><td>1.400481</td><td>1.1770785</td><td>1.666284</td></tr>\n",
       "</tbody>\n",
       "</table>\n"
      ],
      "text/latex": [
       "A data.frame: 4 × 4\n",
       "\\begin{tabular}{llll}\n",
       " Measures & Estimates & CI.ll & CI.ul\\\\\n",
       " <fct> & <dbl> & <dbl> & <dbl>\\\\\n",
       "\\hline\n",
       "\t OR00 & 1.000000 &        NA &       NA\\\\\n",
       "\t OR01 & 1.252760 & 1.0477495 & 1.497884\\\\\n",
       "\t OR10 & 1.073558 & 0.9425105 & 1.222826\\\\\n",
       "\t OR11 & 1.400481 & 1.1770785 & 1.666284\\\\\n",
       "\\end{tabular}\n"
      ],
      "text/markdown": [
       "\n",
       "A data.frame: 4 × 4\n",
       "\n",
       "| Measures &lt;fct&gt; | Estimates &lt;dbl&gt; | CI.ll &lt;dbl&gt; | CI.ul &lt;dbl&gt; |\n",
       "|---|---|---|---|\n",
       "| OR00 | 1.000000 |        NA |       NA |\n",
       "| OR01 | 1.252760 | 1.0477495 | 1.497884 |\n",
       "| OR10 | 1.073558 | 0.9425105 | 1.222826 |\n",
       "| OR11 | 1.400481 | 1.1770785 | 1.666284 |\n",
       "\n"
      ],
      "text/plain": [
       "  Measures Estimates CI.ll     CI.ul   \n",
       "1 OR00     1.000000         NA       NA\n",
       "2 OR01     1.252760  1.0477495 1.497884\n",
       "3 OR10     1.073558  0.9425105 1.222826\n",
       "4 OR11     1.400481  1.1770785 1.666284"
      ]
     },
     "metadata": {},
     "output_type": "display_data"
    },
    {
     "data": {
      "text/html": [
       "<table>\n",
       "<caption>A data.frame: 4 × 4</caption>\n",
       "<thead>\n",
       "\t<tr><th scope=col>Measures</th><th scope=col>Estimates</th><th scope=col>CI.ll</th><th scope=col>CI.ul</th></tr>\n",
       "\t<tr><th scope=col>&lt;fct&gt;</th><th scope=col>&lt;dbl&gt;</th><th scope=col>&lt;dbl&gt;</th><th scope=col>&lt;dbl&gt;</th></tr>\n",
       "</thead>\n",
       "<tbody>\n",
       "\t<tr><td>OR00</td><td>1.000000</td><td>       NA</td><td>      NA</td></tr>\n",
       "\t<tr><td>OR01</td><td>0.965864</td><td>0.8396554</td><td>1.111043</td></tr>\n",
       "\t<tr><td>OR10</td><td>1.003728</td><td>0.9092410</td><td>1.108033</td></tr>\n",
       "\t<tr><td>OR11</td><td>1.167912</td><td>1.0575918</td><td>1.289740</td></tr>\n",
       "</tbody>\n",
       "</table>\n"
      ],
      "text/latex": [
       "A data.frame: 4 × 4\n",
       "\\begin{tabular}{llll}\n",
       " Measures & Estimates & CI.ll & CI.ul\\\\\n",
       " <fct> & <dbl> & <dbl> & <dbl>\\\\\n",
       "\\hline\n",
       "\t OR00 & 1.000000 &        NA &       NA\\\\\n",
       "\t OR01 & 0.965864 & 0.8396554 & 1.111043\\\\\n",
       "\t OR10 & 1.003728 & 0.9092410 & 1.108033\\\\\n",
       "\t OR11 & 1.167912 & 1.0575918 & 1.289740\\\\\n",
       "\\end{tabular}\n"
      ],
      "text/markdown": [
       "\n",
       "A data.frame: 4 × 4\n",
       "\n",
       "| Measures &lt;fct&gt; | Estimates &lt;dbl&gt; | CI.ll &lt;dbl&gt; | CI.ul &lt;dbl&gt; |\n",
       "|---|---|---|---|\n",
       "| OR00 | 1.000000 |        NA |       NA |\n",
       "| OR01 | 0.965864 | 0.8396554 | 1.111043 |\n",
       "| OR10 | 1.003728 | 0.9092410 | 1.108033 |\n",
       "| OR11 | 1.167912 | 1.0575918 | 1.289740 |\n",
       "\n"
      ],
      "text/plain": [
       "  Measures Estimates CI.ll     CI.ul   \n",
       "1 OR00     1.000000         NA       NA\n",
       "2 OR01     0.965864  0.8396554 1.111043\n",
       "3 OR10     1.003728  0.9092410 1.108033\n",
       "4 OR11     1.167912  1.0575918 1.289740"
      ]
     },
     "metadata": {},
     "output_type": "display_data"
    },
    {
     "data": {
      "text/html": [
       "<table>\n",
       "<caption>A data.frame: 4 × 4</caption>\n",
       "<thead>\n",
       "\t<tr><th scope=col>Measures</th><th scope=col>Estimates</th><th scope=col>CI.ll</th><th scope=col>CI.ul</th></tr>\n",
       "\t<tr><th scope=col>&lt;fct&gt;</th><th scope=col>&lt;dbl&gt;</th><th scope=col>&lt;dbl&gt;</th><th scope=col>&lt;dbl&gt;</th></tr>\n",
       "</thead>\n",
       "<tbody>\n",
       "\t<tr><td>OR00</td><td>1.0000000</td><td>       NA</td><td>      NA</td></tr>\n",
       "\t<tr><td>OR01</td><td>0.9679302</td><td>0.8412934</td><td>1.113629</td></tr>\n",
       "\t<tr><td>OR10</td><td>1.0771442</td><td>0.9456948</td><td>1.226865</td></tr>\n",
       "\t<tr><td>OR11</td><td>1.2237412</td><td>1.0708969</td><td>1.398400</td></tr>\n",
       "</tbody>\n",
       "</table>\n"
      ],
      "text/latex": [
       "A data.frame: 4 × 4\n",
       "\\begin{tabular}{llll}\n",
       " Measures & Estimates & CI.ll & CI.ul\\\\\n",
       " <fct> & <dbl> & <dbl> & <dbl>\\\\\n",
       "\\hline\n",
       "\t OR00 & 1.0000000 &        NA &       NA\\\\\n",
       "\t OR01 & 0.9679302 & 0.8412934 & 1.113629\\\\\n",
       "\t OR10 & 1.0771442 & 0.9456948 & 1.226865\\\\\n",
       "\t OR11 & 1.2237412 & 1.0708969 & 1.398400\\\\\n",
       "\\end{tabular}\n"
      ],
      "text/markdown": [
       "\n",
       "A data.frame: 4 × 4\n",
       "\n",
       "| Measures &lt;fct&gt; | Estimates &lt;dbl&gt; | CI.ll &lt;dbl&gt; | CI.ul &lt;dbl&gt; |\n",
       "|---|---|---|---|\n",
       "| OR00 | 1.0000000 |        NA |       NA |\n",
       "| OR01 | 0.9679302 | 0.8412934 | 1.113629 |\n",
       "| OR10 | 1.0771442 | 0.9456948 | 1.226865 |\n",
       "| OR11 | 1.2237412 | 1.0708969 | 1.398400 |\n",
       "\n"
      ],
      "text/plain": [
       "  Measures Estimates CI.ll     CI.ul   \n",
       "1 OR00     1.0000000        NA       NA\n",
       "2 OR01     0.9679302 0.8412934 1.113629\n",
       "3 OR10     1.0771442 0.9456948 1.226865\n",
       "4 OR11     1.2237412 1.0708969 1.398400"
      ]
     },
     "metadata": {},
     "output_type": "display_data"
    },
    {
     "data": {
      "text/html": [
       "<table>\n",
       "<caption>A data.frame: 4 × 4</caption>\n",
       "<thead>\n",
       "\t<tr><th scope=col>Measures</th><th scope=col>Estimates</th><th scope=col>CI.ll</th><th scope=col>CI.ul</th></tr>\n",
       "\t<tr><th scope=col>&lt;fct&gt;</th><th scope=col>&lt;dbl&gt;</th><th scope=col>&lt;dbl&gt;</th><th scope=col>&lt;dbl&gt;</th></tr>\n",
       "</thead>\n",
       "<tbody>\n",
       "\t<tr><td>OR00</td><td>1.000000</td><td>       NA</td><td>      NA</td></tr>\n",
       "\t<tr><td>OR01</td><td>1.250764</td><td>1.0466636</td><td>1.494664</td></tr>\n",
       "\t<tr><td>OR10</td><td>1.002712</td><td>0.9083019</td><td>1.106936</td></tr>\n",
       "\t<tr><td>OR11</td><td>1.337017</td><td>1.2011107</td><td>1.488301</td></tr>\n",
       "</tbody>\n",
       "</table>\n"
      ],
      "text/latex": [
       "A data.frame: 4 × 4\n",
       "\\begin{tabular}{llll}\n",
       " Measures & Estimates & CI.ll & CI.ul\\\\\n",
       " <fct> & <dbl> & <dbl> & <dbl>\\\\\n",
       "\\hline\n",
       "\t OR00 & 1.000000 &        NA &       NA\\\\\n",
       "\t OR01 & 1.250764 & 1.0466636 & 1.494664\\\\\n",
       "\t OR10 & 1.002712 & 0.9083019 & 1.106936\\\\\n",
       "\t OR11 & 1.337017 & 1.2011107 & 1.488301\\\\\n",
       "\\end{tabular}\n"
      ],
      "text/markdown": [
       "\n",
       "A data.frame: 4 × 4\n",
       "\n",
       "| Measures &lt;fct&gt; | Estimates &lt;dbl&gt; | CI.ll &lt;dbl&gt; | CI.ul &lt;dbl&gt; |\n",
       "|---|---|---|---|\n",
       "| OR00 | 1.000000 |        NA |       NA |\n",
       "| OR01 | 1.250764 | 1.0466636 | 1.494664 |\n",
       "| OR10 | 1.002712 | 0.9083019 | 1.106936 |\n",
       "| OR11 | 1.337017 | 1.2011107 | 1.488301 |\n",
       "\n"
      ],
      "text/plain": [
       "  Measures Estimates CI.ll     CI.ul   \n",
       "1 OR00     1.000000         NA       NA\n",
       "2 OR01     1.250764  1.0466636 1.494664\n",
       "3 OR10     1.002712  0.9083019 1.106936\n",
       "4 OR11     1.337017  1.2011107 1.488301"
      ]
     },
     "metadata": {},
     "output_type": "display_data"
    }
   ],
   "source": [
    "#MICRO, ND#\n",
    "\n",
    "#01 - Low Score (Lifestyle), 10 - High (PGS)\n",
    "M1 <- glm(micro.0.0 ~ relevel(WT_IR2d2_cat1,ref=\"Ref_LowRisk\")*relevel(LIFESCORE_cat2,ref=\"Ref_Ideal\") + AGE.0.0 + SEX.0.0 + PC1 +\n",
    "                                        PC2 + PC3 + PC4 + PC5 + PC6 + PC7 + PC8 + PC9 + PC10, data=ND_UKBB, family=binomial) \n",
    "interactionR_04Dec(M1, exposure_names = c(\"WT_IR2d2_cat1\",\"LIFESCORE_cat2\"), ci.level = 0.95)\n",
    "#Macro, T2D, Intermediate Lifestyle, Intermiedate Risk\n",
    "M1 <- glm(micro.0.0 ~ relevel(WT_IR2d2_cat2,ref=\"Ref_LowRisk\")*relevel(LIFESCORE_cat1,ref=\"Ref_Ideal\") + AGE.0.0 + SEX.0.0 + PC1 +\n",
    "                                        PC2 + PC3 + PC4 + PC5 + PC6 + PC7 + PC8 + PC9 + PC10, data=ND_UKBB, family=binomial) \n",
    "interactionR_04Dec(M1, exposure_names = c(\"WT_IR2d2_cat2\",\"LIFESCORE_cat1\"), ci.level = 0.95)\n",
    "##Macro, T2D, Intermediate Lifestyle, High Risk\n",
    "M1 <- glm(micro.0.0 ~ relevel(WT_IR2d2_cat1,ref=\"Ref_LowRisk\")*relevel(LIFESCORE_cat1,ref=\"Ref_Ideal\") + AGE.0.0 + SEX.0.0 + PC1 +\n",
    "                                        PC2 + PC3 + PC4 + PC5 + PC6 + PC7 + PC8 + PC9 + PC10, data=ND_UKBB, family=binomial) \n",
    "interactionR_04Dec(M1, exposure_names = c(\"WT_IR2d2_cat1\",\"LIFESCORE_cat1\"), ci.level = 0.95)\n",
    "##Macro, T2D, Low Lifestyle, Moderate Risk\n",
    "M1 <- glm(micro.0.0 ~ relevel(WT_IR2d2_cat2,ref=\"Ref_LowRisk\")*relevel(LIFESCORE_cat2,ref=\"Ref_Ideal\") + AGE.0.0 + SEX.0.0 + PC1 +\n",
    "                                        PC2 + PC3 + PC4 + PC5 + PC6 + PC7 + PC8 + PC9 + PC10, data=ND_UKBB, family=binomial) \n",
    "interactionR_04Dec(M1, exposure_names = c(\"WT_IR2d2_cat2\",\"LIFESCORE_cat2\"), ci.level = 0.95)"
   ]
  },
  {
   "cell_type": "code",
   "execution_count": 10,
   "metadata": {},
   "outputs": [
    {
     "data": {
      "text/html": [
       "<table>\n",
       "<caption>A data.frame: 4 × 4</caption>\n",
       "<thead>\n",
       "\t<tr><th scope=col>Measures</th><th scope=col>Estimates</th><th scope=col>CI.ll</th><th scope=col>CI.ul</th></tr>\n",
       "\t<tr><th scope=col>&lt;fct&gt;</th><th scope=col>&lt;dbl&gt;</th><th scope=col>&lt;dbl&gt;</th><th scope=col>&lt;dbl&gt;</th></tr>\n",
       "</thead>\n",
       "<tbody>\n",
       "\t<tr><td>OR00</td><td>1.0000000</td><td>       NA</td><td>      NA</td></tr>\n",
       "\t<tr><td>OR01</td><td>0.7587211</td><td>0.3298465</td><td>1.745229</td></tr>\n",
       "\t<tr><td>OR10</td><td>0.8306257</td><td>0.4689538</td><td>1.471230</td></tr>\n",
       "\t<tr><td>OR11</td><td>0.8078115</td><td>0.4053347</td><td>1.609927</td></tr>\n",
       "</tbody>\n",
       "</table>\n"
      ],
      "text/latex": [
       "A data.frame: 4 × 4\n",
       "\\begin{tabular}{llll}\n",
       " Measures & Estimates & CI.ll & CI.ul\\\\\n",
       " <fct> & <dbl> & <dbl> & <dbl>\\\\\n",
       "\\hline\n",
       "\t OR00 & 1.0000000 &        NA &       NA\\\\\n",
       "\t OR01 & 0.7587211 & 0.3298465 & 1.745229\\\\\n",
       "\t OR10 & 0.8306257 & 0.4689538 & 1.471230\\\\\n",
       "\t OR11 & 0.8078115 & 0.4053347 & 1.609927\\\\\n",
       "\\end{tabular}\n"
      ],
      "text/markdown": [
       "\n",
       "A data.frame: 4 × 4\n",
       "\n",
       "| Measures &lt;fct&gt; | Estimates &lt;dbl&gt; | CI.ll &lt;dbl&gt; | CI.ul &lt;dbl&gt; |\n",
       "|---|---|---|---|\n",
       "| OR00 | 1.0000000 |        NA |       NA |\n",
       "| OR01 | 0.7587211 | 0.3298465 | 1.745229 |\n",
       "| OR10 | 0.8306257 | 0.4689538 | 1.471230 |\n",
       "| OR11 | 0.8078115 | 0.4053347 | 1.609927 |\n",
       "\n"
      ],
      "text/plain": [
       "  Measures Estimates CI.ll     CI.ul   \n",
       "1 OR00     1.0000000        NA       NA\n",
       "2 OR01     0.7587211 0.3298465 1.745229\n",
       "3 OR10     0.8306257 0.4689538 1.471230\n",
       "4 OR11     0.8078115 0.4053347 1.609927"
      ]
     },
     "metadata": {},
     "output_type": "display_data"
    },
    {
     "data": {
      "text/html": [
       "<table>\n",
       "<caption>A data.frame: 4 × 4</caption>\n",
       "<thead>\n",
       "\t<tr><th scope=col>Measures</th><th scope=col>Estimates</th><th scope=col>CI.ll</th><th scope=col>CI.ul</th></tr>\n",
       "\t<tr><th scope=col>&lt;fct&gt;</th><th scope=col>&lt;dbl&gt;</th><th scope=col>&lt;dbl&gt;</th><th scope=col>&lt;dbl&gt;</th></tr>\n",
       "</thead>\n",
       "<tbody>\n",
       "\t<tr><td>OR00</td><td>1.0000000</td><td>       NA</td><td>      NA</td></tr>\n",
       "\t<tr><td>OR01</td><td>0.7638221</td><td>0.4054535</td><td>1.438942</td></tr>\n",
       "\t<tr><td>OR10</td><td>0.8002021</td><td>0.5123547</td><td>1.249766</td></tr>\n",
       "\t<tr><td>OR11</td><td>0.9396667</td><td>0.6033875</td><td>1.463361</td></tr>\n",
       "</tbody>\n",
       "</table>\n"
      ],
      "text/latex": [
       "A data.frame: 4 × 4\n",
       "\\begin{tabular}{llll}\n",
       " Measures & Estimates & CI.ll & CI.ul\\\\\n",
       " <fct> & <dbl> & <dbl> & <dbl>\\\\\n",
       "\\hline\n",
       "\t OR00 & 1.0000000 &        NA &       NA\\\\\n",
       "\t OR01 & 0.7638221 & 0.4054535 & 1.438942\\\\\n",
       "\t OR10 & 0.8002021 & 0.5123547 & 1.249766\\\\\n",
       "\t OR11 & 0.9396667 & 0.6033875 & 1.463361\\\\\n",
       "\\end{tabular}\n"
      ],
      "text/markdown": [
       "\n",
       "A data.frame: 4 × 4\n",
       "\n",
       "| Measures &lt;fct&gt; | Estimates &lt;dbl&gt; | CI.ll &lt;dbl&gt; | CI.ul &lt;dbl&gt; |\n",
       "|---|---|---|---|\n",
       "| OR00 | 1.0000000 |        NA |       NA |\n",
       "| OR01 | 0.7638221 | 0.4054535 | 1.438942 |\n",
       "| OR10 | 0.8002021 | 0.5123547 | 1.249766 |\n",
       "| OR11 | 0.9396667 | 0.6033875 | 1.463361 |\n",
       "\n"
      ],
      "text/plain": [
       "  Measures Estimates CI.ll     CI.ul   \n",
       "1 OR00     1.0000000        NA       NA\n",
       "2 OR01     0.7638221 0.4054535 1.438942\n",
       "3 OR10     0.8002021 0.5123547 1.249766\n",
       "4 OR11     0.9396667 0.6033875 1.463361"
      ]
     },
     "metadata": {},
     "output_type": "display_data"
    },
    {
     "data": {
      "text/html": [
       "<table>\n",
       "<caption>A data.frame: 4 × 4</caption>\n",
       "<thead>\n",
       "\t<tr><th scope=col>Measures</th><th scope=col>Estimates</th><th scope=col>CI.ll</th><th scope=col>CI.ul</th></tr>\n",
       "\t<tr><th scope=col>&lt;fct&gt;</th><th scope=col>&lt;dbl&gt;</th><th scope=col>&lt;dbl&gt;</th><th scope=col>&lt;dbl&gt;</th></tr>\n",
       "</thead>\n",
       "<tbody>\n",
       "\t<tr><td>OR00</td><td>1.0000000</td><td>       NA</td><td>      NA</td></tr>\n",
       "\t<tr><td>OR01</td><td>0.7828771</td><td>0.4145889</td><td>1.478324</td></tr>\n",
       "\t<tr><td>OR10</td><td>0.8082600</td><td>0.4573236</td><td>1.428495</td></tr>\n",
       "\t<tr><td>OR11</td><td>0.9963108</td><td>0.5787801</td><td>1.715047</td></tr>\n",
       "</tbody>\n",
       "</table>\n"
      ],
      "text/latex": [
       "A data.frame: 4 × 4\n",
       "\\begin{tabular}{llll}\n",
       " Measures & Estimates & CI.ll & CI.ul\\\\\n",
       " <fct> & <dbl> & <dbl> & <dbl>\\\\\n",
       "\\hline\n",
       "\t OR00 & 1.0000000 &        NA &       NA\\\\\n",
       "\t OR01 & 0.7828771 & 0.4145889 & 1.478324\\\\\n",
       "\t OR10 & 0.8082600 & 0.4573236 & 1.428495\\\\\n",
       "\t OR11 & 0.9963108 & 0.5787801 & 1.715047\\\\\n",
       "\\end{tabular}\n"
      ],
      "text/markdown": [
       "\n",
       "A data.frame: 4 × 4\n",
       "\n",
       "| Measures &lt;fct&gt; | Estimates &lt;dbl&gt; | CI.ll &lt;dbl&gt; | CI.ul &lt;dbl&gt; |\n",
       "|---|---|---|---|\n",
       "| OR00 | 1.0000000 |        NA |       NA |\n",
       "| OR01 | 0.7828771 | 0.4145889 | 1.478324 |\n",
       "| OR10 | 0.8082600 | 0.4573236 | 1.428495 |\n",
       "| OR11 | 0.9963108 | 0.5787801 | 1.715047 |\n",
       "\n"
      ],
      "text/plain": [
       "  Measures Estimates CI.ll     CI.ul   \n",
       "1 OR00     1.0000000        NA       NA\n",
       "2 OR01     0.7828771 0.4145889 1.478324\n",
       "3 OR10     0.8082600 0.4573236 1.428495\n",
       "4 OR11     0.9963108 0.5787801 1.715047"
      ]
     },
     "metadata": {},
     "output_type": "display_data"
    },
    {
     "data": {
      "text/html": [
       "<table>\n",
       "<caption>A data.frame: 4 × 4</caption>\n",
       "<thead>\n",
       "\t<tr><th scope=col>Measures</th><th scope=col>Estimates</th><th scope=col>CI.ll</th><th scope=col>CI.ul</th></tr>\n",
       "\t<tr><th scope=col>&lt;fct&gt;</th><th scope=col>&lt;dbl&gt;</th><th scope=col>&lt;dbl&gt;</th><th scope=col>&lt;dbl&gt;</th></tr>\n",
       "</thead>\n",
       "<tbody>\n",
       "\t<tr><td>OR00</td><td>1.0000000</td><td>       NA</td><td>      NA</td></tr>\n",
       "\t<tr><td>OR01</td><td>0.7586918</td><td>0.3326257</td><td>1.730513</td></tr>\n",
       "\t<tr><td>OR10</td><td>0.8059308</td><td>0.5160645</td><td>1.258611</td></tr>\n",
       "\t<tr><td>OR11</td><td>1.0376427</td><td>0.6543391</td><td>1.645481</td></tr>\n",
       "</tbody>\n",
       "</table>\n"
      ],
      "text/latex": [
       "A data.frame: 4 × 4\n",
       "\\begin{tabular}{llll}\n",
       " Measures & Estimates & CI.ll & CI.ul\\\\\n",
       " <fct> & <dbl> & <dbl> & <dbl>\\\\\n",
       "\\hline\n",
       "\t OR00 & 1.0000000 &        NA &       NA\\\\\n",
       "\t OR01 & 0.7586918 & 0.3326257 & 1.730513\\\\\n",
       "\t OR10 & 0.8059308 & 0.5160645 & 1.258611\\\\\n",
       "\t OR11 & 1.0376427 & 0.6543391 & 1.645481\\\\\n",
       "\\end{tabular}\n"
      ],
      "text/markdown": [
       "\n",
       "A data.frame: 4 × 4\n",
       "\n",
       "| Measures &lt;fct&gt; | Estimates &lt;dbl&gt; | CI.ll &lt;dbl&gt; | CI.ul &lt;dbl&gt; |\n",
       "|---|---|---|---|\n",
       "| OR00 | 1.0000000 |        NA |       NA |\n",
       "| OR01 | 0.7586918 | 0.3326257 | 1.730513 |\n",
       "| OR10 | 0.8059308 | 0.5160645 | 1.258611 |\n",
       "| OR11 | 1.0376427 | 0.6543391 | 1.645481 |\n",
       "\n"
      ],
      "text/plain": [
       "  Measures Estimates CI.ll     CI.ul   \n",
       "1 OR00     1.0000000        NA       NA\n",
       "2 OR01     0.7586918 0.3326257 1.730513\n",
       "3 OR10     0.8059308 0.5160645 1.258611\n",
       "4 OR11     1.0376427 0.6543391 1.645481"
      ]
     },
     "metadata": {},
     "output_type": "display_data"
    }
   ],
   "source": [
    "#CKD, T2D#\n",
    "\n",
    "#01 - Low Score (Lifestyle), 10 - High (PGS)\n",
    "M1 <- glm(CKD_only.0.0 ~ relevel(WT_IR2d2_cat1,ref=\"Ref_LowRisk\")*relevel(LIFESCORE_cat2,ref=\"Ref_Ideal\") + AGE.0.0 + SEX.0.0 + PC1 +\n",
    "                                        PC2 + PC3 + PC4 + PC5 + PC6 + PC7 + PC8 + PC9 + PC10, data=T2D_UKBB, family=binomial) \n",
    "interactionR_04Dec(M1, exposure_names = c(\"WT_IR2d2_cat1\",\"LIFESCORE_cat2\"), ci.level = 0.95)\n",
    "#Macro, T2D, Intermediate Lifestyle, Intermiedate Risk\n",
    "M1 <- glm(CKD_only.0.0 ~ relevel(WT_IR2d2_cat2,ref=\"Ref_LowRisk\")*relevel(LIFESCORE_cat1,ref=\"Ref_Ideal\") + AGE.0.0 + SEX.0.0 + PC1 +\n",
    "                                        PC2 + PC3 + PC4 + PC5 + PC6 + PC7 + PC8 + PC9 + PC10, data=T2D_UKBB, family=binomial) \n",
    "interactionR_04Dec(M1, exposure_names = c(\"WT_IR2d2_cat2\",\"LIFESCORE_cat1\"), ci.level = 0.95)\n",
    "##Macro, T2D, Intermediate Lifestyle, High Risk\n",
    "M1 <- glm(CKD_only.0.0 ~ relevel(WT_IR2d2_cat1,ref=\"Ref_LowRisk\")*relevel(LIFESCORE_cat1,ref=\"Ref_Ideal\") + AGE.0.0 + SEX.0.0 + PC1 +\n",
    "                                        PC2 + PC3 + PC4 + PC5 + PC6 + PC7 + PC8 + PC9 + PC10, data=T2D_UKBB, family=binomial) \n",
    "interactionR_04Dec(M1, exposure_names = c(\"WT_IR2d2_cat1\",\"LIFESCORE_cat1\"), ci.level = 0.95)\n",
    "##Macro, T2D, Low Lifestyle, Moderate Risk\n",
    "M1 <- glm(CKD_only.0.0 ~ relevel(WT_IR2d2_cat2,ref=\"Ref_LowRisk\")*relevel(LIFESCORE_cat2,ref=\"Ref_Ideal\") + AGE.0.0 + SEX.0.0 + PC1 +\n",
    "                                        PC2 + PC3 + PC4 + PC5 + PC6 + PC7 + PC8 + PC9 + PC10, data=T2D_UKBB, family=binomial) \n",
    "interactionR_04Dec(M1, exposure_names = c(\"WT_IR2d2_cat2\",\"LIFESCORE_cat2\"), ci.level = 0.95)"
   ]
  },
  {
   "cell_type": "code",
   "execution_count": 11,
   "metadata": {},
   "outputs": [
    {
     "data": {
      "text/html": [
       "<table>\n",
       "<caption>A data.frame: 4 × 4</caption>\n",
       "<thead>\n",
       "\t<tr><th scope=col>Measures</th><th scope=col>Estimates</th><th scope=col>CI.ll</th><th scope=col>CI.ul</th></tr>\n",
       "\t<tr><th scope=col>&lt;fct&gt;</th><th scope=col>&lt;dbl&gt;</th><th scope=col>&lt;dbl&gt;</th><th scope=col>&lt;dbl&gt;</th></tr>\n",
       "</thead>\n",
       "<tbody>\n",
       "\t<tr><td>OR00</td><td>1.000000</td><td>       NA</td><td>      NA</td></tr>\n",
       "\t<tr><td>OR01</td><td>1.209364</td><td>0.9137047</td><td>1.600694</td></tr>\n",
       "\t<tr><td>OR10</td><td>1.118955</td><td>0.9171318</td><td>1.365190</td></tr>\n",
       "\t<tr><td>OR11</td><td>1.403050</td><td>1.0711257</td><td>1.837831</td></tr>\n",
       "</tbody>\n",
       "</table>\n"
      ],
      "text/latex": [
       "A data.frame: 4 × 4\n",
       "\\begin{tabular}{llll}\n",
       " Measures & Estimates & CI.ll & CI.ul\\\\\n",
       " <fct> & <dbl> & <dbl> & <dbl>\\\\\n",
       "\\hline\n",
       "\t OR00 & 1.000000 &        NA &       NA\\\\\n",
       "\t OR01 & 1.209364 & 0.9137047 & 1.600694\\\\\n",
       "\t OR10 & 1.118955 & 0.9171318 & 1.365190\\\\\n",
       "\t OR11 & 1.403050 & 1.0711257 & 1.837831\\\\\n",
       "\\end{tabular}\n"
      ],
      "text/markdown": [
       "\n",
       "A data.frame: 4 × 4\n",
       "\n",
       "| Measures &lt;fct&gt; | Estimates &lt;dbl&gt; | CI.ll &lt;dbl&gt; | CI.ul &lt;dbl&gt; |\n",
       "|---|---|---|---|\n",
       "| OR00 | 1.000000 |        NA |       NA |\n",
       "| OR01 | 1.209364 | 0.9137047 | 1.600694 |\n",
       "| OR10 | 1.118955 | 0.9171318 | 1.365190 |\n",
       "| OR11 | 1.403050 | 1.0711257 | 1.837831 |\n",
       "\n"
      ],
      "text/plain": [
       "  Measures Estimates CI.ll     CI.ul   \n",
       "1 OR00     1.000000         NA       NA\n",
       "2 OR01     1.209364  0.9137047 1.600694\n",
       "3 OR10     1.118955  0.9171318 1.365190\n",
       "4 OR11     1.403050  1.0711257 1.837831"
      ]
     },
     "metadata": {},
     "output_type": "display_data"
    },
    {
     "data": {
      "text/html": [
       "<table>\n",
       "<caption>A data.frame: 4 × 4</caption>\n",
       "<thead>\n",
       "\t<tr><th scope=col>Measures</th><th scope=col>Estimates</th><th scope=col>CI.ll</th><th scope=col>CI.ul</th></tr>\n",
       "\t<tr><th scope=col>&lt;fct&gt;</th><th scope=col>&lt;dbl&gt;</th><th scope=col>&lt;dbl&gt;</th><th scope=col>&lt;dbl&gt;</th></tr>\n",
       "</thead>\n",
       "<tbody>\n",
       "\t<tr><td>OR00</td><td>1.000000</td><td>       NA</td><td>      NA</td></tr>\n",
       "\t<tr><td>OR01</td><td>1.326566</td><td>1.0854953</td><td>1.621175</td></tr>\n",
       "\t<tr><td>OR10</td><td>1.097061</td><td>0.9424675</td><td>1.277012</td></tr>\n",
       "\t<tr><td>OR11</td><td>1.248014</td><td>1.0711384</td><td>1.454097</td></tr>\n",
       "</tbody>\n",
       "</table>\n"
      ],
      "text/latex": [
       "A data.frame: 4 × 4\n",
       "\\begin{tabular}{llll}\n",
       " Measures & Estimates & CI.ll & CI.ul\\\\\n",
       " <fct> & <dbl> & <dbl> & <dbl>\\\\\n",
       "\\hline\n",
       "\t OR00 & 1.000000 &        NA &       NA\\\\\n",
       "\t OR01 & 1.326566 & 1.0854953 & 1.621175\\\\\n",
       "\t OR10 & 1.097061 & 0.9424675 & 1.277012\\\\\n",
       "\t OR11 & 1.248014 & 1.0711384 & 1.454097\\\\\n",
       "\\end{tabular}\n"
      ],
      "text/markdown": [
       "\n",
       "A data.frame: 4 × 4\n",
       "\n",
       "| Measures &lt;fct&gt; | Estimates &lt;dbl&gt; | CI.ll &lt;dbl&gt; | CI.ul &lt;dbl&gt; |\n",
       "|---|---|---|---|\n",
       "| OR00 | 1.000000 |        NA |       NA |\n",
       "| OR01 | 1.326566 | 1.0854953 | 1.621175 |\n",
       "| OR10 | 1.097061 | 0.9424675 | 1.277012 |\n",
       "| OR11 | 1.248014 | 1.0711384 | 1.454097 |\n",
       "\n"
      ],
      "text/plain": [
       "  Measures Estimates CI.ll     CI.ul   \n",
       "1 OR00     1.000000         NA       NA\n",
       "2 OR01     1.326566  1.0854953 1.621175\n",
       "3 OR10     1.097061  0.9424675 1.277012\n",
       "4 OR11     1.248014  1.0711384 1.454097"
      ]
     },
     "metadata": {},
     "output_type": "display_data"
    },
    {
     "data": {
      "text/html": [
       "<table>\n",
       "<caption>A data.frame: 4 × 4</caption>\n",
       "<thead>\n",
       "\t<tr><th scope=col>Measures</th><th scope=col>Estimates</th><th scope=col>CI.ll</th><th scope=col>CI.ul</th></tr>\n",
       "\t<tr><th scope=col>&lt;fct&gt;</th><th scope=col>&lt;dbl&gt;</th><th scope=col>&lt;dbl&gt;</th><th scope=col>&lt;dbl&gt;</th></tr>\n",
       "</thead>\n",
       "<tbody>\n",
       "\t<tr><td>OR00</td><td>1.000000</td><td>       NA</td><td>      NA</td></tr>\n",
       "\t<tr><td>OR01</td><td>1.326473</td><td>1.0851183</td><td>1.621510</td></tr>\n",
       "\t<tr><td>OR10</td><td>1.118758</td><td>0.9169963</td><td>1.364913</td></tr>\n",
       "\t<tr><td>OR11</td><td>1.481638</td><td>1.2157540</td><td>1.805671</td></tr>\n",
       "</tbody>\n",
       "</table>\n"
      ],
      "text/latex": [
       "A data.frame: 4 × 4\n",
       "\\begin{tabular}{llll}\n",
       " Measures & Estimates & CI.ll & CI.ul\\\\\n",
       " <fct> & <dbl> & <dbl> & <dbl>\\\\\n",
       "\\hline\n",
       "\t OR00 & 1.000000 &        NA &       NA\\\\\n",
       "\t OR01 & 1.326473 & 1.0851183 & 1.621510\\\\\n",
       "\t OR10 & 1.118758 & 0.9169963 & 1.364913\\\\\n",
       "\t OR11 & 1.481638 & 1.2157540 & 1.805671\\\\\n",
       "\\end{tabular}\n"
      ],
      "text/markdown": [
       "\n",
       "A data.frame: 4 × 4\n",
       "\n",
       "| Measures &lt;fct&gt; | Estimates &lt;dbl&gt; | CI.ll &lt;dbl&gt; | CI.ul &lt;dbl&gt; |\n",
       "|---|---|---|---|\n",
       "| OR00 | 1.000000 |        NA |       NA |\n",
       "| OR01 | 1.326473 | 1.0851183 | 1.621510 |\n",
       "| OR10 | 1.118758 | 0.9169963 | 1.364913 |\n",
       "| OR11 | 1.481638 | 1.2157540 | 1.805671 |\n",
       "\n"
      ],
      "text/plain": [
       "  Measures Estimates CI.ll     CI.ul   \n",
       "1 OR00     1.000000         NA       NA\n",
       "2 OR01     1.326473  1.0851183 1.621510\n",
       "3 OR10     1.118758  0.9169963 1.364913\n",
       "4 OR11     1.481638  1.2157540 1.805671"
      ]
     },
     "metadata": {},
     "output_type": "display_data"
    },
    {
     "data": {
      "text/html": [
       "<table>\n",
       "<caption>A data.frame: 4 × 4</caption>\n",
       "<thead>\n",
       "\t<tr><th scope=col>Measures</th><th scope=col>Estimates</th><th scope=col>CI.ll</th><th scope=col>CI.ul</th></tr>\n",
       "\t<tr><th scope=col>&lt;fct&gt;</th><th scope=col>&lt;dbl&gt;</th><th scope=col>&lt;dbl&gt;</th><th scope=col>&lt;dbl&gt;</th></tr>\n",
       "</thead>\n",
       "<tbody>\n",
       "\t<tr><td>OR00</td><td>1.000000</td><td>       NA</td><td>      NA</td></tr>\n",
       "\t<tr><td>OR01</td><td>1.203230</td><td>0.9099534</td><td>1.591030</td></tr>\n",
       "\t<tr><td>OR10</td><td>1.096081</td><td>0.9416040</td><td>1.275901</td></tr>\n",
       "\t<tr><td>OR11</td><td>1.608703</td><td>1.3671117</td><td>1.892987</td></tr>\n",
       "</tbody>\n",
       "</table>\n"
      ],
      "text/latex": [
       "A data.frame: 4 × 4\n",
       "\\begin{tabular}{llll}\n",
       " Measures & Estimates & CI.ll & CI.ul\\\\\n",
       " <fct> & <dbl> & <dbl> & <dbl>\\\\\n",
       "\\hline\n",
       "\t OR00 & 1.000000 &        NA &       NA\\\\\n",
       "\t OR01 & 1.203230 & 0.9099534 & 1.591030\\\\\n",
       "\t OR10 & 1.096081 & 0.9416040 & 1.275901\\\\\n",
       "\t OR11 & 1.608703 & 1.3671117 & 1.892987\\\\\n",
       "\\end{tabular}\n"
      ],
      "text/markdown": [
       "\n",
       "A data.frame: 4 × 4\n",
       "\n",
       "| Measures &lt;fct&gt; | Estimates &lt;dbl&gt; | CI.ll &lt;dbl&gt; | CI.ul &lt;dbl&gt; |\n",
       "|---|---|---|---|\n",
       "| OR00 | 1.000000 |        NA |       NA |\n",
       "| OR01 | 1.203230 | 0.9099534 | 1.591030 |\n",
       "| OR10 | 1.096081 | 0.9416040 | 1.275901 |\n",
       "| OR11 | 1.608703 | 1.3671117 | 1.892987 |\n",
       "\n"
      ],
      "text/plain": [
       "  Measures Estimates CI.ll     CI.ul   \n",
       "1 OR00     1.000000         NA       NA\n",
       "2 OR01     1.203230  0.9099534 1.591030\n",
       "3 OR10     1.096081  0.9416040 1.275901\n",
       "4 OR11     1.608703  1.3671117 1.892987"
      ]
     },
     "metadata": {},
     "output_type": "display_data"
    }
   ],
   "source": [
    "#CKD, ND#\n",
    "\n",
    "#01 - Low Score (Lifestyle), 10 - High (PGS)\n",
    "M1 <- glm(CKD_only.0.0 ~ relevel(WT_IR2d2_cat1,ref=\"Ref_LowRisk\")*relevel(LIFESCORE_cat2,ref=\"Ref_Ideal\") + AGE.0.0 + SEX.0.0 + PC1 +\n",
    "                                        PC2 + PC3 + PC4 + PC5 + PC6 + PC7 + PC8 + PC9 + PC10, data=ND_UKBB, family=binomial) \n",
    "interactionR_04Dec(M1, exposure_names = c(\"WT_IR2d2_cat1\",\"LIFESCORE_cat2\"), ci.level = 0.95)\n",
    "#Macro, T2D, Intermediate Lifestyle, Intermiedate Risk\n",
    "M1 <- glm(CKD_only.0.0 ~ relevel(WT_IR2d2_cat2,ref=\"Ref_LowRisk\")*relevel(LIFESCORE_cat1,ref=\"Ref_Ideal\") + AGE.0.0 + SEX.0.0 + PC1 +\n",
    "                                        PC2 + PC3 + PC4 + PC5 + PC6 + PC7 + PC8 + PC9 + PC10, data=ND_UKBB, family=binomial) \n",
    "interactionR_04Dec(M1, exposure_names = c(\"WT_IR2d2_cat2\",\"LIFESCORE_cat1\"), ci.level = 0.95)\n",
    "##Macro, T2D, Intermediate Lifestyle, High Risk\n",
    "M1 <- glm(CKD_only.0.0 ~ relevel(WT_IR2d2_cat1,ref=\"Ref_LowRisk\")*relevel(LIFESCORE_cat1,ref=\"Ref_Ideal\") + AGE.0.0 + SEX.0.0 + PC1 +\n",
    "                                        PC2 + PC3 + PC4 + PC5 + PC6 + PC7 + PC8 + PC9 + PC10, data=ND_UKBB, family=binomial) \n",
    "interactionR_04Dec(M1, exposure_names = c(\"WT_IR2d2_cat1\",\"LIFESCORE_cat1\"), ci.level = 0.95)\n",
    "##Macro, T2D, Low Lifestyle, Moderate Risk\n",
    "M1 <- glm(CKD_only.0.0 ~ relevel(WT_IR2d2_cat2,ref=\"Ref_LowRisk\")*relevel(LIFESCORE_cat2,ref=\"Ref_Ideal\") + AGE.0.0 + SEX.0.0 + PC1 +\n",
    "                                        PC2 + PC3 + PC4 + PC5 + PC6 + PC7 + PC8 + PC9 + PC10, data=ND_UKBB, family=binomial) \n",
    "interactionR_04Dec(M1, exposure_names = c(\"WT_IR2d2_cat2\",\"LIFESCORE_cat2\"), ci.level = 0.95)"
   ]
  },
  {
   "cell_type": "code",
   "execution_count": 12,
   "metadata": {},
   "outputs": [
    {
     "data": {
      "text/html": [
       "<table>\n",
       "<caption>A data.frame: 4 × 4</caption>\n",
       "<thead>\n",
       "\t<tr><th scope=col>Measures</th><th scope=col>Estimates</th><th scope=col>CI.ll</th><th scope=col>CI.ul</th></tr>\n",
       "\t<tr><th scope=col>&lt;fct&gt;</th><th scope=col>&lt;dbl&gt;</th><th scope=col>&lt;dbl&gt;</th><th scope=col>&lt;dbl&gt;</th></tr>\n",
       "</thead>\n",
       "<tbody>\n",
       "\t<tr><td>OR00</td><td>1.0000000</td><td>      NA</td><td>      NA</td></tr>\n",
       "\t<tr><td>OR01</td><td>1.8652999</td><td>1.248622</td><td>2.786548</td></tr>\n",
       "\t<tr><td>OR10</td><td>0.8976211</td><td>0.633049</td><td>1.272767</td></tr>\n",
       "\t<tr><td>OR11</td><td>1.4663361</td><td>1.012822</td><td>2.122922</td></tr>\n",
       "</tbody>\n",
       "</table>\n"
      ],
      "text/latex": [
       "A data.frame: 4 × 4\n",
       "\\begin{tabular}{llll}\n",
       " Measures & Estimates & CI.ll & CI.ul\\\\\n",
       " <fct> & <dbl> & <dbl> & <dbl>\\\\\n",
       "\\hline\n",
       "\t OR00 & 1.0000000 &       NA &       NA\\\\\n",
       "\t OR01 & 1.8652999 & 1.248622 & 2.786548\\\\\n",
       "\t OR10 & 0.8976211 & 0.633049 & 1.272767\\\\\n",
       "\t OR11 & 1.4663361 & 1.012822 & 2.122922\\\\\n",
       "\\end{tabular}\n"
      ],
      "text/markdown": [
       "\n",
       "A data.frame: 4 × 4\n",
       "\n",
       "| Measures &lt;fct&gt; | Estimates &lt;dbl&gt; | CI.ll &lt;dbl&gt; | CI.ul &lt;dbl&gt; |\n",
       "|---|---|---|---|\n",
       "| OR00 | 1.0000000 |       NA |       NA |\n",
       "| OR01 | 1.8652999 | 1.248622 | 2.786548 |\n",
       "| OR10 | 0.8976211 | 0.633049 | 1.272767 |\n",
       "| OR11 | 1.4663361 | 1.012822 | 2.122922 |\n",
       "\n"
      ],
      "text/plain": [
       "  Measures Estimates CI.ll    CI.ul   \n",
       "1 OR00     1.0000000       NA       NA\n",
       "2 OR01     1.8652999 1.248622 2.786548\n",
       "3 OR10     0.8976211 0.633049 1.272767\n",
       "4 OR11     1.4663361 1.012822 2.122922"
      ]
     },
     "metadata": {},
     "output_type": "display_data"
    },
    {
     "data": {
      "text/html": [
       "<table>\n",
       "<caption>A data.frame: 4 × 4</caption>\n",
       "<thead>\n",
       "\t<tr><th scope=col>Measures</th><th scope=col>Estimates</th><th scope=col>CI.ll</th><th scope=col>CI.ul</th></tr>\n",
       "\t<tr><th scope=col>&lt;fct&gt;</th><th scope=col>&lt;dbl&gt;</th><th scope=col>&lt;dbl&gt;</th><th scope=col>&lt;dbl&gt;</th></tr>\n",
       "</thead>\n",
       "<tbody>\n",
       "\t<tr><td>OR00</td><td>1.000000</td><td>       NA</td><td>      NA</td></tr>\n",
       "\t<tr><td>OR01</td><td>1.242197</td><td>0.8731464</td><td>1.767235</td></tr>\n",
       "\t<tr><td>OR10</td><td>1.019418</td><td>0.7737315</td><td>1.343117</td></tr>\n",
       "\t<tr><td>OR11</td><td>1.250282</td><td>0.9510334</td><td>1.643692</td></tr>\n",
       "</tbody>\n",
       "</table>\n"
      ],
      "text/latex": [
       "A data.frame: 4 × 4\n",
       "\\begin{tabular}{llll}\n",
       " Measures & Estimates & CI.ll & CI.ul\\\\\n",
       " <fct> & <dbl> & <dbl> & <dbl>\\\\\n",
       "\\hline\n",
       "\t OR00 & 1.000000 &        NA &       NA\\\\\n",
       "\t OR01 & 1.242197 & 0.8731464 & 1.767235\\\\\n",
       "\t OR10 & 1.019418 & 0.7737315 & 1.343117\\\\\n",
       "\t OR11 & 1.250282 & 0.9510334 & 1.643692\\\\\n",
       "\\end{tabular}\n"
      ],
      "text/markdown": [
       "\n",
       "A data.frame: 4 × 4\n",
       "\n",
       "| Measures &lt;fct&gt; | Estimates &lt;dbl&gt; | CI.ll &lt;dbl&gt; | CI.ul &lt;dbl&gt; |\n",
       "|---|---|---|---|\n",
       "| OR00 | 1.000000 |        NA |       NA |\n",
       "| OR01 | 1.242197 | 0.8731464 | 1.767235 |\n",
       "| OR10 | 1.019418 | 0.7737315 | 1.343117 |\n",
       "| OR11 | 1.250282 | 0.9510334 | 1.643692 |\n",
       "\n"
      ],
      "text/plain": [
       "  Measures Estimates CI.ll     CI.ul   \n",
       "1 OR00     1.000000         NA       NA\n",
       "2 OR01     1.242197  0.8731464 1.767235\n",
       "3 OR10     1.019418  0.7737315 1.343117\n",
       "4 OR11     1.250282  0.9510334 1.643692"
      ]
     },
     "metadata": {},
     "output_type": "display_data"
    },
    {
     "data": {
      "text/html": [
       "<table>\n",
       "<caption>A data.frame: 4 × 4</caption>\n",
       "<thead>\n",
       "\t<tr><th scope=col>Measures</th><th scope=col>Estimates</th><th scope=col>CI.ll</th><th scope=col>CI.ul</th></tr>\n",
       "\t<tr><th scope=col>&lt;fct&gt;</th><th scope=col>&lt;dbl&gt;</th><th scope=col>&lt;dbl&gt;</th><th scope=col>&lt;dbl&gt;</th></tr>\n",
       "</thead>\n",
       "<tbody>\n",
       "\t<tr><td>OR00</td><td>1.0000000</td><td>       NA</td><td>      NA</td></tr>\n",
       "\t<tr><td>OR01</td><td>1.2691441</td><td>0.8916761</td><td>1.806404</td></tr>\n",
       "\t<tr><td>OR10</td><td>0.8710764</td><td>0.6147683</td><td>1.234244</td></tr>\n",
       "\t<tr><td>OR11</td><td>1.2689960</td><td>0.9177461</td><td>1.754680</td></tr>\n",
       "</tbody>\n",
       "</table>\n"
      ],
      "text/latex": [
       "A data.frame: 4 × 4\n",
       "\\begin{tabular}{llll}\n",
       " Measures & Estimates & CI.ll & CI.ul\\\\\n",
       " <fct> & <dbl> & <dbl> & <dbl>\\\\\n",
       "\\hline\n",
       "\t OR00 & 1.0000000 &        NA &       NA\\\\\n",
       "\t OR01 & 1.2691441 & 0.8916761 & 1.806404\\\\\n",
       "\t OR10 & 0.8710764 & 0.6147683 & 1.234244\\\\\n",
       "\t OR11 & 1.2689960 & 0.9177461 & 1.754680\\\\\n",
       "\\end{tabular}\n"
      ],
      "text/markdown": [
       "\n",
       "A data.frame: 4 × 4\n",
       "\n",
       "| Measures &lt;fct&gt; | Estimates &lt;dbl&gt; | CI.ll &lt;dbl&gt; | CI.ul &lt;dbl&gt; |\n",
       "|---|---|---|---|\n",
       "| OR00 | 1.0000000 |        NA |       NA |\n",
       "| OR01 | 1.2691441 | 0.8916761 | 1.806404 |\n",
       "| OR10 | 0.8710764 | 0.6147683 | 1.234244 |\n",
       "| OR11 | 1.2689960 | 0.9177461 | 1.754680 |\n",
       "\n"
      ],
      "text/plain": [
       "  Measures Estimates CI.ll     CI.ul   \n",
       "1 OR00     1.0000000        NA       NA\n",
       "2 OR01     1.2691441 0.8916761 1.806404\n",
       "3 OR10     0.8710764 0.6147683 1.234244\n",
       "4 OR11     1.2689960 0.9177461 1.754680"
      ]
     },
     "metadata": {},
     "output_type": "display_data"
    },
    {
     "data": {
      "text/html": [
       "<table>\n",
       "<caption>A data.frame: 4 × 4</caption>\n",
       "<thead>\n",
       "\t<tr><th scope=col>Measures</th><th scope=col>Estimates</th><th scope=col>CI.ll</th><th scope=col>CI.ul</th></tr>\n",
       "\t<tr><th scope=col>&lt;fct&gt;</th><th scope=col>&lt;dbl&gt;</th><th scope=col>&lt;dbl&gt;</th><th scope=col>&lt;dbl&gt;</th></tr>\n",
       "</thead>\n",
       "<tbody>\n",
       "\t<tr><td>OR00</td><td>1.000000</td><td>       NA</td><td>      NA</td></tr>\n",
       "\t<tr><td>OR01</td><td>1.845405</td><td>1.2391515</td><td>2.748267</td></tr>\n",
       "\t<tr><td>OR10</td><td>1.025114</td><td>0.7782127</td><td>1.350349</td></tr>\n",
       "\t<tr><td>OR11</td><td>1.423983</td><td>1.0745278</td><td>1.887088</td></tr>\n",
       "</tbody>\n",
       "</table>\n"
      ],
      "text/latex": [
       "A data.frame: 4 × 4\n",
       "\\begin{tabular}{llll}\n",
       " Measures & Estimates & CI.ll & CI.ul\\\\\n",
       " <fct> & <dbl> & <dbl> & <dbl>\\\\\n",
       "\\hline\n",
       "\t OR00 & 1.000000 &        NA &       NA\\\\\n",
       "\t OR01 & 1.845405 & 1.2391515 & 2.748267\\\\\n",
       "\t OR10 & 1.025114 & 0.7782127 & 1.350349\\\\\n",
       "\t OR11 & 1.423983 & 1.0745278 & 1.887088\\\\\n",
       "\\end{tabular}\n"
      ],
      "text/markdown": [
       "\n",
       "A data.frame: 4 × 4\n",
       "\n",
       "| Measures &lt;fct&gt; | Estimates &lt;dbl&gt; | CI.ll &lt;dbl&gt; | CI.ul &lt;dbl&gt; |\n",
       "|---|---|---|---|\n",
       "| OR00 | 1.000000 |        NA |       NA |\n",
       "| OR01 | 1.845405 | 1.2391515 | 2.748267 |\n",
       "| OR10 | 1.025114 | 0.7782127 | 1.350349 |\n",
       "| OR11 | 1.423983 | 1.0745278 | 1.887088 |\n",
       "\n"
      ],
      "text/plain": [
       "  Measures Estimates CI.ll     CI.ul   \n",
       "1 OR00     1.000000         NA       NA\n",
       "2 OR01     1.845405  1.2391515 2.748267\n",
       "3 OR10     1.025114  0.7782127 1.350349\n",
       "4 OR11     1.423983  1.0745278 1.887088"
      ]
     },
     "metadata": {},
     "output_type": "display_data"
    }
   ],
   "source": [
    "#All, T2D#\n",
    "\n",
    "#01 - Low Score (Lifestyle), 10 - High (PGS)\n",
    "M1 <- glm(ALL.0.0 ~ relevel(WT_IR2d2_cat1,ref=\"Ref_LowRisk\")*relevel(LIFESCORE_cat2,ref=\"Ref_Ideal\") + AGE.0.0 + SEX.0.0 + PC1 +\n",
    "                                        PC2 + PC3 + PC4 + PC5 + PC6 + PC7 + PC8 + PC9 + PC10, data=T2D_UKBB, family=binomial) \n",
    "interactionR_04Dec(M1, exposure_names = c(\"WT_IR2d2_cat1\",\"LIFESCORE_cat2\"), ci.level = 0.95)\n",
    "#Macro, T2D, Intermediate Lifestyle, Intermiedate Risk\n",
    "M1 <- glm(ALL.0.0 ~ relevel(WT_IR2d2_cat2,ref=\"Ref_LowRisk\")*relevel(LIFESCORE_cat1,ref=\"Ref_Ideal\") + AGE.0.0 + SEX.0.0 + PC1 +\n",
    "                                        PC2 + PC3 + PC4 + PC5 + PC6 + PC7 + PC8 + PC9 + PC10, data=T2D_UKBB, family=binomial) \n",
    "interactionR_04Dec(M1, exposure_names = c(\"WT_IR2d2_cat2\",\"LIFESCORE_cat1\"), ci.level = 0.95)\n",
    "##Macro, T2D, Intermediate Lifestyle, High Risk\n",
    "M1 <- glm(ALL.0.0 ~ relevel(WT_IR2d2_cat1,ref=\"Ref_LowRisk\")*relevel(LIFESCORE_cat1,ref=\"Ref_Ideal\") + AGE.0.0 + SEX.0.0 + PC1 +\n",
    "                                        PC2 + PC3 + PC4 + PC5 + PC6 + PC7 + PC8 + PC9 + PC10, data=T2D_UKBB, family=binomial) \n",
    "interactionR_04Dec(M1, exposure_names = c(\"WT_IR2d2_cat1\",\"LIFESCORE_cat1\"), ci.level = 0.95)\n",
    "##Macro, T2D, Low Lifestyle, Moderate Risk\n",
    "M1 <- glm(ALL.0.0 ~ relevel(WT_IR2d2_cat2,ref=\"Ref_LowRisk\")*relevel(LIFESCORE_cat2,ref=\"Ref_Ideal\") + AGE.0.0 + SEX.0.0 + PC1 +\n",
    "                                        PC2 + PC3 + PC4 + PC5 + PC6 + PC7 + PC8 + PC9 + PC10, data=T2D_UKBB, family=binomial) \n",
    "interactionR_04Dec(M1, exposure_names = c(\"WT_IR2d2_cat2\",\"LIFESCORE_cat2\"), ci.level = 0.95)"
   ]
  },
  {
   "cell_type": "code",
   "execution_count": 13,
   "metadata": {},
   "outputs": [
    {
     "data": {
      "text/html": [
       "<table>\n",
       "<caption>A data.frame: 4 × 4</caption>\n",
       "<thead>\n",
       "\t<tr><th scope=col>Measures</th><th scope=col>Estimates</th><th scope=col>CI.ll</th><th scope=col>CI.ul</th></tr>\n",
       "\t<tr><th scope=col>&lt;fct&gt;</th><th scope=col>&lt;dbl&gt;</th><th scope=col>&lt;dbl&gt;</th><th scope=col>&lt;dbl&gt;</th></tr>\n",
       "</thead>\n",
       "<tbody>\n",
       "\t<tr><td>OR00</td><td>1.000000</td><td>       NA</td><td>      NA</td></tr>\n",
       "\t<tr><td>OR01</td><td>1.250271</td><td>1.0537606</td><td>1.483427</td></tr>\n",
       "\t<tr><td>OR10</td><td>1.055406</td><td>0.9313531</td><td>1.195983</td></tr>\n",
       "\t<tr><td>OR11</td><td>1.381765</td><td>1.1689179</td><td>1.633368</td></tr>\n",
       "</tbody>\n",
       "</table>\n"
      ],
      "text/latex": [
       "A data.frame: 4 × 4\n",
       "\\begin{tabular}{llll}\n",
       " Measures & Estimates & CI.ll & CI.ul\\\\\n",
       " <fct> & <dbl> & <dbl> & <dbl>\\\\\n",
       "\\hline\n",
       "\t OR00 & 1.000000 &        NA &       NA\\\\\n",
       "\t OR01 & 1.250271 & 1.0537606 & 1.483427\\\\\n",
       "\t OR10 & 1.055406 & 0.9313531 & 1.195983\\\\\n",
       "\t OR11 & 1.381765 & 1.1689179 & 1.633368\\\\\n",
       "\\end{tabular}\n"
      ],
      "text/markdown": [
       "\n",
       "A data.frame: 4 × 4\n",
       "\n",
       "| Measures &lt;fct&gt; | Estimates &lt;dbl&gt; | CI.ll &lt;dbl&gt; | CI.ul &lt;dbl&gt; |\n",
       "|---|---|---|---|\n",
       "| OR00 | 1.000000 |        NA |       NA |\n",
       "| OR01 | 1.250271 | 1.0537606 | 1.483427 |\n",
       "| OR10 | 1.055406 | 0.9313531 | 1.195983 |\n",
       "| OR11 | 1.381765 | 1.1689179 | 1.633368 |\n",
       "\n"
      ],
      "text/plain": [
       "  Measures Estimates CI.ll     CI.ul   \n",
       "1 OR00     1.000000         NA       NA\n",
       "2 OR01     1.250271  1.0537606 1.483427\n",
       "3 OR10     1.055406  0.9313531 1.195983\n",
       "4 OR11     1.381765  1.1689179 1.633368"
      ]
     },
     "metadata": {},
     "output_type": "display_data"
    },
    {
     "data": {
      "text/html": [
       "<table>\n",
       "<caption>A data.frame: 4 × 4</caption>\n",
       "<thead>\n",
       "\t<tr><th scope=col>Measures</th><th scope=col>Estimates</th><th scope=col>CI.ll</th><th scope=col>CI.ul</th></tr>\n",
       "\t<tr><th scope=col>&lt;fct&gt;</th><th scope=col>&lt;dbl&gt;</th><th scope=col>&lt;dbl&gt;</th><th scope=col>&lt;dbl&gt;</th></tr>\n",
       "</thead>\n",
       "<tbody>\n",
       "\t<tr><td>OR00</td><td>1.0000000</td><td>       NA</td><td>      NA</td></tr>\n",
       "\t<tr><td>OR01</td><td>0.9657018</td><td>0.8448433</td><td>1.103850</td></tr>\n",
       "\t<tr><td>OR10</td><td>0.9861316</td><td>0.8970815</td><td>1.084021</td></tr>\n",
       "\t<tr><td>OR11</td><td>1.1630023</td><td>1.0576992</td><td>1.278789</td></tr>\n",
       "</tbody>\n",
       "</table>\n"
      ],
      "text/latex": [
       "A data.frame: 4 × 4\n",
       "\\begin{tabular}{llll}\n",
       " Measures & Estimates & CI.ll & CI.ul\\\\\n",
       " <fct> & <dbl> & <dbl> & <dbl>\\\\\n",
       "\\hline\n",
       "\t OR00 & 1.0000000 &        NA &       NA\\\\\n",
       "\t OR01 & 0.9657018 & 0.8448433 & 1.103850\\\\\n",
       "\t OR10 & 0.9861316 & 0.8970815 & 1.084021\\\\\n",
       "\t OR11 & 1.1630023 & 1.0576992 & 1.278789\\\\\n",
       "\\end{tabular}\n"
      ],
      "text/markdown": [
       "\n",
       "A data.frame: 4 × 4\n",
       "\n",
       "| Measures &lt;fct&gt; | Estimates &lt;dbl&gt; | CI.ll &lt;dbl&gt; | CI.ul &lt;dbl&gt; |\n",
       "|---|---|---|---|\n",
       "| OR00 | 1.0000000 |        NA |       NA |\n",
       "| OR01 | 0.9657018 | 0.8448433 | 1.103850 |\n",
       "| OR10 | 0.9861316 | 0.8970815 | 1.084021 |\n",
       "| OR11 | 1.1630023 | 1.0576992 | 1.278789 |\n",
       "\n"
      ],
      "text/plain": [
       "  Measures Estimates CI.ll     CI.ul   \n",
       "1 OR00     1.0000000        NA       NA\n",
       "2 OR01     0.9657018 0.8448433 1.103850\n",
       "3 OR10     0.9861316 0.8970815 1.084021\n",
       "4 OR11     1.1630023 1.0576992 1.278789"
      ]
     },
     "metadata": {},
     "output_type": "display_data"
    },
    {
     "data": {
      "text/html": [
       "<table>\n",
       "<caption>A data.frame: 4 × 4</caption>\n",
       "<thead>\n",
       "\t<tr><th scope=col>Measures</th><th scope=col>Estimates</th><th scope=col>CI.ll</th><th scope=col>CI.ul</th></tr>\n",
       "\t<tr><th scope=col>&lt;fct&gt;</th><th scope=col>&lt;dbl&gt;</th><th scope=col>&lt;dbl&gt;</th><th scope=col>&lt;dbl&gt;</th></tr>\n",
       "</thead>\n",
       "<tbody>\n",
       "\t<tr><td>OR00</td><td>1.0000000</td><td>       NA</td><td>      NA</td></tr>\n",
       "\t<tr><td>OR01</td><td>0.9682063</td><td>0.8469045</td><td>1.106882</td></tr>\n",
       "\t<tr><td>OR10</td><td>1.0590915</td><td>0.9346417</td><td>1.200112</td></tr>\n",
       "\t<tr><td>OR11</td><td>1.2495912</td><td>1.1006919</td><td>1.418633</td></tr>\n",
       "</tbody>\n",
       "</table>\n"
      ],
      "text/latex": [
       "A data.frame: 4 × 4\n",
       "\\begin{tabular}{llll}\n",
       " Measures & Estimates & CI.ll & CI.ul\\\\\n",
       " <fct> & <dbl> & <dbl> & <dbl>\\\\\n",
       "\\hline\n",
       "\t OR00 & 1.0000000 &        NA &       NA\\\\\n",
       "\t OR01 & 0.9682063 & 0.8469045 & 1.106882\\\\\n",
       "\t OR10 & 1.0590915 & 0.9346417 & 1.200112\\\\\n",
       "\t OR11 & 1.2495912 & 1.1006919 & 1.418633\\\\\n",
       "\\end{tabular}\n"
      ],
      "text/markdown": [
       "\n",
       "A data.frame: 4 × 4\n",
       "\n",
       "| Measures &lt;fct&gt; | Estimates &lt;dbl&gt; | CI.ll &lt;dbl&gt; | CI.ul &lt;dbl&gt; |\n",
       "|---|---|---|---|\n",
       "| OR00 | 1.0000000 |        NA |       NA |\n",
       "| OR01 | 0.9682063 | 0.8469045 | 1.106882 |\n",
       "| OR10 | 1.0590915 | 0.9346417 | 1.200112 |\n",
       "| OR11 | 1.2495912 | 1.1006919 | 1.418633 |\n",
       "\n"
      ],
      "text/plain": [
       "  Measures Estimates CI.ll     CI.ul   \n",
       "1 OR00     1.0000000        NA       NA\n",
       "2 OR01     0.9682063 0.8469045 1.106882\n",
       "3 OR10     1.0590915 0.9346417 1.200112\n",
       "4 OR11     1.2495912 1.1006919 1.418633"
      ]
     },
     "metadata": {},
     "output_type": "display_data"
    },
    {
     "data": {
      "text/html": [
       "<table>\n",
       "<caption>A data.frame: 4 × 4</caption>\n",
       "<thead>\n",
       "\t<tr><th scope=col>Measures</th><th scope=col>Estimates</th><th scope=col>CI.ll</th><th scope=col>CI.ul</th></tr>\n",
       "\t<tr><th scope=col>&lt;fct&gt;</th><th scope=col>&lt;dbl&gt;</th><th scope=col>&lt;dbl&gt;</th><th scope=col>&lt;dbl&gt;</th></tr>\n",
       "</thead>\n",
       "<tbody>\n",
       "\t<tr><td>OR00</td><td>1.0000000</td><td>       NA</td><td>      NA</td></tr>\n",
       "\t<tr><td>OR01</td><td>1.2466713</td><td>1.0512615</td><td>1.478404</td></tr>\n",
       "\t<tr><td>OR10</td><td>0.9852283</td><td>0.8962403</td><td>1.083052</td></tr>\n",
       "\t<tr><td>OR11</td><td>1.3463727</td><td>1.2152565</td><td>1.491635</td></tr>\n",
       "</tbody>\n",
       "</table>\n"
      ],
      "text/latex": [
       "A data.frame: 4 × 4\n",
       "\\begin{tabular}{llll}\n",
       " Measures & Estimates & CI.ll & CI.ul\\\\\n",
       " <fct> & <dbl> & <dbl> & <dbl>\\\\\n",
       "\\hline\n",
       "\t OR00 & 1.0000000 &        NA &       NA\\\\\n",
       "\t OR01 & 1.2466713 & 1.0512615 & 1.478404\\\\\n",
       "\t OR10 & 0.9852283 & 0.8962403 & 1.083052\\\\\n",
       "\t OR11 & 1.3463727 & 1.2152565 & 1.491635\\\\\n",
       "\\end{tabular}\n"
      ],
      "text/markdown": [
       "\n",
       "A data.frame: 4 × 4\n",
       "\n",
       "| Measures &lt;fct&gt; | Estimates &lt;dbl&gt; | CI.ll &lt;dbl&gt; | CI.ul &lt;dbl&gt; |\n",
       "|---|---|---|---|\n",
       "| OR00 | 1.0000000 |        NA |       NA |\n",
       "| OR01 | 1.2466713 | 1.0512615 | 1.478404 |\n",
       "| OR10 | 0.9852283 | 0.8962403 | 1.083052 |\n",
       "| OR11 | 1.3463727 | 1.2152565 | 1.491635 |\n",
       "\n"
      ],
      "text/plain": [
       "  Measures Estimates CI.ll     CI.ul   \n",
       "1 OR00     1.0000000        NA       NA\n",
       "2 OR01     1.2466713 1.0512615 1.478404\n",
       "3 OR10     0.9852283 0.8962403 1.083052\n",
       "4 OR11     1.3463727 1.2152565 1.491635"
      ]
     },
     "metadata": {},
     "output_type": "display_data"
    }
   ],
   "source": [
    "#All, ND#\n",
    "\n",
    "#01 - Low Score (Lifestyle), 10 - High (PGS)\n",
    "M1 <- glm(ALL.0.0 ~ relevel(WT_IR2d2_cat1,ref=\"Ref_LowRisk\")*relevel(LIFESCORE_cat2,ref=\"Ref_Ideal\") + AGE.0.0 + SEX.0.0 + PC1 +\n",
    "                                        PC2 + PC3 + PC4 + PC5 + PC6 + PC7 + PC8 + PC9 + PC10, data=ND_UKBB, family=binomial) \n",
    "interactionR_04Dec(M1, exposure_names = c(\"WT_IR2d2_cat1\",\"LIFESCORE_cat2\"), ci.level = 0.95)\n",
    "#Macro, T2D, Intermediate Lifestyle, Intermiedate Risk\n",
    "M1 <- glm(ALL.0.0 ~ relevel(WT_IR2d2_cat2,ref=\"Ref_LowRisk\")*relevel(LIFESCORE_cat1,ref=\"Ref_Ideal\") + AGE.0.0 + SEX.0.0 + PC1 +\n",
    "                                        PC2 + PC3 + PC4 + PC5 + PC6 + PC7 + PC8 + PC9 + PC10, data=ND_UKBB, family=binomial) \n",
    "interactionR_04Dec(M1, exposure_names = c(\"WT_IR2d2_cat2\",\"LIFESCORE_cat1\"), ci.level = 0.95)\n",
    "##Macro, T2D, Intermediate Lifestyle, High Risk\n",
    "M1 <- glm(ALL.0.0 ~ relevel(WT_IR2d2_cat1,ref=\"Ref_LowRisk\")*relevel(LIFESCORE_cat1,ref=\"Ref_Ideal\") + AGE.0.0 + SEX.0.0 + PC1 +\n",
    "                                        PC2 + PC3 + PC4 + PC5 + PC6 + PC7 + PC8 + PC9 + PC10, data=ND_UKBB, family=binomial) \n",
    "interactionR_04Dec(M1, exposure_names = c(\"WT_IR2d2_cat1\",\"LIFESCORE_cat1\"), ci.level = 0.95)\n",
    "##Macro, T2D, Low Lifestyle, Moderate Risk\n",
    "M1 <- glm(ALL.0.0 ~ relevel(WT_IR2d2_cat2,ref=\"Ref_LowRisk\")*relevel(LIFESCORE_cat2,ref=\"Ref_Ideal\") + AGE.0.0 + SEX.0.0 + PC1 +\n",
    "                                        PC2 + PC3 + PC4 + PC5 + PC6 + PC7 + PC8 + PC9 + PC10, data=ND_UKBB, family=binomial) \n",
    "interactionR_04Dec(M1, exposure_names = c(\"WT_IR2d2_cat2\",\"LIFESCORE_cat2\"), ci.level = 0.95)"
   ]
  },
  {
   "cell_type": "code",
   "execution_count": 14,
   "metadata": {},
   "outputs": [
    {
     "data": {
      "text/html": [
       "<table>\n",
       "<caption>A data.frame: 4 × 4</caption>\n",
       "<thead>\n",
       "\t<tr><th scope=col>Measures</th><th scope=col>Estimates</th><th scope=col>CI.ll</th><th scope=col>CI.ul</th></tr>\n",
       "\t<tr><th scope=col>&lt;fct&gt;</th><th scope=col>&lt;dbl&gt;</th><th scope=col>&lt;dbl&gt;</th><th scope=col>&lt;dbl&gt;</th></tr>\n",
       "</thead>\n",
       "<tbody>\n",
       "\t<tr><td>OR00</td><td>1.0000000</td><td>       NA</td><td>      NA</td></tr>\n",
       "\t<tr><td>OR01</td><td>1.5833571</td><td>0.3444921</td><td>7.277438</td></tr>\n",
       "\t<tr><td>OR10</td><td>1.7973160</td><td>0.5624193</td><td>5.743659</td></tr>\n",
       "\t<tr><td>OR11</td><td>0.9870003</td><td>0.2172143</td><td>4.484832</td></tr>\n",
       "</tbody>\n",
       "</table>\n"
      ],
      "text/latex": [
       "A data.frame: 4 × 4\n",
       "\\begin{tabular}{llll}\n",
       " Measures & Estimates & CI.ll & CI.ul\\\\\n",
       " <fct> & <dbl> & <dbl> & <dbl>\\\\\n",
       "\\hline\n",
       "\t OR00 & 1.0000000 &        NA &       NA\\\\\n",
       "\t OR01 & 1.5833571 & 0.3444921 & 7.277438\\\\\n",
       "\t OR10 & 1.7973160 & 0.5624193 & 5.743659\\\\\n",
       "\t OR11 & 0.9870003 & 0.2172143 & 4.484832\\\\\n",
       "\\end{tabular}\n"
      ],
      "text/markdown": [
       "\n",
       "A data.frame: 4 × 4\n",
       "\n",
       "| Measures &lt;fct&gt; | Estimates &lt;dbl&gt; | CI.ll &lt;dbl&gt; | CI.ul &lt;dbl&gt; |\n",
       "|---|---|---|---|\n",
       "| OR00 | 1.0000000 |        NA |       NA |\n",
       "| OR01 | 1.5833571 | 0.3444921 | 7.277438 |\n",
       "| OR10 | 1.7973160 | 0.5624193 | 5.743659 |\n",
       "| OR11 | 0.9870003 | 0.2172143 | 4.484832 |\n",
       "\n"
      ],
      "text/plain": [
       "  Measures Estimates CI.ll     CI.ul   \n",
       "1 OR00     1.0000000        NA       NA\n",
       "2 OR01     1.5833571 0.3444921 7.277438\n",
       "3 OR10     1.7973160 0.5624193 5.743659\n",
       "4 OR11     0.9870003 0.2172143 4.484832"
      ]
     },
     "metadata": {},
     "output_type": "display_data"
    },
    {
     "data": {
      "text/html": [
       "<table>\n",
       "<caption>A data.frame: 4 × 4</caption>\n",
       "<thead>\n",
       "\t<tr><th scope=col>Measures</th><th scope=col>Estimates</th><th scope=col>CI.ll</th><th scope=col>CI.ul</th></tr>\n",
       "\t<tr><th scope=col>&lt;fct&gt;</th><th scope=col>&lt;dbl&gt;</th><th scope=col>&lt;dbl&gt;</th><th scope=col>&lt;dbl&gt;</th></tr>\n",
       "</thead>\n",
       "<tbody>\n",
       "\t<tr><td>OR00</td><td>1.0000000</td><td>        NA</td><td>      NA</td></tr>\n",
       "\t<tr><td>OR01</td><td>0.4458831</td><td>0.08122217</td><td>2.447752</td></tr>\n",
       "\t<tr><td>OR10</td><td>1.6777296</td><td>0.60881070</td><td>4.623402</td></tr>\n",
       "\t<tr><td>OR11</td><td>2.0187011</td><td>0.73708397</td><td>5.528751</td></tr>\n",
       "</tbody>\n",
       "</table>\n"
      ],
      "text/latex": [
       "A data.frame: 4 × 4\n",
       "\\begin{tabular}{llll}\n",
       " Measures & Estimates & CI.ll & CI.ul\\\\\n",
       " <fct> & <dbl> & <dbl> & <dbl>\\\\\n",
       "\\hline\n",
       "\t OR00 & 1.0000000 &         NA &       NA\\\\\n",
       "\t OR01 & 0.4458831 & 0.08122217 & 2.447752\\\\\n",
       "\t OR10 & 1.6777296 & 0.60881070 & 4.623402\\\\\n",
       "\t OR11 & 2.0187011 & 0.73708397 & 5.528751\\\\\n",
       "\\end{tabular}\n"
      ],
      "text/markdown": [
       "\n",
       "A data.frame: 4 × 4\n",
       "\n",
       "| Measures &lt;fct&gt; | Estimates &lt;dbl&gt; | CI.ll &lt;dbl&gt; | CI.ul &lt;dbl&gt; |\n",
       "|---|---|---|---|\n",
       "| OR00 | 1.0000000 |         NA |       NA |\n",
       "| OR01 | 0.4458831 | 0.08122217 | 2.447752 |\n",
       "| OR10 | 1.6777296 | 0.60881070 | 4.623402 |\n",
       "| OR11 | 2.0187011 | 0.73708397 | 5.528751 |\n",
       "\n"
      ],
      "text/plain": [
       "  Measures Estimates CI.ll      CI.ul   \n",
       "1 OR00     1.0000000         NA       NA\n",
       "2 OR01     0.4458831 0.08122217 2.447752\n",
       "3 OR10     1.6777296 0.60881070 4.623402\n",
       "4 OR11     2.0187011 0.73708397 5.528751"
      ]
     },
     "metadata": {},
     "output_type": "display_data"
    },
    {
     "data": {
      "text/html": [
       "<table>\n",
       "<caption>A data.frame: 4 × 4</caption>\n",
       "<thead>\n",
       "\t<tr><th scope=col>Measures</th><th scope=col>Estimates</th><th scope=col>CI.ll</th><th scope=col>CI.ul</th></tr>\n",
       "\t<tr><th scope=col>&lt;fct&gt;</th><th scope=col>&lt;dbl&gt;</th><th scope=col>&lt;dbl&gt;</th><th scope=col>&lt;dbl&gt;</th></tr>\n",
       "</thead>\n",
       "<tbody>\n",
       "\t<tr><td>OR00</td><td>1.0000000</td><td>        NA</td><td>      NA</td></tr>\n",
       "\t<tr><td>OR01</td><td>0.4613921</td><td>0.08355443</td><td>2.547832</td></tr>\n",
       "\t<tr><td>OR10</td><td>1.8175456</td><td>0.56894157</td><td>5.806347</td></tr>\n",
       "\t<tr><td>OR11</td><td>2.0430151</td><td>0.65673591</td><td>6.355539</td></tr>\n",
       "</tbody>\n",
       "</table>\n"
      ],
      "text/latex": [
       "A data.frame: 4 × 4\n",
       "\\begin{tabular}{llll}\n",
       " Measures & Estimates & CI.ll & CI.ul\\\\\n",
       " <fct> & <dbl> & <dbl> & <dbl>\\\\\n",
       "\\hline\n",
       "\t OR00 & 1.0000000 &         NA &       NA\\\\\n",
       "\t OR01 & 0.4613921 & 0.08355443 & 2.547832\\\\\n",
       "\t OR10 & 1.8175456 & 0.56894157 & 5.806347\\\\\n",
       "\t OR11 & 2.0430151 & 0.65673591 & 6.355539\\\\\n",
       "\\end{tabular}\n"
      ],
      "text/markdown": [
       "\n",
       "A data.frame: 4 × 4\n",
       "\n",
       "| Measures &lt;fct&gt; | Estimates &lt;dbl&gt; | CI.ll &lt;dbl&gt; | CI.ul &lt;dbl&gt; |\n",
       "|---|---|---|---|\n",
       "| OR00 | 1.0000000 |         NA |       NA |\n",
       "| OR01 | 0.4613921 | 0.08355443 | 2.547832 |\n",
       "| OR10 | 1.8175456 | 0.56894157 | 5.806347 |\n",
       "| OR11 | 2.0430151 | 0.65673591 | 6.355539 |\n",
       "\n"
      ],
      "text/plain": [
       "  Measures Estimates CI.ll      CI.ul   \n",
       "1 OR00     1.0000000         NA       NA\n",
       "2 OR01     0.4613921 0.08355443 2.547832\n",
       "3 OR10     1.8175456 0.56894157 5.806347\n",
       "4 OR11     2.0430151 0.65673591 6.355539"
      ]
     },
     "metadata": {},
     "output_type": "display_data"
    },
    {
     "data": {
      "text/html": [
       "<table>\n",
       "<caption>A data.frame: 4 × 4</caption>\n",
       "<thead>\n",
       "\t<tr><th scope=col>Measures</th><th scope=col>Estimates</th><th scope=col>CI.ll</th><th scope=col>CI.ul</th></tr>\n",
       "\t<tr><th scope=col>&lt;fct&gt;</th><th scope=col>&lt;dbl&gt;</th><th scope=col>&lt;dbl&gt;</th><th scope=col>&lt;dbl&gt;</th></tr>\n",
       "</thead>\n",
       "<tbody>\n",
       "\t<tr><td>OR00</td><td>1.000000</td><td>       NA</td><td>      NA</td></tr>\n",
       "\t<tr><td>OR01</td><td>1.438368</td><td>0.3189907</td><td>6.485773</td></tr>\n",
       "\t<tr><td>OR10</td><td>1.694097</td><td>0.6149556</td><td>4.666944</td></tr>\n",
       "\t<tr><td>OR11</td><td>3.409586</td><td>1.2395971</td><td>9.378271</td></tr>\n",
       "</tbody>\n",
       "</table>\n"
      ],
      "text/latex": [
       "A data.frame: 4 × 4\n",
       "\\begin{tabular}{llll}\n",
       " Measures & Estimates & CI.ll & CI.ul\\\\\n",
       " <fct> & <dbl> & <dbl> & <dbl>\\\\\n",
       "\\hline\n",
       "\t OR00 & 1.000000 &        NA &       NA\\\\\n",
       "\t OR01 & 1.438368 & 0.3189907 & 6.485773\\\\\n",
       "\t OR10 & 1.694097 & 0.6149556 & 4.666944\\\\\n",
       "\t OR11 & 3.409586 & 1.2395971 & 9.378271\\\\\n",
       "\\end{tabular}\n"
      ],
      "text/markdown": [
       "\n",
       "A data.frame: 4 × 4\n",
       "\n",
       "| Measures &lt;fct&gt; | Estimates &lt;dbl&gt; | CI.ll &lt;dbl&gt; | CI.ul &lt;dbl&gt; |\n",
       "|---|---|---|---|\n",
       "| OR00 | 1.000000 |        NA |       NA |\n",
       "| OR01 | 1.438368 | 0.3189907 | 6.485773 |\n",
       "| OR10 | 1.694097 | 0.6149556 | 4.666944 |\n",
       "| OR11 | 3.409586 | 1.2395971 | 9.378271 |\n",
       "\n"
      ],
      "text/plain": [
       "  Measures Estimates CI.ll     CI.ul   \n",
       "1 OR00     1.000000         NA       NA\n",
       "2 OR01     1.438368  0.3189907 6.485773\n",
       "3 OR10     1.694097  0.6149556 4.666944\n",
       "4 OR11     3.409586  1.2395971 9.378271"
      ]
     },
     "metadata": {},
     "output_type": "display_data"
    }
   ],
   "source": [
    "#DN, T2D#\n",
    "\n",
    "#01 - Low Score (Lifestyle), 10 - High (PGS)\n",
    "M1 <- glm(DN.0.0 ~ relevel(WT_IR2d2_cat1,ref=\"Ref_LowRisk\")*relevel(LIFESCORE_cat2,ref=\"Ref_Ideal\") + AGE.0.0 + SEX.0.0 + PC1 +\n",
    "                                        PC2 + PC3 + PC4 + PC5 + PC6 + PC7 + PC8 + PC9 + PC10, data=T2D_UKBB, family=binomial) \n",
    "interactionR_04Dec(M1, exposure_names = c(\"WT_IR2d2_cat1\",\"LIFESCORE_cat2\"), ci.level = 0.95)\n",
    "#Macro, T2D, Intermediate Lifestyle, Intermiedate Risk\n",
    "M1 <- glm(DN.0.0 ~ relevel(WT_IR2d2_cat2,ref=\"Ref_LowRisk\")*relevel(LIFESCORE_cat1,ref=\"Ref_Ideal\") + AGE.0.0 + SEX.0.0 + PC1 +\n",
    "                                        PC2 + PC3 + PC4 + PC5 + PC6 + PC7 + PC8 + PC9 + PC10, data=T2D_UKBB, family=binomial) \n",
    "interactionR_04Dec(M1, exposure_names = c(\"WT_IR2d2_cat2\",\"LIFESCORE_cat1\"), ci.level = 0.95)\n",
    "##Macro, T2D, Intermediate Lifestyle, High Risk\n",
    "M1 <- glm(DN.0.0 ~ relevel(WT_IR2d2_cat1,ref=\"Ref_LowRisk\")*relevel(LIFESCORE_cat1,ref=\"Ref_Ideal\") + AGE.0.0 + SEX.0.0 + PC1 +\n",
    "                                        PC2 + PC3 + PC4 + PC5 + PC6 + PC7 + PC8 + PC9 + PC10, data=T2D_UKBB, family=binomial) \n",
    "interactionR_04Dec(M1, exposure_names = c(\"WT_IR2d2_cat1\",\"LIFESCORE_cat1\"), ci.level = 0.95)\n",
    "##Macro, T2D, Low Lifestyle, Moderate Risk\n",
    "M1 <- glm(DN.0.0 ~ relevel(WT_IR2d2_cat2,ref=\"Ref_LowRisk\")*relevel(LIFESCORE_cat2,ref=\"Ref_Ideal\") + AGE.0.0 + SEX.0.0 + PC1 +\n",
    "                                        PC2 + PC3 + PC4 + PC5 + PC6 + PC7 + PC8 + PC9 + PC10, data=T2D_UKBB, family=binomial) \n",
    "interactionR_04Dec(M1, exposure_names = c(\"WT_IR2d2_cat2\",\"LIFESCORE_cat2\"), ci.level = 0.95)"
   ]
  },
  {
   "cell_type": "code",
   "execution_count": 15,
   "metadata": {},
   "outputs": [
    {
     "data": {
      "text/html": [
       "<table>\n",
       "<caption>A data.frame: 4 × 4</caption>\n",
       "<thead>\n",
       "\t<tr><th scope=col>Measures</th><th scope=col>Estimates</th><th scope=col>CI.ll</th><th scope=col>CI.ul</th></tr>\n",
       "\t<tr><th scope=col>&lt;fct&gt;</th><th scope=col>&lt;dbl&gt;</th><th scope=col>&lt;dbl&gt;</th><th scope=col>&lt;dbl&gt;</th></tr>\n",
       "</thead>\n",
       "<tbody>\n",
       "\t<tr><td>OR00</td><td>1.0000000</td><td>       NA</td><td>      NA</td></tr>\n",
       "\t<tr><td>OR01</td><td>1.1027059</td><td>0.6340208</td><td>1.917855</td></tr>\n",
       "\t<tr><td>OR10</td><td>0.7742438</td><td>0.5072537</td><td>1.181763</td></tr>\n",
       "\t<tr><td>OR11</td><td>1.1382599</td><td>0.6545668</td><td>1.979379</td></tr>\n",
       "</tbody>\n",
       "</table>\n"
      ],
      "text/latex": [
       "A data.frame: 4 × 4\n",
       "\\begin{tabular}{llll}\n",
       " Measures & Estimates & CI.ll & CI.ul\\\\\n",
       " <fct> & <dbl> & <dbl> & <dbl>\\\\\n",
       "\\hline\n",
       "\t OR00 & 1.0000000 &        NA &       NA\\\\\n",
       "\t OR01 & 1.1027059 & 0.6340208 & 1.917855\\\\\n",
       "\t OR10 & 0.7742438 & 0.5072537 & 1.181763\\\\\n",
       "\t OR11 & 1.1382599 & 0.6545668 & 1.979379\\\\\n",
       "\\end{tabular}\n"
      ],
      "text/markdown": [
       "\n",
       "A data.frame: 4 × 4\n",
       "\n",
       "| Measures &lt;fct&gt; | Estimates &lt;dbl&gt; | CI.ll &lt;dbl&gt; | CI.ul &lt;dbl&gt; |\n",
       "|---|---|---|---|\n",
       "| OR00 | 1.0000000 |        NA |       NA |\n",
       "| OR01 | 1.1027059 | 0.6340208 | 1.917855 |\n",
       "| OR10 | 0.7742438 | 0.5072537 | 1.181763 |\n",
       "| OR11 | 1.1382599 | 0.6545668 | 1.979379 |\n",
       "\n"
      ],
      "text/plain": [
       "  Measures Estimates CI.ll     CI.ul   \n",
       "1 OR00     1.0000000        NA       NA\n",
       "2 OR01     1.1027059 0.6340208 1.917855\n",
       "3 OR10     0.7742438 0.5072537 1.181763\n",
       "4 OR11     1.1382599 0.6545668 1.979379"
      ]
     },
     "metadata": {},
     "output_type": "display_data"
    },
    {
     "data": {
      "text/html": [
       "<table>\n",
       "<caption>A data.frame: 4 × 4</caption>\n",
       "<thead>\n",
       "\t<tr><th scope=col>Measures</th><th scope=col>Estimates</th><th scope=col>CI.ll</th><th scope=col>CI.ul</th></tr>\n",
       "\t<tr><th scope=col>&lt;fct&gt;</th><th scope=col>&lt;dbl&gt;</th><th scope=col>&lt;dbl&gt;</th><th scope=col>&lt;dbl&gt;</th></tr>\n",
       "</thead>\n",
       "<tbody>\n",
       "\t<tr><td>OR00</td><td>1.0000000</td><td>       NA</td><td>      NA</td></tr>\n",
       "\t<tr><td>OR01</td><td>0.9243315</td><td>0.6075924</td><td>1.406187</td></tr>\n",
       "\t<tr><td>OR10</td><td>0.7795237</td><td>0.5778532</td><td>1.051577</td></tr>\n",
       "\t<tr><td>OR11</td><td>1.0830650</td><td>0.8051585</td><td>1.456893</td></tr>\n",
       "</tbody>\n",
       "</table>\n"
      ],
      "text/latex": [
       "A data.frame: 4 × 4\n",
       "\\begin{tabular}{llll}\n",
       " Measures & Estimates & CI.ll & CI.ul\\\\\n",
       " <fct> & <dbl> & <dbl> & <dbl>\\\\\n",
       "\\hline\n",
       "\t OR00 & 1.0000000 &        NA &       NA\\\\\n",
       "\t OR01 & 0.9243315 & 0.6075924 & 1.406187\\\\\n",
       "\t OR10 & 0.7795237 & 0.5778532 & 1.051577\\\\\n",
       "\t OR11 & 1.0830650 & 0.8051585 & 1.456893\\\\\n",
       "\\end{tabular}\n"
      ],
      "text/markdown": [
       "\n",
       "A data.frame: 4 × 4\n",
       "\n",
       "| Measures &lt;fct&gt; | Estimates &lt;dbl&gt; | CI.ll &lt;dbl&gt; | CI.ul &lt;dbl&gt; |\n",
       "|---|---|---|---|\n",
       "| OR00 | 1.0000000 |        NA |       NA |\n",
       "| OR01 | 0.9243315 | 0.6075924 | 1.406187 |\n",
       "| OR10 | 0.7795237 | 0.5778532 | 1.051577 |\n",
       "| OR11 | 1.0830650 | 0.8051585 | 1.456893 |\n",
       "\n"
      ],
      "text/plain": [
       "  Measures Estimates CI.ll     CI.ul   \n",
       "1 OR00     1.0000000        NA       NA\n",
       "2 OR01     0.9243315 0.6075924 1.406187\n",
       "3 OR10     0.7795237 0.5778532 1.051577\n",
       "4 OR11     1.0830650 0.8051585 1.456893"
      ]
     },
     "metadata": {},
     "output_type": "display_data"
    },
    {
     "data": {
      "text/html": [
       "<table>\n",
       "<caption>A data.frame: 4 × 4</caption>\n",
       "<thead>\n",
       "\t<tr><th scope=col>Measures</th><th scope=col>Estimates</th><th scope=col>CI.ll</th><th scope=col>CI.ul</th></tr>\n",
       "\t<tr><th scope=col>&lt;fct&gt;</th><th scope=col>&lt;dbl&gt;</th><th scope=col>&lt;dbl&gt;</th><th scope=col>&lt;dbl&gt;</th></tr>\n",
       "</thead>\n",
       "<tbody>\n",
       "\t<tr><td>OR00</td><td>1.0000000</td><td>       NA</td><td>      NA</td></tr>\n",
       "\t<tr><td>OR01</td><td>0.9367511</td><td>0.6155349</td><td>1.425594</td></tr>\n",
       "\t<tr><td>OR10</td><td>0.7746388</td><td>0.5076341</td><td>1.182082</td></tr>\n",
       "\t<tr><td>OR11</td><td>1.4602747</td><td>1.0005236</td><td>2.131286</td></tr>\n",
       "</tbody>\n",
       "</table>\n"
      ],
      "text/latex": [
       "A data.frame: 4 × 4\n",
       "\\begin{tabular}{llll}\n",
       " Measures & Estimates & CI.ll & CI.ul\\\\\n",
       " <fct> & <dbl> & <dbl> & <dbl>\\\\\n",
       "\\hline\n",
       "\t OR00 & 1.0000000 &        NA &       NA\\\\\n",
       "\t OR01 & 0.9367511 & 0.6155349 & 1.425594\\\\\n",
       "\t OR10 & 0.7746388 & 0.5076341 & 1.182082\\\\\n",
       "\t OR11 & 1.4602747 & 1.0005236 & 2.131286\\\\\n",
       "\\end{tabular}\n"
      ],
      "text/markdown": [
       "\n",
       "A data.frame: 4 × 4\n",
       "\n",
       "| Measures &lt;fct&gt; | Estimates &lt;dbl&gt; | CI.ll &lt;dbl&gt; | CI.ul &lt;dbl&gt; |\n",
       "|---|---|---|---|\n",
       "| OR00 | 1.0000000 |        NA |       NA |\n",
       "| OR01 | 0.9367511 | 0.6155349 | 1.425594 |\n",
       "| OR10 | 0.7746388 | 0.5076341 | 1.182082 |\n",
       "| OR11 | 1.4602747 | 1.0005236 | 2.131286 |\n",
       "\n"
      ],
      "text/plain": [
       "  Measures Estimates CI.ll     CI.ul   \n",
       "1 OR00     1.0000000        NA       NA\n",
       "2 OR01     0.9367511 0.6155349 1.425594\n",
       "3 OR10     0.7746388 0.5076341 1.182082\n",
       "4 OR11     1.4602747 1.0005236 2.131286"
      ]
     },
     "metadata": {},
     "output_type": "display_data"
    },
    {
     "data": {
      "text/html": [
       "<table>\n",
       "<caption>A data.frame: 4 × 4</caption>\n",
       "<thead>\n",
       "\t<tr><th scope=col>Measures</th><th scope=col>Estimates</th><th scope=col>CI.ll</th><th scope=col>CI.ul</th></tr>\n",
       "\t<tr><th scope=col>&lt;fct&gt;</th><th scope=col>&lt;dbl&gt;</th><th scope=col>&lt;dbl&gt;</th><th scope=col>&lt;dbl&gt;</th></tr>\n",
       "</thead>\n",
       "<tbody>\n",
       "\t<tr><td>OR00</td><td>1.0000000</td><td>       NA</td><td>      NA</td></tr>\n",
       "\t<tr><td>OR01</td><td>1.0808664</td><td>0.6224549</td><td>1.876879</td></tr>\n",
       "\t<tr><td>OR10</td><td>0.7793127</td><td>0.5776889</td><td>1.051307</td></tr>\n",
       "\t<tr><td>OR11</td><td>1.3665759</td><td>0.9950074</td><td>1.876900</td></tr>\n",
       "</tbody>\n",
       "</table>\n"
      ],
      "text/latex": [
       "A data.frame: 4 × 4\n",
       "\\begin{tabular}{llll}\n",
       " Measures & Estimates & CI.ll & CI.ul\\\\\n",
       " <fct> & <dbl> & <dbl> & <dbl>\\\\\n",
       "\\hline\n",
       "\t OR00 & 1.0000000 &        NA &       NA\\\\\n",
       "\t OR01 & 1.0808664 & 0.6224549 & 1.876879\\\\\n",
       "\t OR10 & 0.7793127 & 0.5776889 & 1.051307\\\\\n",
       "\t OR11 & 1.3665759 & 0.9950074 & 1.876900\\\\\n",
       "\\end{tabular}\n"
      ],
      "text/markdown": [
       "\n",
       "A data.frame: 4 × 4\n",
       "\n",
       "| Measures &lt;fct&gt; | Estimates &lt;dbl&gt; | CI.ll &lt;dbl&gt; | CI.ul &lt;dbl&gt; |\n",
       "|---|---|---|---|\n",
       "| OR00 | 1.0000000 |        NA |       NA |\n",
       "| OR01 | 1.0808664 | 0.6224549 | 1.876879 |\n",
       "| OR10 | 0.7793127 | 0.5776889 | 1.051307 |\n",
       "| OR11 | 1.3665759 | 0.9950074 | 1.876900 |\n",
       "\n"
      ],
      "text/plain": [
       "  Measures Estimates CI.ll     CI.ul   \n",
       "1 OR00     1.0000000        NA       NA\n",
       "2 OR01     1.0808664 0.6224549 1.876879\n",
       "3 OR10     0.7793127 0.5776889 1.051307\n",
       "4 OR11     1.3665759 0.9950074 1.876900"
      ]
     },
     "metadata": {},
     "output_type": "display_data"
    }
   ],
   "source": [
    "#DN, ND#\n",
    "\n",
    "#01 - Low Score (Lifestyle), 10 - High (PGS)\n",
    "M1 <- glm(DN.0.0 ~ relevel(WT_IR2d2_cat1,ref=\"Ref_LowRisk\")*relevel(LIFESCORE_cat2,ref=\"Ref_Ideal\") + AGE.0.0 + SEX.0.0 + PC1 +\n",
    "                                        PC2 + PC3 + PC4 + PC5 + PC6 + PC7 + PC8 + PC9 + PC10, data=ND_UKBB, family=binomial) \n",
    "interactionR_04Dec(M1, exposure_names = c(\"WT_IR2d2_cat1\",\"LIFESCORE_cat2\"), ci.level = 0.95)\n",
    "#Macro, T2D, Intermediate Lifestyle, Intermiedate Risk\n",
    "M1 <- glm(DN.0.0 ~ relevel(WT_IR2d2_cat2,ref=\"Ref_LowRisk\")*relevel(LIFESCORE_cat1,ref=\"Ref_Ideal\") + AGE.0.0 + SEX.0.0 + PC1 +\n",
    "                                        PC2 + PC3 + PC4 + PC5 + PC6 + PC7 + PC8 + PC9 + PC10, data=ND_UKBB, family=binomial) \n",
    "interactionR_04Dec(M1, exposure_names = c(\"WT_IR2d2_cat2\",\"LIFESCORE_cat1\"), ci.level = 0.95)\n",
    "##Macro, T2D, Intermediate Lifestyle, High Risk\n",
    "M1 <- glm(DN.0.0 ~ relevel(WT_IR2d2_cat1,ref=\"Ref_LowRisk\")*relevel(LIFESCORE_cat1,ref=\"Ref_Ideal\") + AGE.0.0 + SEX.0.0 + PC1 +\n",
    "                                        PC2 + PC3 + PC4 + PC5 + PC6 + PC7 + PC8 + PC9 + PC10, data=ND_UKBB, family=binomial) \n",
    "interactionR_04Dec(M1, exposure_names = c(\"WT_IR2d2_cat1\",\"LIFESCORE_cat1\"), ci.level = 0.95)\n",
    "##Macro, T2D, Low Lifestyle, Moderate Risk\n",
    "M1 <- glm(DN.0.0 ~ relevel(WT_IR2d2_cat2,ref=\"Ref_LowRisk\")*relevel(LIFESCORE_cat2,ref=\"Ref_Ideal\") + AGE.0.0 + SEX.0.0 + PC1 +\n",
    "                                        PC2 + PC3 + PC4 + PC5 + PC6 + PC7 + PC8 + PC9 + PC10, data=ND_UKBB, family=binomial) \n",
    "interactionR_04Dec(M1, exposure_names = c(\"WT_IR2d2_cat2\",\"LIFESCORE_cat2\"), ci.level = 0.95)"
   ]
  },
  {
   "cell_type": "code",
   "execution_count": 16,
   "metadata": {},
   "outputs": [],
   "source": [
    "#Significance Test#\n",
    "#PGS modeled as 3 category; Lifestyle Score modeled as 4 category#\n",
    "\n",
    "#Lifescore category\n",
    "#Dichotomous Dummy Variables\n",
    "table(ND_UKBB$LIFESCORE)\n",
    "table(T2D_UKBB$LIFESCORE)\n",
    "\n",
    "#DN-ND\n",
    "#M1 <- glm(DN.0.0 ~ relevel(WT_IR2d2_cat1,ref=\"Ref_LowRisk\")*relevel(LIFESCORE_cat1,ref=\"Ref_Ideal\") + AGE.0.0 + SEX.0.0 + PC1 +\n",
    "                                        #PC2 + PC3 + PC4 + PC5 + PC6 + PC7 + PC8 + PC9 + PC10, data=ND_UKBB, family=binomial)"
   ]
  },
  {
   "cell_type": "code",
   "execution_count": null,
   "metadata": {},
   "outputs": [],
   "source": []
  }
 ],
 "metadata": {
  "kernelspec": {
   "display_name": "acg",
   "language": "R",
   "name": "acg"
  },
  "language_info": {
   "codemirror_mode": "r",
   "file_extension": ".r",
   "mimetype": "text/x-r-source",
   "name": "R",
   "pygments_lexer": "r",
   "version": "3.6.1"
  }
 },
 "nbformat": 4,
 "nbformat_minor": 4
}
